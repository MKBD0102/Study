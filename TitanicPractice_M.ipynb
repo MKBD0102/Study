{
 "cells": [
  {
   "cell_type": "code",
   "execution_count": 1,
   "id": "daa3d556",
   "metadata": {
    "_cell_guid": "b1076dfc-b9ad-4769-8c92-a6c4dae69d19",
    "_uuid": "8f2839f25d086af736a60e9eeb907d3b93b6e0e5",
    "execution": {
     "iopub.execute_input": "2023-12-15T01:48:49.641894Z",
     "iopub.status.busy": "2023-12-15T01:48:49.641367Z",
     "iopub.status.idle": "2023-12-15T01:48:50.580589Z",
     "shell.execute_reply": "2023-12-15T01:48:50.579173Z"
    },
    "papermill": {
     "duration": 0.959762,
     "end_time": "2023-12-15T01:48:50.583943",
     "exception": false,
     "start_time": "2023-12-15T01:48:49.624181",
     "status": "completed"
    },
    "tags": []
   },
   "outputs": [
    {
     "name": "stdout",
     "output_type": "stream",
     "text": [
      "/kaggle/input/titanic/train.csv\n",
      "/kaggle/input/titanic/test.csv\n",
      "/kaggle/input/titanic/gender_submission.csv\n"
     ]
    }
   ],
   "source": [
    "# This Python 3 environment comes with many helpful analytics libraries installed\n",
    "# It is defined by the kaggle/python Docker image: https://github.com/kaggle/docker-python\n",
    "# For example, here's several helpful packages to load\n",
    "\n",
    "import numpy as np # linear algebra\n",
    "import pandas as pd # data processing, CSV file I/O (e.g. pd.read_csv)\n",
    "\n",
    "\n",
    "# Input data files are available in the read-only \"../input/\" directory\n",
    "# For example, running this (by clicking run or pressing Shift+Enter) will list all files under the input directory\n",
    "\n",
    "import os\n",
    "for dirname, _, filenames in os.walk('/kaggle/input'):\n",
    "    for filename in filenames:\n",
    "        print(os.path.join(dirname, filename))\n",
    "\n",
    "# You can write up to 20GB to the current directory (/kaggle/working/) that gets preserved as output when you create a version using \"Save & Run All\" \n",
    "# You can also write temporary files to /kaggle/temp/, but they won't be saved outside of the current session"
   ]
  },
  {
   "cell_type": "markdown",
   "id": "0b564d35",
   "metadata": {
    "papermill": {
     "duration": 0.014202,
     "end_time": "2023-12-15T01:48:50.612952",
     "exception": false,
     "start_time": "2023-12-15T01:48:50.598750",
     "status": "completed"
    },
    "tags": []
   },
   "source": [
    "# Overview\n",
    "\n",
    "## 문제 정의\n",
    "> 1912년 4월 15일 타이타닉호 침몰\n",
    "> 총 2224명 중 1502명이 사망한 사건\n",
    "- 문제 해결 목표: 생존-사망 데이터를 분석하여 생존 가능성이 더 높은 사람의 유형을 예측하는 모델 구축\n",
    "\n",
    "## train.csv 데이터 셋 설명\n",
    "- 탑승객의 일부(891명)에 대한 승객 정보\n",
    "- columns\n",
    "    - PassengerId: 승객 고유번호(int)\n",
    "    - Survived: 생존 여부(int, 0: 사망, 1: 생존)\n",
    "    - Pclass: 탑승권 등급(int, 1: 1st, 2: 2nd, 3: 3rd)\n",
    "    - Name: 승객 이름(object(str))\n",
    "    - Sex: 승객 성별(object(str))\n",
    "    - Age: 승객 나이(float, 1보다 작으면 분수, 추정된 나이는 xx.5의 형태)\n",
    "    - SibSp: 동승자 수-형제자매&부부(int, 단 정부나 약혼자는 제외) \n",
    "    - Parch: 동승자 수-부모자식(int, 단 유모와만 탄 아이는 0)\n",
    "    - Ticket: 탑승권 번호(object(str))\n",
    "    - Fare: 여객 요금(float)\n",
    "    - Cabin: 선실 번호(object(str))\n",
    "    - Embarked: 승선 항구(object(str), C: Cherbourg, Q: Queenstown, S: Southampton)"
   ]
  },
  {
   "cell_type": "code",
   "execution_count": 2,
   "id": "9ed962fd",
   "metadata": {
    "execution": {
     "iopub.execute_input": "2023-12-15T01:48:50.645876Z",
     "iopub.status.busy": "2023-12-15T01:48:50.644307Z",
     "iopub.status.idle": "2023-12-15T01:48:52.051116Z",
     "shell.execute_reply": "2023-12-15T01:48:52.049900Z"
    },
    "papermill": {
     "duration": 1.426887,
     "end_time": "2023-12-15T01:48:52.054382",
     "exception": false,
     "start_time": "2023-12-15T01:48:50.627495",
     "status": "completed"
    },
    "tags": []
   },
   "outputs": [],
   "source": [
    "# 라이브러리 import\n",
    "import numpy as np\n",
    "import pandas as pd\n",
    "import matplotlib.pyplot as plt\n",
    "import seaborn as sns"
   ]
  },
  {
   "cell_type": "markdown",
   "id": "e0c2d23e",
   "metadata": {
    "papermill": {
     "duration": 0.014823,
     "end_time": "2023-12-15T01:48:52.085250",
     "exception": false,
     "start_time": "2023-12-15T01:48:52.070427",
     "status": "completed"
    },
    "tags": []
   },
   "source": [
    "# Check Data"
   ]
  },
  {
   "cell_type": "code",
   "execution_count": 3,
   "id": "15734eae",
   "metadata": {
    "execution": {
     "iopub.execute_input": "2023-12-15T01:48:52.116940Z",
     "iopub.status.busy": "2023-12-15T01:48:52.116501Z",
     "iopub.status.idle": "2023-12-15T01:48:52.150478Z",
     "shell.execute_reply": "2023-12-15T01:48:52.149153Z"
    },
    "papermill": {
     "duration": 0.053676,
     "end_time": "2023-12-15T01:48:52.153503",
     "exception": false,
     "start_time": "2023-12-15T01:48:52.099827",
     "status": "completed"
    },
    "tags": []
   },
   "outputs": [],
   "source": [
    "# 데이터 로드\n",
    "train_df = pd.read_csv('/kaggle/input/titanic/train.csv')\n",
    "test_df = pd.read_csv('/kaggle/input/titanic/test.csv')"
   ]
  },
  {
   "cell_type": "code",
   "execution_count": 4,
   "id": "8e41a84a",
   "metadata": {
    "execution": {
     "iopub.execute_input": "2023-12-15T01:48:52.185017Z",
     "iopub.status.busy": "2023-12-15T01:48:52.184569Z",
     "iopub.status.idle": "2023-12-15T01:48:52.218532Z",
     "shell.execute_reply": "2023-12-15T01:48:52.217378Z"
    },
    "papermill": {
     "duration": 0.052695,
     "end_time": "2023-12-15T01:48:52.221322",
     "exception": false,
     "start_time": "2023-12-15T01:48:52.168627",
     "status": "completed"
    },
    "tags": []
   },
   "outputs": [
    {
     "data": {
      "text/html": [
       "<div>\n",
       "<style scoped>\n",
       "    .dataframe tbody tr th:only-of-type {\n",
       "        vertical-align: middle;\n",
       "    }\n",
       "\n",
       "    .dataframe tbody tr th {\n",
       "        vertical-align: top;\n",
       "    }\n",
       "\n",
       "    .dataframe thead th {\n",
       "        text-align: right;\n",
       "    }\n",
       "</style>\n",
       "<table border=\"1\" class=\"dataframe\">\n",
       "  <thead>\n",
       "    <tr style=\"text-align: right;\">\n",
       "      <th></th>\n",
       "      <th>PassengerId</th>\n",
       "      <th>Survived</th>\n",
       "      <th>Pclass</th>\n",
       "      <th>Name</th>\n",
       "      <th>Sex</th>\n",
       "      <th>Age</th>\n",
       "      <th>SibSp</th>\n",
       "      <th>Parch</th>\n",
       "      <th>Ticket</th>\n",
       "      <th>Fare</th>\n",
       "      <th>Cabin</th>\n",
       "      <th>Embarked</th>\n",
       "    </tr>\n",
       "  </thead>\n",
       "  <tbody>\n",
       "    <tr>\n",
       "      <th>0</th>\n",
       "      <td>1</td>\n",
       "      <td>0</td>\n",
       "      <td>3</td>\n",
       "      <td>Braund, Mr. Owen Harris</td>\n",
       "      <td>male</td>\n",
       "      <td>22.0</td>\n",
       "      <td>1</td>\n",
       "      <td>0</td>\n",
       "      <td>A/5 21171</td>\n",
       "      <td>7.2500</td>\n",
       "      <td>NaN</td>\n",
       "      <td>S</td>\n",
       "    </tr>\n",
       "    <tr>\n",
       "      <th>1</th>\n",
       "      <td>2</td>\n",
       "      <td>1</td>\n",
       "      <td>1</td>\n",
       "      <td>Cumings, Mrs. John Bradley (Florence Briggs Th...</td>\n",
       "      <td>female</td>\n",
       "      <td>38.0</td>\n",
       "      <td>1</td>\n",
       "      <td>0</td>\n",
       "      <td>PC 17599</td>\n",
       "      <td>71.2833</td>\n",
       "      <td>C85</td>\n",
       "      <td>C</td>\n",
       "    </tr>\n",
       "    <tr>\n",
       "      <th>2</th>\n",
       "      <td>3</td>\n",
       "      <td>1</td>\n",
       "      <td>3</td>\n",
       "      <td>Heikkinen, Miss. Laina</td>\n",
       "      <td>female</td>\n",
       "      <td>26.0</td>\n",
       "      <td>0</td>\n",
       "      <td>0</td>\n",
       "      <td>STON/O2. 3101282</td>\n",
       "      <td>7.9250</td>\n",
       "      <td>NaN</td>\n",
       "      <td>S</td>\n",
       "    </tr>\n",
       "    <tr>\n",
       "      <th>3</th>\n",
       "      <td>4</td>\n",
       "      <td>1</td>\n",
       "      <td>1</td>\n",
       "      <td>Futrelle, Mrs. Jacques Heath (Lily May Peel)</td>\n",
       "      <td>female</td>\n",
       "      <td>35.0</td>\n",
       "      <td>1</td>\n",
       "      <td>0</td>\n",
       "      <td>113803</td>\n",
       "      <td>53.1000</td>\n",
       "      <td>C123</td>\n",
       "      <td>S</td>\n",
       "    </tr>\n",
       "    <tr>\n",
       "      <th>4</th>\n",
       "      <td>5</td>\n",
       "      <td>0</td>\n",
       "      <td>3</td>\n",
       "      <td>Allen, Mr. William Henry</td>\n",
       "      <td>male</td>\n",
       "      <td>35.0</td>\n",
       "      <td>0</td>\n",
       "      <td>0</td>\n",
       "      <td>373450</td>\n",
       "      <td>8.0500</td>\n",
       "      <td>NaN</td>\n",
       "      <td>S</td>\n",
       "    </tr>\n",
       "  </tbody>\n",
       "</table>\n",
       "</div>"
      ],
      "text/plain": [
       "   PassengerId  Survived  Pclass  \\\n",
       "0            1         0       3   \n",
       "1            2         1       1   \n",
       "2            3         1       3   \n",
       "3            4         1       1   \n",
       "4            5         0       3   \n",
       "\n",
       "                                                Name     Sex   Age  SibSp  \\\n",
       "0                            Braund, Mr. Owen Harris    male  22.0      1   \n",
       "1  Cumings, Mrs. John Bradley (Florence Briggs Th...  female  38.0      1   \n",
       "2                             Heikkinen, Miss. Laina  female  26.0      0   \n",
       "3       Futrelle, Mrs. Jacques Heath (Lily May Peel)  female  35.0      1   \n",
       "4                           Allen, Mr. William Henry    male  35.0      0   \n",
       "\n",
       "   Parch            Ticket     Fare Cabin Embarked  \n",
       "0      0         A/5 21171   7.2500   NaN        S  \n",
       "1      0          PC 17599  71.2833   C85        C  \n",
       "2      0  STON/O2. 3101282   7.9250   NaN        S  \n",
       "3      0            113803  53.1000  C123        S  \n",
       "4      0            373450   8.0500   NaN        S  "
      ]
     },
     "execution_count": 4,
     "metadata": {},
     "output_type": "execute_result"
    }
   ],
   "source": [
    "train_df.head()"
   ]
  },
  {
   "cell_type": "code",
   "execution_count": 5,
   "id": "6d5f3ea8",
   "metadata": {
    "execution": {
     "iopub.execute_input": "2023-12-15T01:48:52.255177Z",
     "iopub.status.busy": "2023-12-15T01:48:52.254389Z",
     "iopub.status.idle": "2023-12-15T01:48:52.272979Z",
     "shell.execute_reply": "2023-12-15T01:48:52.271679Z"
    },
    "papermill": {
     "duration": 0.038959,
     "end_time": "2023-12-15T01:48:52.275804",
     "exception": false,
     "start_time": "2023-12-15T01:48:52.236845",
     "status": "completed"
    },
    "tags": []
   },
   "outputs": [
    {
     "data": {
      "text/html": [
       "<div>\n",
       "<style scoped>\n",
       "    .dataframe tbody tr th:only-of-type {\n",
       "        vertical-align: middle;\n",
       "    }\n",
       "\n",
       "    .dataframe tbody tr th {\n",
       "        vertical-align: top;\n",
       "    }\n",
       "\n",
       "    .dataframe thead th {\n",
       "        text-align: right;\n",
       "    }\n",
       "</style>\n",
       "<table border=\"1\" class=\"dataframe\">\n",
       "  <thead>\n",
       "    <tr style=\"text-align: right;\">\n",
       "      <th></th>\n",
       "      <th>PassengerId</th>\n",
       "      <th>Pclass</th>\n",
       "      <th>Name</th>\n",
       "      <th>Sex</th>\n",
       "      <th>Age</th>\n",
       "      <th>SibSp</th>\n",
       "      <th>Parch</th>\n",
       "      <th>Ticket</th>\n",
       "      <th>Fare</th>\n",
       "      <th>Cabin</th>\n",
       "      <th>Embarked</th>\n",
       "    </tr>\n",
       "  </thead>\n",
       "  <tbody>\n",
       "    <tr>\n",
       "      <th>0</th>\n",
       "      <td>892</td>\n",
       "      <td>3</td>\n",
       "      <td>Kelly, Mr. James</td>\n",
       "      <td>male</td>\n",
       "      <td>34.5</td>\n",
       "      <td>0</td>\n",
       "      <td>0</td>\n",
       "      <td>330911</td>\n",
       "      <td>7.8292</td>\n",
       "      <td>NaN</td>\n",
       "      <td>Q</td>\n",
       "    </tr>\n",
       "    <tr>\n",
       "      <th>1</th>\n",
       "      <td>893</td>\n",
       "      <td>3</td>\n",
       "      <td>Wilkes, Mrs. James (Ellen Needs)</td>\n",
       "      <td>female</td>\n",
       "      <td>47.0</td>\n",
       "      <td>1</td>\n",
       "      <td>0</td>\n",
       "      <td>363272</td>\n",
       "      <td>7.0000</td>\n",
       "      <td>NaN</td>\n",
       "      <td>S</td>\n",
       "    </tr>\n",
       "    <tr>\n",
       "      <th>2</th>\n",
       "      <td>894</td>\n",
       "      <td>2</td>\n",
       "      <td>Myles, Mr. Thomas Francis</td>\n",
       "      <td>male</td>\n",
       "      <td>62.0</td>\n",
       "      <td>0</td>\n",
       "      <td>0</td>\n",
       "      <td>240276</td>\n",
       "      <td>9.6875</td>\n",
       "      <td>NaN</td>\n",
       "      <td>Q</td>\n",
       "    </tr>\n",
       "    <tr>\n",
       "      <th>3</th>\n",
       "      <td>895</td>\n",
       "      <td>3</td>\n",
       "      <td>Wirz, Mr. Albert</td>\n",
       "      <td>male</td>\n",
       "      <td>27.0</td>\n",
       "      <td>0</td>\n",
       "      <td>0</td>\n",
       "      <td>315154</td>\n",
       "      <td>8.6625</td>\n",
       "      <td>NaN</td>\n",
       "      <td>S</td>\n",
       "    </tr>\n",
       "    <tr>\n",
       "      <th>4</th>\n",
       "      <td>896</td>\n",
       "      <td>3</td>\n",
       "      <td>Hirvonen, Mrs. Alexander (Helga E Lindqvist)</td>\n",
       "      <td>female</td>\n",
       "      <td>22.0</td>\n",
       "      <td>1</td>\n",
       "      <td>1</td>\n",
       "      <td>3101298</td>\n",
       "      <td>12.2875</td>\n",
       "      <td>NaN</td>\n",
       "      <td>S</td>\n",
       "    </tr>\n",
       "  </tbody>\n",
       "</table>\n",
       "</div>"
      ],
      "text/plain": [
       "   PassengerId  Pclass                                          Name     Sex  \\\n",
       "0          892       3                              Kelly, Mr. James    male   \n",
       "1          893       3              Wilkes, Mrs. James (Ellen Needs)  female   \n",
       "2          894       2                     Myles, Mr. Thomas Francis    male   \n",
       "3          895       3                              Wirz, Mr. Albert    male   \n",
       "4          896       3  Hirvonen, Mrs. Alexander (Helga E Lindqvist)  female   \n",
       "\n",
       "    Age  SibSp  Parch   Ticket     Fare Cabin Embarked  \n",
       "0  34.5      0      0   330911   7.8292   NaN        Q  \n",
       "1  47.0      1      0   363272   7.0000   NaN        S  \n",
       "2  62.0      0      0   240276   9.6875   NaN        Q  \n",
       "3  27.0      0      0   315154   8.6625   NaN        S  \n",
       "4  22.0      1      1  3101298  12.2875   NaN        S  "
      ]
     },
     "execution_count": 5,
     "metadata": {},
     "output_type": "execute_result"
    }
   ],
   "source": [
    "test_df.head()"
   ]
  },
  {
   "cell_type": "code",
   "execution_count": 6,
   "id": "d85fb731",
   "metadata": {
    "execution": {
     "iopub.execute_input": "2023-12-15T01:48:52.309420Z",
     "iopub.status.busy": "2023-12-15T01:48:52.308995Z",
     "iopub.status.idle": "2023-12-15T01:48:52.420997Z",
     "shell.execute_reply": "2023-12-15T01:48:52.419426Z"
    },
    "papermill": {
     "duration": 0.132222,
     "end_time": "2023-12-15T01:48:52.423538",
     "exception": false,
     "start_time": "2023-12-15T01:48:52.291316",
     "status": "completed"
    },
    "tags": []
   },
   "outputs": [
    {
     "name": "stdout",
     "output_type": "stream",
     "text": [
      "<class 'pandas.core.frame.DataFrame'>\n",
      "RangeIndex: 891 entries, 0 to 890\n",
      "Data columns (total 12 columns):\n",
      " #   Column       Non-Null Count  Dtype  \n",
      "---  ------       --------------  -----  \n",
      " 0   PassengerId  891 non-null    int64  \n",
      " 1   Survived     891 non-null    int64  \n",
      " 2   Pclass       891 non-null    int64  \n",
      " 3   Name         891 non-null    object \n",
      " 4   Sex          891 non-null    object \n",
      " 5   Age          714 non-null    float64\n",
      " 6   SibSp        891 non-null    int64  \n",
      " 7   Parch        891 non-null    int64  \n",
      " 8   Ticket       891 non-null    object \n",
      " 9   Fare         891 non-null    float64\n",
      " 10  Cabin        204 non-null    object \n",
      " 11  Embarked     889 non-null    object \n",
      "dtypes: float64(2), int64(5), object(5)\n",
      "memory usage: 83.7+ KB\n"
     ]
    }
   ],
   "source": [
    "train_df.info()"
   ]
  },
  {
   "cell_type": "code",
   "execution_count": 7,
   "id": "8ec4d9b8",
   "metadata": {
    "execution": {
     "iopub.execute_input": "2023-12-15T01:48:52.457180Z",
     "iopub.status.busy": "2023-12-15T01:48:52.456479Z",
     "iopub.status.idle": "2023-12-15T01:48:52.465845Z",
     "shell.execute_reply": "2023-12-15T01:48:52.464769Z"
    },
    "papermill": {
     "duration": 0.029249,
     "end_time": "2023-12-15T01:48:52.468610",
     "exception": false,
     "start_time": "2023-12-15T01:48:52.439361",
     "status": "completed"
    },
    "tags": []
   },
   "outputs": [
    {
     "data": {
      "text/plain": [
       "PassengerId      0\n",
       "Survived         0\n",
       "Pclass           0\n",
       "Name             0\n",
       "Sex              0\n",
       "Age            177\n",
       "SibSp            0\n",
       "Parch            0\n",
       "Ticket           0\n",
       "Fare             0\n",
       "Cabin          687\n",
       "Embarked         2\n",
       "dtype: int64"
      ]
     },
     "execution_count": 7,
     "metadata": {},
     "output_type": "execute_result"
    }
   ],
   "source": [
    "train_df.isnull().sum()"
   ]
  },
  {
   "cell_type": "code",
   "execution_count": 8,
   "id": "2800353d",
   "metadata": {
    "execution": {
     "iopub.execute_input": "2023-12-15T01:48:52.502059Z",
     "iopub.status.busy": "2023-12-15T01:48:52.501670Z",
     "iopub.status.idle": "2023-12-15T01:48:52.515610Z",
     "shell.execute_reply": "2023-12-15T01:48:52.513960Z"
    },
    "papermill": {
     "duration": 0.034169,
     "end_time": "2023-12-15T01:48:52.518416",
     "exception": false,
     "start_time": "2023-12-15T01:48:52.484247",
     "status": "completed"
    },
    "tags": []
   },
   "outputs": [
    {
     "name": "stdout",
     "output_type": "stream",
     "text": [
      "<class 'pandas.core.frame.DataFrame'>\n",
      "RangeIndex: 418 entries, 0 to 417\n",
      "Data columns (total 11 columns):\n",
      " #   Column       Non-Null Count  Dtype  \n",
      "---  ------       --------------  -----  \n",
      " 0   PassengerId  418 non-null    int64  \n",
      " 1   Pclass       418 non-null    int64  \n",
      " 2   Name         418 non-null    object \n",
      " 3   Sex          418 non-null    object \n",
      " 4   Age          332 non-null    float64\n",
      " 5   SibSp        418 non-null    int64  \n",
      " 6   Parch        418 non-null    int64  \n",
      " 7   Ticket       418 non-null    object \n",
      " 8   Fare         417 non-null    float64\n",
      " 9   Cabin        91 non-null     object \n",
      " 10  Embarked     418 non-null    object \n",
      "dtypes: float64(2), int64(4), object(5)\n",
      "memory usage: 36.0+ KB\n"
     ]
    }
   ],
   "source": [
    "test_df.info()"
   ]
  },
  {
   "cell_type": "code",
   "execution_count": 9,
   "id": "b03b1a1e",
   "metadata": {
    "execution": {
     "iopub.execute_input": "2023-12-15T01:48:52.553123Z",
     "iopub.status.busy": "2023-12-15T01:48:52.552255Z",
     "iopub.status.idle": "2023-12-15T01:48:52.562685Z",
     "shell.execute_reply": "2023-12-15T01:48:52.561246Z"
    },
    "papermill": {
     "duration": 0.030553,
     "end_time": "2023-12-15T01:48:52.565267",
     "exception": false,
     "start_time": "2023-12-15T01:48:52.534714",
     "status": "completed"
    },
    "tags": []
   },
   "outputs": [
    {
     "data": {
      "text/plain": [
       "PassengerId      0\n",
       "Pclass           0\n",
       "Name             0\n",
       "Sex              0\n",
       "Age             86\n",
       "SibSp            0\n",
       "Parch            0\n",
       "Ticket           0\n",
       "Fare             1\n",
       "Cabin          327\n",
       "Embarked         0\n",
       "dtype: int64"
      ]
     },
     "execution_count": 9,
     "metadata": {},
     "output_type": "execute_result"
    }
   ],
   "source": [
    "test_df.isnull().sum()"
   ]
  },
  {
   "cell_type": "markdown",
   "id": "60c54d90",
   "metadata": {
    "papermill": {
     "duration": 0.015592,
     "end_time": "2023-12-15T01:48:52.662254",
     "exception": false,
     "start_time": "2023-12-15T01:48:52.646662",
     "status": "completed"
    },
    "tags": []
   },
   "source": [
    "# EDA"
   ]
  },
  {
   "cell_type": "markdown",
   "id": "e06fbee0",
   "metadata": {
    "papermill": {
     "duration": 0.015625,
     "end_time": "2023-12-15T01:48:52.693811",
     "exception": false,
     "start_time": "2023-12-15T01:48:52.678186",
     "status": "completed"
    },
    "tags": []
   },
   "source": [
    "## 데이터 형태 파악\n",
    "- train_df와 test_df의 차이: Survived 컬럼 유무, train_df는 지도학습을 위해 Survived 정보 있고, test_df는 예측을 위해 Survived 컬럼 없음<br/>\n",
    "&rarr; target 변수: Survived\n",
    "- train_df Null coloumns: 나이, 선실, 승선 항구\n",
    "- test_df Null columns: 나이, 여객 요금, 선실"
   ]
  },
  {
   "cell_type": "code",
   "execution_count": 10,
   "id": "a54d9c71",
   "metadata": {
    "execution": {
     "iopub.execute_input": "2023-12-15T01:48:52.727999Z",
     "iopub.status.busy": "2023-12-15T01:48:52.727588Z",
     "iopub.status.idle": "2023-12-15T01:48:52.763416Z",
     "shell.execute_reply": "2023-12-15T01:48:52.762175Z"
    },
    "papermill": {
     "duration": 0.055967,
     "end_time": "2023-12-15T01:48:52.766144",
     "exception": false,
     "start_time": "2023-12-15T01:48:52.710177",
     "status": "completed"
    },
    "tags": []
   },
   "outputs": [
    {
     "data": {
      "text/html": [
       "<div>\n",
       "<style scoped>\n",
       "    .dataframe tbody tr th:only-of-type {\n",
       "        vertical-align: middle;\n",
       "    }\n",
       "\n",
       "    .dataframe tbody tr th {\n",
       "        vertical-align: top;\n",
       "    }\n",
       "\n",
       "    .dataframe thead th {\n",
       "        text-align: right;\n",
       "    }\n",
       "</style>\n",
       "<table border=\"1\" class=\"dataframe\">\n",
       "  <thead>\n",
       "    <tr style=\"text-align: right;\">\n",
       "      <th></th>\n",
       "      <th>PassengerId</th>\n",
       "      <th>Survived</th>\n",
       "      <th>Pclass</th>\n",
       "      <th>Age</th>\n",
       "      <th>SibSp</th>\n",
       "      <th>Parch</th>\n",
       "      <th>Fare</th>\n",
       "    </tr>\n",
       "  </thead>\n",
       "  <tbody>\n",
       "    <tr>\n",
       "      <th>count</th>\n",
       "      <td>891.000000</td>\n",
       "      <td>891.000000</td>\n",
       "      <td>891.000000</td>\n",
       "      <td>714.000000</td>\n",
       "      <td>891.000000</td>\n",
       "      <td>891.000000</td>\n",
       "      <td>891.000000</td>\n",
       "    </tr>\n",
       "    <tr>\n",
       "      <th>mean</th>\n",
       "      <td>446.000000</td>\n",
       "      <td>0.383838</td>\n",
       "      <td>2.308642</td>\n",
       "      <td>29.699118</td>\n",
       "      <td>0.523008</td>\n",
       "      <td>0.381594</td>\n",
       "      <td>32.204208</td>\n",
       "    </tr>\n",
       "    <tr>\n",
       "      <th>std</th>\n",
       "      <td>257.353842</td>\n",
       "      <td>0.486592</td>\n",
       "      <td>0.836071</td>\n",
       "      <td>14.526497</td>\n",
       "      <td>1.102743</td>\n",
       "      <td>0.806057</td>\n",
       "      <td>49.693429</td>\n",
       "    </tr>\n",
       "    <tr>\n",
       "      <th>min</th>\n",
       "      <td>1.000000</td>\n",
       "      <td>0.000000</td>\n",
       "      <td>1.000000</td>\n",
       "      <td>0.420000</td>\n",
       "      <td>0.000000</td>\n",
       "      <td>0.000000</td>\n",
       "      <td>0.000000</td>\n",
       "    </tr>\n",
       "    <tr>\n",
       "      <th>25%</th>\n",
       "      <td>223.500000</td>\n",
       "      <td>0.000000</td>\n",
       "      <td>2.000000</td>\n",
       "      <td>20.125000</td>\n",
       "      <td>0.000000</td>\n",
       "      <td>0.000000</td>\n",
       "      <td>7.910400</td>\n",
       "    </tr>\n",
       "    <tr>\n",
       "      <th>50%</th>\n",
       "      <td>446.000000</td>\n",
       "      <td>0.000000</td>\n",
       "      <td>3.000000</td>\n",
       "      <td>28.000000</td>\n",
       "      <td>0.000000</td>\n",
       "      <td>0.000000</td>\n",
       "      <td>14.454200</td>\n",
       "    </tr>\n",
       "    <tr>\n",
       "      <th>75%</th>\n",
       "      <td>668.500000</td>\n",
       "      <td>1.000000</td>\n",
       "      <td>3.000000</td>\n",
       "      <td>38.000000</td>\n",
       "      <td>1.000000</td>\n",
       "      <td>0.000000</td>\n",
       "      <td>31.000000</td>\n",
       "    </tr>\n",
       "    <tr>\n",
       "      <th>max</th>\n",
       "      <td>891.000000</td>\n",
       "      <td>1.000000</td>\n",
       "      <td>3.000000</td>\n",
       "      <td>80.000000</td>\n",
       "      <td>8.000000</td>\n",
       "      <td>6.000000</td>\n",
       "      <td>512.329200</td>\n",
       "    </tr>\n",
       "  </tbody>\n",
       "</table>\n",
       "</div>"
      ],
      "text/plain": [
       "       PassengerId    Survived      Pclass         Age       SibSp  \\\n",
       "count   891.000000  891.000000  891.000000  714.000000  891.000000   \n",
       "mean    446.000000    0.383838    2.308642   29.699118    0.523008   \n",
       "std     257.353842    0.486592    0.836071   14.526497    1.102743   \n",
       "min       1.000000    0.000000    1.000000    0.420000    0.000000   \n",
       "25%     223.500000    0.000000    2.000000   20.125000    0.000000   \n",
       "50%     446.000000    0.000000    3.000000   28.000000    0.000000   \n",
       "75%     668.500000    1.000000    3.000000   38.000000    1.000000   \n",
       "max     891.000000    1.000000    3.000000   80.000000    8.000000   \n",
       "\n",
       "            Parch        Fare  \n",
       "count  891.000000  891.000000  \n",
       "mean     0.381594   32.204208  \n",
       "std      0.806057   49.693429  \n",
       "min      0.000000    0.000000  \n",
       "25%      0.000000    7.910400  \n",
       "50%      0.000000   14.454200  \n",
       "75%      0.000000   31.000000  \n",
       "max      6.000000  512.329200  "
      ]
     },
     "execution_count": 10,
     "metadata": {},
     "output_type": "execute_result"
    }
   ],
   "source": [
    "train_df.describe() # data type이 수치형인 변수들의 통계치"
   ]
  },
  {
   "cell_type": "code",
   "execution_count": 11,
   "id": "74b01b93",
   "metadata": {
    "execution": {
     "iopub.execute_input": "2023-12-15T01:48:52.802230Z",
     "iopub.status.busy": "2023-12-15T01:48:52.801552Z",
     "iopub.status.idle": "2023-12-15T01:48:52.833465Z",
     "shell.execute_reply": "2023-12-15T01:48:52.832165Z"
    },
    "papermill": {
     "duration": 0.05363,
     "end_time": "2023-12-15T01:48:52.836205",
     "exception": false,
     "start_time": "2023-12-15T01:48:52.782575",
     "status": "completed"
    },
    "tags": []
   },
   "outputs": [
    {
     "data": {
      "text/html": [
       "<div>\n",
       "<style scoped>\n",
       "    .dataframe tbody tr th:only-of-type {\n",
       "        vertical-align: middle;\n",
       "    }\n",
       "\n",
       "    .dataframe tbody tr th {\n",
       "        vertical-align: top;\n",
       "    }\n",
       "\n",
       "    .dataframe thead th {\n",
       "        text-align: right;\n",
       "    }\n",
       "</style>\n",
       "<table border=\"1\" class=\"dataframe\">\n",
       "  <thead>\n",
       "    <tr style=\"text-align: right;\">\n",
       "      <th></th>\n",
       "      <th>PassengerId</th>\n",
       "      <th>Pclass</th>\n",
       "      <th>Age</th>\n",
       "      <th>SibSp</th>\n",
       "      <th>Parch</th>\n",
       "      <th>Fare</th>\n",
       "    </tr>\n",
       "  </thead>\n",
       "  <tbody>\n",
       "    <tr>\n",
       "      <th>count</th>\n",
       "      <td>418.000000</td>\n",
       "      <td>418.000000</td>\n",
       "      <td>332.000000</td>\n",
       "      <td>418.000000</td>\n",
       "      <td>418.000000</td>\n",
       "      <td>417.000000</td>\n",
       "    </tr>\n",
       "    <tr>\n",
       "      <th>mean</th>\n",
       "      <td>1100.500000</td>\n",
       "      <td>2.265550</td>\n",
       "      <td>30.272590</td>\n",
       "      <td>0.447368</td>\n",
       "      <td>0.392344</td>\n",
       "      <td>35.627188</td>\n",
       "    </tr>\n",
       "    <tr>\n",
       "      <th>std</th>\n",
       "      <td>120.810458</td>\n",
       "      <td>0.841838</td>\n",
       "      <td>14.181209</td>\n",
       "      <td>0.896760</td>\n",
       "      <td>0.981429</td>\n",
       "      <td>55.907576</td>\n",
       "    </tr>\n",
       "    <tr>\n",
       "      <th>min</th>\n",
       "      <td>892.000000</td>\n",
       "      <td>1.000000</td>\n",
       "      <td>0.170000</td>\n",
       "      <td>0.000000</td>\n",
       "      <td>0.000000</td>\n",
       "      <td>0.000000</td>\n",
       "    </tr>\n",
       "    <tr>\n",
       "      <th>25%</th>\n",
       "      <td>996.250000</td>\n",
       "      <td>1.000000</td>\n",
       "      <td>21.000000</td>\n",
       "      <td>0.000000</td>\n",
       "      <td>0.000000</td>\n",
       "      <td>7.895800</td>\n",
       "    </tr>\n",
       "    <tr>\n",
       "      <th>50%</th>\n",
       "      <td>1100.500000</td>\n",
       "      <td>3.000000</td>\n",
       "      <td>27.000000</td>\n",
       "      <td>0.000000</td>\n",
       "      <td>0.000000</td>\n",
       "      <td>14.454200</td>\n",
       "    </tr>\n",
       "    <tr>\n",
       "      <th>75%</th>\n",
       "      <td>1204.750000</td>\n",
       "      <td>3.000000</td>\n",
       "      <td>39.000000</td>\n",
       "      <td>1.000000</td>\n",
       "      <td>0.000000</td>\n",
       "      <td>31.500000</td>\n",
       "    </tr>\n",
       "    <tr>\n",
       "      <th>max</th>\n",
       "      <td>1309.000000</td>\n",
       "      <td>3.000000</td>\n",
       "      <td>76.000000</td>\n",
       "      <td>8.000000</td>\n",
       "      <td>9.000000</td>\n",
       "      <td>512.329200</td>\n",
       "    </tr>\n",
       "  </tbody>\n",
       "</table>\n",
       "</div>"
      ],
      "text/plain": [
       "       PassengerId      Pclass         Age       SibSp       Parch        Fare\n",
       "count   418.000000  418.000000  332.000000  418.000000  418.000000  417.000000\n",
       "mean   1100.500000    2.265550   30.272590    0.447368    0.392344   35.627188\n",
       "std     120.810458    0.841838   14.181209    0.896760    0.981429   55.907576\n",
       "min     892.000000    1.000000    0.170000    0.000000    0.000000    0.000000\n",
       "25%     996.250000    1.000000   21.000000    0.000000    0.000000    7.895800\n",
       "50%    1100.500000    3.000000   27.000000    0.000000    0.000000   14.454200\n",
       "75%    1204.750000    3.000000   39.000000    1.000000    0.000000   31.500000\n",
       "max    1309.000000    3.000000   76.000000    8.000000    9.000000  512.329200"
      ]
     },
     "execution_count": 11,
     "metadata": {},
     "output_type": "execute_result"
    }
   ],
   "source": [
    "test_df.describe()"
   ]
  },
  {
   "cell_type": "markdown",
   "id": "692e98b9",
   "metadata": {
    "papermill": {
     "duration": 0.016757,
     "end_time": "2023-12-15T01:48:52.869730",
     "exception": false,
     "start_time": "2023-12-15T01:48:52.852973",
     "status": "completed"
    },
    "tags": []
   },
   "source": [
    "## Categorical 변수들 생존-사망 시각화\n",
    "- Survived: target, 종속 변수, 0 or 1 categorical\n",
    "- Pclass: 독립변수, 1 or 2 or 3 categorical\n",
    "- Sex: 독립변수, male or female categorical\n",
    "- Embarked: 독립변수, C or Q or S categorical\n",
    "<br/><br/>\n",
    "1. Survived 개수 -> 불균형 데이터 확인  \n",
    "2. 독립변수에 따른 Survived 개수 -> 데이터 분포 확인"
   ]
  },
  {
   "cell_type": "code",
   "execution_count": 12,
   "id": "e21e2326",
   "metadata": {
    "execution": {
     "iopub.execute_input": "2023-12-15T01:48:52.907386Z",
     "iopub.status.busy": "2023-12-15T01:48:52.906956Z",
     "iopub.status.idle": "2023-12-15T01:48:53.344250Z",
     "shell.execute_reply": "2023-12-15T01:48:53.343142Z"
    },
    "papermill": {
     "duration": 0.461168,
     "end_time": "2023-12-15T01:48:53.348517",
     "exception": false,
     "start_time": "2023-12-15T01:48:52.887349",
     "status": "completed"
    },
    "tags": []
   },
   "outputs": [
    {
     "data": {
      "image/png": "[encoded data removed]",
      "text/plain": [
       "<Figure size 1000x500 with 2 Axes>"
      ]
     },
     "metadata": {},
     "output_type": "display_data"
    },
    {
     "name": "stdout",
     "output_type": "stream",
     "text": [
      "Survived\n",
      "0    549\n",
      "1    342\n",
      "Name: count, dtype: int64\n"
     ]
    }
   ],
   "source": [
    "plt.figure(figsize=(10,5))\n",
    "colors = sns.color_palette('pastel')\n",
    "\n",
    "plt.subplot(1,2,1)\n",
    "sns.set_style('whitegrid')\n",
    "sns.countplot(train_df,x='Survived', hue = 'Survived', palette = colors)\n",
    "\n",
    "plt.subplot(1,2,2)\n",
    "plt.pie(train_df['Survived'].value_counts().values, labels = [0, 1], colors = colors, autopct = '%.2f' )\n",
    "plt.legend(title='Survived')\n",
    "\n",
    "plt.show()\n",
    "\n",
    "print(train_df['Survived'].value_counts())"
   ]
  },
  {
   "cell_type": "code",
   "execution_count": 13,
   "id": "c6853f3f",
   "metadata": {
    "execution": {
     "iopub.execute_input": "2023-12-15T01:48:53.385283Z",
     "iopub.status.busy": "2023-12-15T01:48:53.384872Z",
     "iopub.status.idle": "2023-12-15T01:48:54.076611Z",
     "shell.execute_reply": "2023-12-15T01:48:54.075294Z"
    },
    "papermill": {
     "duration": 0.713366,
     "end_time": "2023-12-15T01:48:54.079691",
     "exception": false,
     "start_time": "2023-12-15T01:48:53.366325",
     "status": "completed"
    },
    "tags": []
   },
   "outputs": [
    {
     "data": {
      "text/html": [
       "<div>\n",
       "<style scoped>\n",
       "    .dataframe tbody tr th:only-of-type {\n",
       "        vertical-align: middle;\n",
       "    }\n",
       "\n",
       "    .dataframe tbody tr th {\n",
       "        vertical-align: top;\n",
       "    }\n",
       "\n",
       "    .dataframe thead th {\n",
       "        text-align: right;\n",
       "    }\n",
       "</style>\n",
       "<table border=\"1\" class=\"dataframe\">\n",
       "  <thead>\n",
       "    <tr style=\"text-align: right;\">\n",
       "      <th>Survived</th>\n",
       "      <th>0</th>\n",
       "      <th>1</th>\n",
       "    </tr>\n",
       "    <tr>\n",
       "      <th>Pclass</th>\n",
       "      <th></th>\n",
       "      <th></th>\n",
       "    </tr>\n",
       "  </thead>\n",
       "  <tbody>\n",
       "    <tr>\n",
       "      <th>1</th>\n",
       "      <td>80</td>\n",
       "      <td>136</td>\n",
       "    </tr>\n",
       "    <tr>\n",
       "      <th>2</th>\n",
       "      <td>97</td>\n",
       "      <td>87</td>\n",
       "    </tr>\n",
       "    <tr>\n",
       "      <th>3</th>\n",
       "      <td>372</td>\n",
       "      <td>119</td>\n",
       "    </tr>\n",
       "  </tbody>\n",
       "</table>\n",
       "</div>"
      ],
      "text/plain": [
       "Survived    0    1\n",
       "Pclass            \n",
       "1          80  136\n",
       "2          97   87\n",
       "3         372  119"
      ]
     },
     "execution_count": 13,
     "metadata": {},
     "output_type": "execute_result"
    },
    {
     "data": {
      "text/plain": [
       "<Figure size 800x400 with 0 Axes>"
      ]
     },
     "metadata": {},
     "output_type": "display_data"
    },
    {
     "data": {
      "image/png": "[encoded data removed]",
      "text/plain": [
       "<Figure size 572.111x500 with 1 Axes>"
      ]
     },
     "metadata": {},
     "output_type": "display_data"
    }
   ],
   "source": [
    "plt.figure(figsize=(8,4))\n",
    "\n",
    "sns.set_style('whitegrid')\n",
    "sns.catplot(train_df, x='Pclass', hue = 'Survived', palette = 'pastel', kind = 'count')\n",
    "train_df.groupby(['Pclass','Survived']).size().unstack()"
   ]
  },
  {
   "cell_type": "code",
   "execution_count": 14,
   "id": "15d90b84",
   "metadata": {
    "execution": {
     "iopub.execute_input": "2023-12-15T01:48:54.119471Z",
     "iopub.status.busy": "2023-12-15T01:48:54.118677Z",
     "iopub.status.idle": "2023-12-15T01:48:54.757943Z",
     "shell.execute_reply": "2023-12-15T01:48:54.756724Z"
    },
    "papermill": {
     "duration": 0.662601,
     "end_time": "2023-12-15T01:48:54.761590",
     "exception": false,
     "start_time": "2023-12-15T01:48:54.098989",
     "status": "completed"
    },
    "tags": []
   },
   "outputs": [
    {
     "data": {
      "text/html": [
       "<div>\n",
       "<style scoped>\n",
       "    .dataframe tbody tr th:only-of-type {\n",
       "        vertical-align: middle;\n",
       "    }\n",
       "\n",
       "    .dataframe tbody tr th {\n",
       "        vertical-align: top;\n",
       "    }\n",
       "\n",
       "    .dataframe thead th {\n",
       "        text-align: right;\n",
       "    }\n",
       "</style>\n",
       "<table border=\"1\" class=\"dataframe\">\n",
       "  <thead>\n",
       "    <tr style=\"text-align: right;\">\n",
       "      <th>Survived</th>\n",
       "      <th>0</th>\n",
       "      <th>1</th>\n",
       "    </tr>\n",
       "    <tr>\n",
       "      <th>Sex</th>\n",
       "      <th></th>\n",
       "      <th></th>\n",
       "    </tr>\n",
       "  </thead>\n",
       "  <tbody>\n",
       "    <tr>\n",
       "      <th>female</th>\n",
       "      <td>81</td>\n",
       "      <td>233</td>\n",
       "    </tr>\n",
       "    <tr>\n",
       "      <th>male</th>\n",
       "      <td>468</td>\n",
       "      <td>109</td>\n",
       "    </tr>\n",
       "  </tbody>\n",
       "</table>\n",
       "</div>"
      ],
      "text/plain": [
       "Survived    0    1\n",
       "Sex               \n",
       "female     81  233\n",
       "male      468  109"
      ]
     },
     "execution_count": 14,
     "metadata": {},
     "output_type": "execute_result"
    },
    {
     "data": {
      "text/plain": [
       "<Figure size 800x400 with 0 Axes>"
      ]
     },
     "metadata": {},
     "output_type": "display_data"
    },
    {
     "data": {
      "image/png": "[encoded data removed]",
      "text/plain": [
       "<Figure size 572.111x500 with 1 Axes>"
      ]
     },
     "metadata": {},
     "output_type": "display_data"
    }
   ],
   "source": [
    "plt.figure(figsize=(8,4))\n",
    "\n",
    "sns.set_style('whitegrid')\n",
    "sns.catplot(train_df, x='Sex', hue = 'Survived', palette = 'pastel', kind = 'count')\n",
    "train_df.groupby(['Sex','Survived']).size().unstack()"
   ]
  },
  {
   "cell_type": "code",
   "execution_count": 15,
   "id": "f2ae3109",
   "metadata": {
    "execution": {
     "iopub.execute_input": "2023-12-15T01:48:54.806949Z",
     "iopub.status.busy": "2023-12-15T01:48:54.806545Z",
     "iopub.status.idle": "2023-12-15T01:48:55.404014Z",
     "shell.execute_reply": "2023-12-15T01:48:55.402691Z"
    },
    "papermill": {
     "duration": 0.621619,
     "end_time": "2023-12-15T01:48:55.406636",
     "exception": false,
     "start_time": "2023-12-15T01:48:54.785017",
     "status": "completed"
    },
    "tags": []
   },
   "outputs": [
    {
     "data": {
      "text/html": [
       "<div>\n",
       "<style scoped>\n",
       "    .dataframe tbody tr th:only-of-type {\n",
       "        vertical-align: middle;\n",
       "    }\n",
       "\n",
       "    .dataframe tbody tr th {\n",
       "        vertical-align: top;\n",
       "    }\n",
       "\n",
       "    .dataframe thead th {\n",
       "        text-align: right;\n",
       "    }\n",
       "</style>\n",
       "<table border=\"1\" class=\"dataframe\">\n",
       "  <thead>\n",
       "    <tr style=\"text-align: right;\">\n",
       "      <th>Survived</th>\n",
       "      <th>0</th>\n",
       "      <th>1</th>\n",
       "    </tr>\n",
       "    <tr>\n",
       "      <th>Embarked</th>\n",
       "      <th></th>\n",
       "      <th></th>\n",
       "    </tr>\n",
       "  </thead>\n",
       "  <tbody>\n",
       "    <tr>\n",
       "      <th>C</th>\n",
       "      <td>75</td>\n",
       "      <td>93</td>\n",
       "    </tr>\n",
       "    <tr>\n",
       "      <th>Q</th>\n",
       "      <td>47</td>\n",
       "      <td>30</td>\n",
       "    </tr>\n",
       "    <tr>\n",
       "      <th>S</th>\n",
       "      <td>427</td>\n",
       "      <td>217</td>\n",
       "    </tr>\n",
       "  </tbody>\n",
       "</table>\n",
       "</div>"
      ],
      "text/plain": [
       "Survived    0    1\n",
       "Embarked          \n",
       "C          75   93\n",
       "Q          47   30\n",
       "S         427  217"
      ]
     },
     "execution_count": 15,
     "metadata": {},
     "output_type": "execute_result"
    },
    {
     "data": {
      "text/plain": [
       "<Figure size 800x400 with 0 Axes>"
      ]
     },
     "metadata": {},
     "output_type": "display_data"
    },
    {
     "data": {
      "image/png": "[encoded data removed]",
      "text/plain": [
       "<Figure size 572.111x500 with 1 Axes>"
      ]
     },
     "metadata": {},
     "output_type": "display_data"
    }
   ],
   "source": [
    "plt.figure(figsize=(8,4))\n",
    "\n",
    "sns.set_style('whitegrid')\n",
    "sns.catplot(train_df, x='Embarked', hue = 'Survived', palette = 'pastel', kind = 'count')\n",
    "train_df.groupby(['Embarked','Survived']).size().unstack()"
   ]
  },
  {
   "cell_type": "markdown",
   "id": "7e2e25d6",
   "metadata": {
    "papermill": {
     "duration": 0.019561,
     "end_time": "2023-12-15T01:48:55.445822",
     "exception": false,
     "start_time": "2023-12-15T01:48:55.426261",
     "status": "completed"
    },
    "tags": []
   },
   "source": [
    "- Survived: 생존 < 사망, 둘의 데이터 크기 차이는 있으나 크지 않으므로 데이터 불균형 해소 과정(과적합 해결)은 이후 score 개선 단계에서 생각\n",
    "- Pclass: 생존자의 탑승권이 1,2,3 등급인 크기는 비슷하나 3등급 탑승권의 사망자가 눈에 띄게 많으므로 해석할 필요가 있어보임, 변수 채택\n",
    "- Sex: 성별에 따라 생존-사망의 패턴이 반대로 나타나므로 해석할 필요가 있어보임, 변수 채택\n",
    "- Embarked: 셰르부르에서 승선한 탑승객의 생존-사망 패턴만 다름(근소하나 생존자 인원이 우위), 해석할 필요가 있어보임, 변수 채택"
   ]
  },
  {
   "cell_type": "markdown",
   "id": "3715b9b6",
   "metadata": {
    "papermill": {
     "duration": 0.02106,
     "end_time": "2023-12-15T01:48:55.487800",
     "exception": false,
     "start_time": "2023-12-15T01:48:55.466740",
     "status": "completed"
    },
    "tags": []
   },
   "source": [
    "## 수치형 변수들 생존-사망 시각화"
   ]
  },
  {
   "cell_type": "code",
   "execution_count": 16,
   "id": "b46cc23b",
   "metadata": {
    "execution": {
     "iopub.execute_input": "2023-12-15T01:48:55.529626Z",
     "iopub.status.busy": "2023-12-15T01:48:55.529006Z",
     "iopub.status.idle": "2023-12-15T01:48:55.547346Z",
     "shell.execute_reply": "2023-12-15T01:48:55.546152Z"
    },
    "papermill": {
     "duration": 0.04233,
     "end_time": "2023-12-15T01:48:55.549848",
     "exception": false,
     "start_time": "2023-12-15T01:48:55.507518",
     "status": "completed"
    },
    "tags": []
   },
   "outputs": [
    {
     "data": {
      "text/html": [
       "<div>\n",
       "<style scoped>\n",
       "    .dataframe tbody tr th:only-of-type {\n",
       "        vertical-align: middle;\n",
       "    }\n",
       "\n",
       "    .dataframe tbody tr th {\n",
       "        vertical-align: top;\n",
       "    }\n",
       "\n",
       "    .dataframe thead th {\n",
       "        text-align: right;\n",
       "    }\n",
       "</style>\n",
       "<table border=\"1\" class=\"dataframe\">\n",
       "  <thead>\n",
       "    <tr style=\"text-align: right;\">\n",
       "      <th></th>\n",
       "      <th>PassengerId</th>\n",
       "      <th>Age</th>\n",
       "      <th>SibSp</th>\n",
       "      <th>Parch</th>\n",
       "      <th>Fare</th>\n",
       "    </tr>\n",
       "  </thead>\n",
       "  <tbody>\n",
       "    <tr>\n",
       "      <th>0</th>\n",
       "      <td>1</td>\n",
       "      <td>22.0</td>\n",
       "      <td>1</td>\n",
       "      <td>0</td>\n",
       "      <td>7.2500</td>\n",
       "    </tr>\n",
       "    <tr>\n",
       "      <th>1</th>\n",
       "      <td>2</td>\n",
       "      <td>38.0</td>\n",
       "      <td>1</td>\n",
       "      <td>0</td>\n",
       "      <td>71.2833</td>\n",
       "    </tr>\n",
       "    <tr>\n",
       "      <th>2</th>\n",
       "      <td>3</td>\n",
       "      <td>26.0</td>\n",
       "      <td>0</td>\n",
       "      <td>0</td>\n",
       "      <td>7.9250</td>\n",
       "    </tr>\n",
       "    <tr>\n",
       "      <th>3</th>\n",
       "      <td>4</td>\n",
       "      <td>35.0</td>\n",
       "      <td>1</td>\n",
       "      <td>0</td>\n",
       "      <td>53.1000</td>\n",
       "    </tr>\n",
       "    <tr>\n",
       "      <th>4</th>\n",
       "      <td>5</td>\n",
       "      <td>35.0</td>\n",
       "      <td>0</td>\n",
       "      <td>0</td>\n",
       "      <td>8.0500</td>\n",
       "    </tr>\n",
       "  </tbody>\n",
       "</table>\n",
       "</div>"
      ],
      "text/plain": [
       "   PassengerId   Age  SibSp  Parch     Fare\n",
       "0            1  22.0      1      0   7.2500\n",
       "1            2  38.0      1      0  71.2833\n",
       "2            3  26.0      0      0   7.9250\n",
       "3            4  35.0      1      0  53.1000\n",
       "4            5  35.0      0      0   8.0500"
      ]
     },
     "execution_count": 16,
     "metadata": {},
     "output_type": "execute_result"
    }
   ],
   "source": [
    "n_train_df = train_df.select_dtypes(include=np.number).iloc[:,[0,3,4,5,6]]\n",
    "n_train_df.head()"
   ]
  },
  {
   "cell_type": "markdown",
   "id": "081f2a7e",
   "metadata": {
    "papermill": {
     "duration": 0.019586,
     "end_time": "2023-12-15T01:48:55.589404",
     "exception": false,
     "start_time": "2023-12-15T01:48:55.569818",
     "status": "completed"
    },
    "tags": []
   },
   "source": [
    "- 이산형: PassengerId, Age,SibSp,Parch\n",
    "- 연속형: Fare  \n",
    "- PassengerId &rarr; 이후의 정보라 생존-사망과는 관련 없어보임 &rarr; 변수 제외  \n",
    "\\*참고, 모두 독립변수 \n",
    "1. Survived가 사망(0)인 경우와 생존(1)인 경우의 각각의 변수 형태 확인\n",
    "2. 이상치 데이터 확인\n",
    "3. 이산형 변수 시각화는 히스토그램, boxplot 등으로...\n",
    "4. 연속형 변수 시각화는 히스토그램(도수표작성), 분포 등으로..."
   ]
  },
  {
   "cell_type": "code",
   "execution_count": 17,
   "id": "70971e98",
   "metadata": {
    "execution": {
     "iopub.execute_input": "2023-12-15T01:48:55.632714Z",
     "iopub.status.busy": "2023-12-15T01:48:55.631297Z",
     "iopub.status.idle": "2023-12-15T01:48:56.348395Z",
     "shell.execute_reply": "2023-12-15T01:48:56.346264Z"
    },
    "papermill": {
     "duration": 0.741088,
     "end_time": "2023-12-15T01:48:56.350986",
     "exception": false,
     "start_time": "2023-12-15T01:48:55.609898",
     "status": "completed"
    },
    "tags": []
   },
   "outputs": [
    {
     "data": {
      "text/plain": [
       "<Axes: ylabel='Parch'>"
      ]
     },
     "execution_count": 17,
     "metadata": {},
     "output_type": "execute_result"
    },
    {
     "data": {
      "image/png": "[encoded data removed]",
      "text/plain": [
       "<Figure size 640x480 with 2 Axes>"
      ]
     },
     "metadata": {},
     "output_type": "display_data"
    },
    {
     "data": {
      "image/png": "[encoded data removed]",
      "text/plain": [
       "<Figure size 640x480 with 2 Axes>"
      ]
     },
     "metadata": {},
     "output_type": "display_data"
    }
   ],
   "source": [
    "fig1, axes1 = plt.subplots(1,2)\n",
    "\n",
    "sns.boxplot(y=n_train_df['Age'],color=colors[0],ax=axes1[0])\n",
    "sns.boxplot(y=n_train_df['Fare'],color=colors[1],ax=axes1[1])\n",
    "\n",
    "fig2, axes2 = plt.subplots(1,2)\n",
    "\n",
    "sns.boxplot(y = n_train_df['SibSp'],color=colors[2],ax=axes2[0])\n",
    "sns.boxplot(y = n_train_df['Parch'],color=colors[3],ax=axes2[1])\n"
   ]
  },
  {
   "cell_type": "markdown",
   "id": "f0417ba8",
   "metadata": {
    "papermill": {
     "duration": 0.020522,
     "end_time": "2023-12-15T01:48:56.392533",
     "exception": false,
     "start_time": "2023-12-15T01:48:56.372011",
     "status": "completed"
    },
    "tags": []
   },
   "source": [
    "- 네 독립변수 모두 이상치 존재  \n",
    "- SibSp와 Parch는 동승자에 대한 정보라는 점에서 공통점 존재, 동승자라는 새로운 변수 생성\n",
    "- Fare는 Pclass과 함께 비용이라는 공통점이 존재(Pclass의 등급이 높을 수록 비용이 높을 것이라는 생각),   \n",
    "  Fare를 Pclass와 마찬가지로 3개의 category로 범주화하여 이상치 해결\n",
    "- Age는 이산형 데이터지만, 1살 미만의 아이와 정확한 나이를 모르는 사람은 소수점 이하 자리가 있는 실수형,  \n",
    "  고령자의 인원이 별로 없어 이상치가 되는 점을 고려해 연령대 범주화로 해결"
   ]
  },
  {
   "cell_type": "markdown",
   "id": "96ca509c",
   "metadata": {
    "papermill": {
     "duration": 0.02058,
     "end_time": "2023-12-15T01:48:56.434219",
     "exception": false,
     "start_time": "2023-12-15T01:48:56.413639",
     "status": "completed"
    },
    "tags": []
   },
   "source": [
    "## Object(문자형) 변수들\n",
    "- 데이터 타입이 object였던 변수 중, categorical이 아니어서 시각화하지 못한 변수들  \n",
    "    : Name, Ticket, Cabin"
   ]
  },
  {
   "cell_type": "code",
   "execution_count": 18,
   "id": "8b6ccaff",
   "metadata": {
    "execution": {
     "iopub.execute_input": "2023-12-15T01:48:56.478355Z",
     "iopub.status.busy": "2023-12-15T01:48:56.477704Z",
     "iopub.status.idle": "2023-12-15T01:48:56.485895Z",
     "shell.execute_reply": "2023-12-15T01:48:56.484771Z"
    },
    "papermill": {
     "duration": 0.033322,
     "end_time": "2023-12-15T01:48:56.488466",
     "exception": false,
     "start_time": "2023-12-15T01:48:56.455144",
     "status": "completed"
    },
    "tags": []
   },
   "outputs": [
    {
     "data": {
      "text/plain": [
       "(0                               Braund, Mr. Owen Harris\n",
       " 1     Cumings, Mrs. John Bradley (Florence Briggs Th...\n",
       " 2                                Heikkinen, Miss. Laina\n",
       " 3          Futrelle, Mrs. Jacques Heath (Lily May Peel)\n",
       " 4                              Allen, Mr. William Henry\n",
       " 5                                      Moran, Mr. James\n",
       " 6                               McCarthy, Mr. Timothy J\n",
       " 7                        Palsson, Master. Gosta Leonard\n",
       " 8     Johnson, Mrs. Oscar W (Elisabeth Vilhelmina Berg)\n",
       " 9                   Nasser, Mrs. Nicholas (Adele Achem)\n",
       " 10                      Sandstrom, Miss. Marguerite Rut\n",
       " Name: Name, dtype: object,\n",
       " 0)"
      ]
     },
     "execution_count": 18,
     "metadata": {},
     "output_type": "execute_result"
    }
   ],
   "source": [
    "train_df['Name'].iloc[:11], train_df['Name'].isnull().sum()"
   ]
  },
  {
   "cell_type": "code",
   "execution_count": 19,
   "id": "2c6da948",
   "metadata": {
    "execution": {
     "iopub.execute_input": "2023-12-15T01:48:56.532514Z",
     "iopub.status.busy": "2023-12-15T01:48:56.532062Z",
     "iopub.status.idle": "2023-12-15T01:48:56.541076Z",
     "shell.execute_reply": "2023-12-15T01:48:56.540033Z"
    },
    "papermill": {
     "duration": 0.033972,
     "end_time": "2023-12-15T01:48:56.543390",
     "exception": false,
     "start_time": "2023-12-15T01:48:56.509418",
     "status": "completed"
    },
    "tags": []
   },
   "outputs": [
    {
     "data": {
      "text/plain": [
       "(50       3101295\n",
       " 51    A/4. 39886\n",
       " 52      PC 17572\n",
       " 53          2926\n",
       " 54        113509\n",
       " 55         19947\n",
       " 56    C.A. 31026\n",
       " 57          2697\n",
       " 58    C.A. 34651\n",
       " 59       CA 2144\n",
       " Name: Ticket, dtype: object,\n",
       " 0)"
      ]
     },
     "execution_count": 19,
     "metadata": {},
     "output_type": "execute_result"
    }
   ],
   "source": [
    "train_df['Ticket'].iloc[50:60], train_df['Ticket'].isnull().sum()"
   ]
  },
  {
   "cell_type": "code",
   "execution_count": 20,
   "id": "833d2560",
   "metadata": {
    "execution": {
     "iopub.execute_input": "2023-12-15T01:48:56.587613Z",
     "iopub.status.busy": "2023-12-15T01:48:56.587104Z",
     "iopub.status.idle": "2023-12-15T01:48:56.598009Z",
     "shell.execute_reply": "2023-12-15T01:48:56.596912Z"
    },
    "papermill": {
     "duration": 0.035882,
     "end_time": "2023-12-15T01:48:56.600401",
     "exception": false,
     "start_time": "2023-12-15T01:48:56.564519",
     "status": "completed"
    },
    "tags": []
   },
   "outputs": [
    {
     "data": {
      "text/plain": [
       "(1              C85\n",
       " 3             C123\n",
       " 6              E46\n",
       " 10              G6\n",
       " 11            C103\n",
       "           ...     \n",
       " 871            D35\n",
       " 872    B51 B53 B55\n",
       " 879            C50\n",
       " 887            B42\n",
       " 889           C148\n",
       " Name: Cabin, Length: 204, dtype: object,\n",
       " 687)"
      ]
     },
     "execution_count": 20,
     "metadata": {},
     "output_type": "execute_result"
    }
   ],
   "source": [
    "train_df[train_df['Cabin'].notnull()]['Cabin'], train_df['Cabin'].isnull().sum()"
   ]
  },
  {
   "cell_type": "markdown",
   "id": "a816229b",
   "metadata": {
    "papermill": {
     "duration": 0.020875,
     "end_time": "2023-12-15T01:48:56.643051",
     "exception": false,
     "start_time": "2023-12-15T01:48:56.622176",
     "status": "completed"
    },
    "tags": []
   },
   "source": [
    "- Name: 대부분 '이름, 혼인여부. 성'의 형식, 혼인여부로 성별 판단 가능, 성으로 가족관계 유추 가능, 괄호 안의 정보는 무엇인지 불명확  \n",
    "    &rarr; 성별에 대한 데이터(Sex)와 가족 관계(동승자)(SibSp,Parch)에 대한 데이터가 모두 존재하므로 이번 분석에서는 Name 변수 제외\n",
    "- Ticket: 형식이 일관되지 않음(알파벳+숫자와 숫자 형식이 혼재), 탑승권은 탑승 등급(Pclass)와 여객 요금(Fare)의 정보를 담고 있을 것이라 생각, 이번 분석에서는 변수 제외\n",
    "- Cabin: 형식은 '알파벳+숫자'로 일관되나 값이 1개가 아닌 데이터(index 872)가 존재, 또한 결측치가 과반수로 결측치 처리가 어려워 보임, 변수 제외"
   ]
  },
  {
   "cell_type": "markdown",
   "id": "c523294c",
   "metadata": {
    "papermill": {
     "duration": 0.021405,
     "end_time": "2023-12-15T01:48:56.685666",
     "exception": false,
     "start_time": "2023-12-15T01:48:56.664261",
     "status": "completed"
    },
    "tags": []
   },
   "source": [
    "# 전처리(Preprocessing)"
   ]
  },
  {
   "cell_type": "markdown",
   "id": "6c259da9",
   "metadata": {
    "papermill": {
     "duration": 0.020975,
     "end_time": "2023-12-15T01:48:56.728369",
     "exception": false,
     "start_time": "2023-12-15T01:48:56.707394",
     "status": "completed"
    },
    "tags": []
   },
   "source": [
    "## 필요한 전처리 내용\n",
    "- 라벨링\n",
    "    - Sex, Embarked\n",
    "- 결측치 처리\n",
    "    - Age, Embarked, Fare(test에만 있음->모델 제출 시에는 결측치 제거 함수 필요할 듯)\n",
    "- 이상치 처리\n",
    "    - Age, Fare, SibSp, Parch"
   ]
  },
  {
   "cell_type": "markdown",
   "id": "ac827617",
   "metadata": {
    "papermill": {
     "duration": 0.020852,
     "end_time": "2023-12-15T01:48:56.770502",
     "exception": false,
     "start_time": "2023-12-15T01:48:56.749650",
     "status": "completed"
    },
    "tags": []
   },
   "source": [
    "#### 라벨링"
   ]
  },
  {
   "cell_type": "code",
   "execution_count": 21,
   "id": "d7152cc4",
   "metadata": {
    "execution": {
     "iopub.execute_input": "2023-12-15T01:48:56.814788Z",
     "iopub.status.busy": "2023-12-15T01:48:56.814378Z",
     "iopub.status.idle": "2023-12-15T01:48:56.821070Z",
     "shell.execute_reply": "2023-12-15T01:48:56.820204Z"
    },
    "papermill": {
     "duration": 0.031575,
     "end_time": "2023-12-15T01:48:56.823324",
     "exception": false,
     "start_time": "2023-12-15T01:48:56.791749",
     "status": "completed"
    },
    "tags": []
   },
   "outputs": [],
   "source": [
    "# {'male':0, 'female':1}\n",
    "train_df['Sex'] = train_df['Sex'].apply(lambda x: 0 if x == 'male' else 1)"
   ]
  },
  {
   "cell_type": "code",
   "execution_count": 22,
   "id": "687c911e",
   "metadata": {
    "execution": {
     "iopub.execute_input": "2023-12-15T01:48:56.867941Z",
     "iopub.status.busy": "2023-12-15T01:48:56.867212Z",
     "iopub.status.idle": "2023-12-15T01:48:56.875669Z",
     "shell.execute_reply": "2023-12-15T01:48:56.874672Z"
    },
    "papermill": {
     "duration": 0.033866,
     "end_time": "2023-12-15T01:48:56.878468",
     "exception": false,
     "start_time": "2023-12-15T01:48:56.844602",
     "status": "completed"
    },
    "tags": []
   },
   "outputs": [
    {
     "data": {
      "text/plain": [
       "(Embarked\n",
       " S    644\n",
       " C    168\n",
       " Q     77\n",
       " Name: count, dtype: int64,\n",
       " 2)"
      ]
     },
     "execution_count": 22,
     "metadata": {},
     "output_type": "execute_result"
    }
   ],
   "source": [
    "train_df['Embarked'].value_counts(), train_df['Embarked'].isnull().sum()"
   ]
  },
  {
   "cell_type": "code",
   "execution_count": 23,
   "id": "527403fa",
   "metadata": {
    "execution": {
     "iopub.execute_input": "2023-12-15T01:48:56.923237Z",
     "iopub.status.busy": "2023-12-15T01:48:56.922819Z",
     "iopub.status.idle": "2023-12-15T01:48:56.930270Z",
     "shell.execute_reply": "2023-12-15T01:48:56.929415Z"
    },
    "papermill": {
     "duration": 0.032358,
     "end_time": "2023-12-15T01:48:56.932482",
     "exception": false,
     "start_time": "2023-12-15T01:48:56.900124",
     "status": "completed"
    },
    "tags": []
   },
   "outputs": [],
   "source": [
    "# 결측치를 갖는 데이터 2개는 최빈값인 S에 할당 {'C':0, 'S':1, 'Q':2}\n",
    "train_df['Embarked'] = train_df['Embarked'].apply(lambda x: 0 if x == 'C' else (1 if x == 'S' else (2 if x == 'Q' else 1)))"
   ]
  },
  {
   "cell_type": "markdown",
   "id": "33e2ec1b",
   "metadata": {
    "papermill": {
     "duration": 0.021093,
     "end_time": "2023-12-15T01:48:56.975002",
     "exception": false,
     "start_time": "2023-12-15T01:48:56.953909",
     "status": "completed"
    },
    "tags": []
   },
   "source": [
    "#### 이상치 처리"
   ]
  },
  {
   "cell_type": "code",
   "execution_count": 24,
   "id": "f8338b5d",
   "metadata": {
    "execution": {
     "iopub.execute_input": "2023-12-15T01:48:57.021418Z",
     "iopub.status.busy": "2023-12-15T01:48:57.020310Z",
     "iopub.status.idle": "2023-12-15T01:48:57.029608Z",
     "shell.execute_reply": "2023-12-15T01:48:57.028378Z"
    },
    "papermill": {
     "duration": 0.035319,
     "end_time": "2023-12-15T01:48:57.032606",
     "exception": false,
     "start_time": "2023-12-15T01:48:56.997287",
     "status": "completed"
    },
    "tags": []
   },
   "outputs": [
    {
     "data": {
      "text/plain": [
       "80.0"
      ]
     },
     "execution_count": 24,
     "metadata": {},
     "output_type": "execute_result"
    }
   ],
   "source": [
    "max(train_df[train_df['Age'].notnull()]['Age'].values)"
   ]
  },
  {
   "cell_type": "code",
   "execution_count": 25,
   "id": "ee316e3e",
   "metadata": {
    "execution": {
     "iopub.execute_input": "2023-12-15T01:48:57.077789Z",
     "iopub.status.busy": "2023-12-15T01:48:57.077358Z",
     "iopub.status.idle": "2023-12-15T01:48:57.650124Z",
     "shell.execute_reply": "2023-12-15T01:48:57.648757Z"
    },
    "papermill": {
     "duration": 0.599168,
     "end_time": "2023-12-15T01:48:57.653362",
     "exception": false,
     "start_time": "2023-12-15T01:48:57.054194",
     "status": "completed"
    },
    "tags": []
   },
   "outputs": [
    {
     "data": {
      "text/plain": [
       "<Axes: xlabel='Age', ylabel='Count'>"
      ]
     },
     "execution_count": 25,
     "metadata": {},
     "output_type": "execute_result"
    },
    {
     "data": {
      "image/png": "[encoded data removed]",
      "text/plain": [
       "<Figure size 640x480 with 1 Axes>"
      ]
     },
     "metadata": {},
     "output_type": "display_data"
    }
   ],
   "source": [
    "# Age histogram 보기\n",
    "sns.histplot(train_df['Age'], bins = 80)"
   ]
  },
  {
   "cell_type": "code",
   "execution_count": 26,
   "id": "226a3560",
   "metadata": {
    "execution": {
     "iopub.execute_input": "2023-12-15T01:48:57.699855Z",
     "iopub.status.busy": "2023-12-15T01:48:57.699445Z",
     "iopub.status.idle": "2023-12-15T01:48:57.707120Z",
     "shell.execute_reply": "2023-12-15T01:48:57.706260Z"
    },
    "papermill": {
     "duration": 0.033844,
     "end_time": "2023-12-15T01:48:57.709545",
     "exception": false,
     "start_time": "2023-12-15T01:48:57.675701",
     "status": "completed"
    },
    "tags": []
   },
   "outputs": [
    {
     "data": {
      "text/plain": [
       "177"
      ]
     },
     "execution_count": 26,
     "metadata": {},
     "output_type": "execute_result"
    }
   ],
   "source": [
    "train_df['Age'].isnull().sum()"
   ]
  },
  {
   "cell_type": "code",
   "execution_count": 27,
   "id": "37628bc7",
   "metadata": {
    "execution": {
     "iopub.execute_input": "2023-12-15T01:48:57.756805Z",
     "iopub.status.busy": "2023-12-15T01:48:57.756368Z",
     "iopub.status.idle": "2023-12-15T01:48:57.763502Z",
     "shell.execute_reply": "2023-12-15T01:48:57.762419Z"
    },
    "papermill": {
     "duration": 0.034005,
     "end_time": "2023-12-15T01:48:57.766043",
     "exception": false,
     "start_time": "2023-12-15T01:48:57.732038",
     "status": "completed"
    },
    "tags": []
   },
   "outputs": [],
   "source": [
    "# Age 변수의 결측치를 평균 나이로 처리\n",
    "train_df['Age'] = train_df['Age'].fillna(train_df['Age'].mean())"
   ]
  },
  {
   "cell_type": "code",
   "execution_count": 28,
   "id": "2fe4e7b8",
   "metadata": {
    "execution": {
     "iopub.execute_input": "2023-12-15T01:48:57.812574Z",
     "iopub.status.busy": "2023-12-15T01:48:57.812154Z",
     "iopub.status.idle": "2023-12-15T01:48:57.819379Z",
     "shell.execute_reply": "2023-12-15T01:48:57.818147Z"
    },
    "papermill": {
     "duration": 0.03356,
     "end_time": "2023-12-15T01:48:57.821917",
     "exception": false,
     "start_time": "2023-12-15T01:48:57.788357",
     "status": "completed"
    },
    "tags": []
   },
   "outputs": [],
   "source": [
    "# 연령대 나누기: {0-10:0, 10-20:1, 20-30:2, 30-40:3, 40-50:4, 50-:5}\n",
    "train_df['Age'] = train_df['Age'].apply(lambda x: x//10 if x < 50 else 5)"
   ]
  },
  {
   "cell_type": "code",
   "execution_count": 29,
   "id": "9a1e8dbc",
   "metadata": {
    "execution": {
     "iopub.execute_input": "2023-12-15T01:48:57.869147Z",
     "iopub.status.busy": "2023-12-15T01:48:57.868489Z",
     "iopub.status.idle": "2023-12-15T01:48:58.047645Z",
     "shell.execute_reply": "2023-12-15T01:48:58.046462Z"
    },
    "papermill": {
     "duration": 0.205903,
     "end_time": "2023-12-15T01:48:58.050263",
     "exception": false,
     "start_time": "2023-12-15T01:48:57.844360",
     "status": "completed"
    },
    "tags": []
   },
   "outputs": [
    {
     "data": {
      "text/plain": [
       "<Axes: ylabel='Fare'>"
      ]
     },
     "execution_count": 29,
     "metadata": {},
     "output_type": "execute_result"
    },
    {
     "data": {
      "image/png": "[encoded data removed]",
      "text/plain": [
       "<Figure size 640x480 with 1 Axes>"
      ]
     },
     "metadata": {},
     "output_type": "display_data"
    }
   ],
   "source": [
    "# Fare 이상치 확인\n",
    "sns.boxplot(y=n_train_df['Fare'],color=colors[1])"
   ]
  },
  {
   "cell_type": "code",
   "execution_count": 30,
   "id": "1aa55709",
   "metadata": {
    "execution": {
     "iopub.execute_input": "2023-12-15T01:48:58.098114Z",
     "iopub.status.busy": "2023-12-15T01:48:58.097677Z",
     "iopub.status.idle": "2023-12-15T01:48:58.289379Z",
     "shell.execute_reply": "2023-12-15T01:48:58.288440Z"
    },
    "papermill": {
     "duration": 0.219794,
     "end_time": "2023-12-15T01:48:58.293241",
     "exception": false,
     "start_time": "2023-12-15T01:48:58.073447",
     "status": "completed"
    },
    "tags": []
   },
   "outputs": [
    {
     "data": {
      "text/plain": [
       "<Axes: ylabel='Fare'>"
      ]
     },
     "execution_count": 30,
     "metadata": {},
     "output_type": "execute_result"
    },
    {
     "data": {
      "image/png": "[encoded data removed]",
      "text/plain": [
       "<Figure size 640x480 with 1 Axes>"
      ]
     },
     "metadata": {},
     "output_type": "display_data"
    }
   ],
   "source": [
    "# 유독 눈에 띄는 데이터 제외 후 다시 이상치 확인\n",
    "a = train_df[train_df['Fare'] != max(train_df['Fare'].values)]\n",
    "sns.boxplot(y=a['Fare'],color=colors[1])\n",
    "# 결과: 여전히 이상치 많음 -> 범주화 시도"
   ]
  },
  {
   "cell_type": "code",
   "execution_count": 31,
   "id": "537419f9",
   "metadata": {
    "execution": {
     "iopub.execute_input": "2023-12-15T01:48:58.344159Z",
     "iopub.status.busy": "2023-12-15T01:48:58.343490Z",
     "iopub.status.idle": "2023-12-15T01:48:58.782643Z",
     "shell.execute_reply": "2023-12-15T01:48:58.781798Z"
    },
    "papermill": {
     "duration": 0.466952,
     "end_time": "2023-12-15T01:48:58.784924",
     "exception": false,
     "start_time": "2023-12-15T01:48:58.317972",
     "status": "completed"
    },
    "tags": []
   },
   "outputs": [
    {
     "data": {
      "text/plain": [
       "<Axes: xlabel='Fare', ylabel='Density'>"
      ]
     },
     "execution_count": 31,
     "metadata": {},
     "output_type": "execute_result"
    },
    {
     "data": {
      "image/png": "[encoded data removed]",
      "text/plain": [
       "<Figure size 640x480 with 1 Axes>"
      ]
     },
     "metadata": {},
     "output_type": "display_data"
    }
   ],
   "source": [
    "sns.kdeplot(a['Fare'],fill=True)"
   ]
  },
  {
   "cell_type": "code",
   "execution_count": 32,
   "id": "481cc104",
   "metadata": {
    "execution": {
     "iopub.execute_input": "2023-12-15T01:48:58.836027Z",
     "iopub.status.busy": "2023-12-15T01:48:58.835031Z",
     "iopub.status.idle": "2023-12-15T01:48:58.844185Z",
     "shell.execute_reply": "2023-12-15T01:48:58.843072Z"
    },
    "papermill": {
     "duration": 0.03801,
     "end_time": "2023-12-15T01:48:58.847123",
     "exception": false,
     "start_time": "2023-12-15T01:48:58.809113",
     "status": "completed"
    },
    "tags": []
   },
   "outputs": [],
   "source": [
    "# 분포가 몰린 관계로 일정 비율로 Fare 범주화 (요금과 관계있어 보이는 Pclass가 등급이 3개이므로 3분할) {'low':0, 'mid':1, 'high':2}\n",
    "train_df['Fare'] = pd.qcut(train_df['Fare'],3,labels=[0,1,2])"
   ]
  },
  {
   "cell_type": "code",
   "execution_count": 33,
   "id": "1c73f712",
   "metadata": {
    "execution": {
     "iopub.execute_input": "2023-12-15T01:48:58.897292Z",
     "iopub.status.busy": "2023-12-15T01:48:58.896889Z",
     "iopub.status.idle": "2023-12-15T01:48:59.588258Z",
     "shell.execute_reply": "2023-12-15T01:48:59.587411Z"
    },
    "papermill": {
     "duration": 0.719631,
     "end_time": "2023-12-15T01:48:59.590800",
     "exception": false,
     "start_time": "2023-12-15T01:48:58.871169",
     "status": "completed"
    },
    "tags": []
   },
   "outputs": [
    {
     "data": {
      "text/plain": [
       "<Axes: xlabel='Parch', ylabel='Count'>"
      ]
     },
     "execution_count": 33,
     "metadata": {},
     "output_type": "execute_result"
    },
    {
     "data": {
      "image/png": "[encoded data removed]",
      "text/plain": [
       "<Figure size 640x480 with 2 Axes>"
      ]
     },
     "metadata": {},
     "output_type": "display_data"
    }
   ],
   "source": [
    "# SibSp와 Parch histogram 보기\n",
    "fig, axes = plt.subplots(1,2)\n",
    "\n",
    "sns.histplot(train_df['SibSp'], bins = 8,ax = axes[0])\n",
    "\n",
    "sns.histplot(train_df['Parch'], bins = 6, ax = axes[1])"
   ]
  },
  {
   "cell_type": "code",
   "execution_count": 34,
   "id": "9b528932",
   "metadata": {
    "execution": {
     "iopub.execute_input": "2023-12-15T01:48:59.644584Z",
     "iopub.status.busy": "2023-12-15T01:48:59.643522Z",
     "iopub.status.idle": "2023-12-15T01:48:59.823464Z",
     "shell.execute_reply": "2023-12-15T01:48:59.822122Z"
    },
    "papermill": {
     "duration": 0.20992,
     "end_time": "2023-12-15T01:48:59.826456",
     "exception": false,
     "start_time": "2023-12-15T01:48:59.616536",
     "status": "completed"
    },
    "tags": []
   },
   "outputs": [
    {
     "data": {
      "text/plain": [
       "<Axes: >"
      ]
     },
     "execution_count": 34,
     "metadata": {},
     "output_type": "execute_result"
    },
    {
     "data": {
      "image/png": "[encoded data removed]",
      "text/plain": [
       "<Figure size 640x480 with 1 Axes>"
      ]
     },
     "metadata": {},
     "output_type": "display_data"
    }
   ],
   "source": [
    "# 동승자 수 구하고 시각화\n",
    "total = train_df['SibSp']+train_df['Parch']\n",
    "sns.boxplot(y=total,color=colors[1])\n",
    "# 결과: 이상치 여전함 -> 카테고리컬..?"
   ]
  },
  {
   "cell_type": "code",
   "execution_count": null,
   "id": "9ca4d884",
   "metadata": {
    "papermill": {
     "duration": 0.02865,
     "end_time": "2023-12-15T01:48:59.881279",
     "exception": false,
     "start_time": "2023-12-15T01:48:59.852629",
     "status": "completed"
    },
    "tags": []
   },
   "outputs": [],
   "source": []
  }
 ],
 "metadata": {
  "kaggle": {
   "accelerator": "none",
   "dataSources": [
    {
     "databundleVersionId": 26502,
     "sourceId": 3136,
     "sourceType": "competition"
    }
   ],
   "dockerImageVersionId": 30615,
   "isGpuEnabled": false,
   "isInternetEnabled": false,
   "language": "python",
   "sourceType": "notebook"
  },
  "kernelspec": {
   "display_name": "Python 3",
   "language": "python",
   "name": "python3"
  },
  "language_info": {
   "codemirror_mode": {
    "name": "ipython",
    "version": 3
   },
   "file_extension": ".py",
   "mimetype": "text/x-python",
   "name": "python",
   "nbconvert_exporter": "python",
   "pygments_lexer": "ipython3",
   "version": "3.10.12"
  },
  "papermill": {
   "default_parameters": {},
   "duration": 14.850423,
   "end_time": "2023-12-15T01:49:00.628913",
   "environment_variables": {},
   "exception": null,
   "input_path": "__notebook__.ipynb",
   "output_path": "__notebook__.ipynb",
   "parameters": {},
   "start_time": "2023-12-15T01:48:45.778490",
   "version": "2.4.0"
  }
 },
 "nbformat": 4,
 "nbformat_minor": 5
}
