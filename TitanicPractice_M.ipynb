{
 "cells": [
  {
   "cell_type": "code",
   "execution_count": 1,
   "id": "d48c1a58",
   "metadata": {
    "_cell_guid": "b1076dfc-b9ad-4769-8c92-a6c4dae69d19",
    "_uuid": "8f2839f25d086af736a60e9eeb907d3b93b6e0e5",
    "execution": {
     "iopub.execute_input": "2023-12-18T04:11:37.309814Z",
     "iopub.status.busy": "2023-12-18T04:11:37.309411Z",
     "iopub.status.idle": "2023-12-18T04:11:38.187523Z",
     "shell.execute_reply": "2023-12-18T04:11:38.186373Z"
    },
    "papermill": {
     "duration": 0.901563,
     "end_time": "2023-12-18T04:11:38.190323",
     "exception": false,
     "start_time": "2023-12-18T04:11:37.288760",
     "status": "completed"
    },
    "tags": []
   },
   "outputs": [
    {
     "name": "stdout",
     "output_type": "stream",
     "text": [
      "/kaggle/input/titanic/train.csv\n",
      "/kaggle/input/titanic/test.csv\n",
      "/kaggle/input/titanic/gender_submission.csv\n"
     ]
    }
   ],
   "source": [
    "# This Python 3 environment comes with many helpful analytics libraries installed\n",
    "# It is defined by the kaggle/python Docker image: https://github.com/kaggle/docker-python\n",
    "# For example, here's several helpful packages to load\n",
    "\n",
    "import numpy as np # linear algebra\n",
    "import pandas as pd # data processing, CSV file I/O (e.g. pd.read_csv)\n",
    "\n",
    "\n",
    "# Input data files are available in the read-only \"../input/\" directory\n",
    "# For example, running this (by clicking run or pressing Shift+Enter) will list all files under the input directory\n",
    "\n",
    "import os\n",
    "for dirname, _, filenames in os.walk('/kaggle/input'):\n",
    "    for filename in filenames:\n",
    "        print(os.path.join(dirname, filename))\n",
    "\n",
    "# You can write up to 20GB to the current directory (/kaggle/working/) that gets preserved as output when you create a version using \"Save & Run All\" \n",
    "# You can also write temporary files to /kaggle/temp/, but they won't be saved outside of the current session"
   ]
  },
  {
   "cell_type": "markdown",
   "id": "35dc7449",
   "metadata": {
    "papermill": {
     "duration": 0.018341,
     "end_time": "2023-12-18T04:11:38.227686",
     "exception": false,
     "start_time": "2023-12-18T04:11:38.209345",
     "status": "completed"
    },
    "tags": []
   },
   "source": [
    "# Overview\n",
    "\n",
    "## 문제 정의\n",
    "> 1912년 4월 15일 타이타닉호 침몰\n",
    "> 총 2224명 중 1502명이 사망한 사건\n",
    "- 문제 해결 목표: 생존-사망 데이터를 분석하여 생존 가능성이 더 높은 사람의 유형을 예측하는 모델 구축\n",
    "\n",
    "## train.csv 데이터 셋 설명\n",
    "- 탑승객의 일부(891명)에 대한 승객 정보\n",
    "- columns\n",
    "    - PassengerId: 승객 고유번호(int)\n",
    "    - Survived: 생존 여부(int, 0: 사망, 1: 생존)\n",
    "    - Pclass: 탑승권 등급(int, 1: 1st, 2: 2nd, 3: 3rd)\n",
    "    - Name: 승객 이름(object(str))\n",
    "    - Sex: 승객 성별(object(str))\n",
    "    - Age: 승객 나이(float, 1보다 작으면 분수, 추정된 나이는 xx.5의 형태)\n",
    "    - SibSp: 동승자 수-형제자매&부부(int, 단 정부나 약혼자는 제외) \n",
    "    - Parch: 동승자 수-부모자식(int, 단 유모와만 탄 아이는 0)\n",
    "    - Ticket: 탑승권 번호(object(str))\n",
    "    - Fare: 여객 요금(float)\n",
    "    - Cabin: 선실 번호(object(str))\n",
    "    - Embarked: 승선 항구(object(str), C: Cherbourg, Q: Queenstown, S: Southampton)"
   ]
  },
  {
   "cell_type": "code",
   "execution_count": 2,
   "id": "9da7ab66",
   "metadata": {
    "execution": {
     "iopub.execute_input": "2023-12-18T04:11:38.267004Z",
     "iopub.status.busy": "2023-12-18T04:11:38.266487Z",
     "iopub.status.idle": "2023-12-18T04:11:39.556518Z",
     "shell.execute_reply": "2023-12-18T04:11:39.555493Z"
    },
    "papermill": {
     "duration": 1.312723,
     "end_time": "2023-12-18T04:11:39.559222",
     "exception": false,
     "start_time": "2023-12-18T04:11:38.246499",
     "status": "completed"
    },
    "tags": []
   },
   "outputs": [],
   "source": [
    "# 라이브러리 import\n",
    "import numpy as np\n",
    "import pandas as pd\n",
    "import matplotlib.pyplot as plt\n",
    "import seaborn as sns\n",
    "from scipy import stats"
   ]
  },
  {
   "cell_type": "markdown",
   "id": "d6b44ed7",
   "metadata": {
    "papermill": {
     "duration": 0.019581,
     "end_time": "2023-12-18T04:11:39.598465",
     "exception": false,
     "start_time": "2023-12-18T04:11:39.578884",
     "status": "completed"
    },
    "tags": []
   },
   "source": [
    "# Check Data"
   ]
  },
  {
   "cell_type": "code",
   "execution_count": 3,
   "id": "d6ddce3d",
   "metadata": {
    "execution": {
     "iopub.execute_input": "2023-12-18T04:11:39.638026Z",
     "iopub.status.busy": "2023-12-18T04:11:39.637633Z",
     "iopub.status.idle": "2023-12-18T04:11:39.669140Z",
     "shell.execute_reply": "2023-12-18T04:11:39.668051Z"
    },
    "papermill": {
     "duration": 0.054747,
     "end_time": "2023-12-18T04:11:39.671903",
     "exception": false,
     "start_time": "2023-12-18T04:11:39.617156",
     "status": "completed"
    },
    "tags": []
   },
   "outputs": [],
   "source": [
    "# 데이터 로드\n",
    "train_df = pd.read_csv('/kaggle/input/titanic/train.csv')\n",
    "test_df = pd.read_csv('/kaggle/input/titanic/test.csv')"
   ]
  },
  {
   "cell_type": "code",
   "execution_count": 4,
   "id": "0e34617f",
   "metadata": {
    "execution": {
     "iopub.execute_input": "2023-12-18T04:11:39.711938Z",
     "iopub.status.busy": "2023-12-18T04:11:39.711182Z",
     "iopub.status.idle": "2023-12-18T04:11:39.739579Z",
     "shell.execute_reply": "2023-12-18T04:11:39.738693Z"
    },
    "papermill": {
     "duration": 0.051308,
     "end_time": "2023-12-18T04:11:39.742217",
     "exception": false,
     "start_time": "2023-12-18T04:11:39.690909",
     "status": "completed"
    },
    "tags": []
   },
   "outputs": [
    {
     "data": {
      "text/html": [
       "<div>\n",
       "<style scoped>\n",
       "    .dataframe tbody tr th:only-of-type {\n",
       "        vertical-align: middle;\n",
       "    }\n",
       "\n",
       "    .dataframe tbody tr th {\n",
       "        vertical-align: top;\n",
       "    }\n",
       "\n",
       "    .dataframe thead th {\n",
       "        text-align: right;\n",
       "    }\n",
       "</style>\n",
       "<table border=\"1\" class=\"dataframe\">\n",
       "  <thead>\n",
       "    <tr style=\"text-align: right;\">\n",
       "      <th></th>\n",
       "      <th>PassengerId</th>\n",
       "      <th>Survived</th>\n",
       "      <th>Pclass</th>\n",
       "      <th>Name</th>\n",
       "      <th>Sex</th>\n",
       "      <th>Age</th>\n",
       "      <th>SibSp</th>\n",
       "      <th>Parch</th>\n",
       "      <th>Ticket</th>\n",
       "      <th>Fare</th>\n",
       "      <th>Cabin</th>\n",
       "      <th>Embarked</th>\n",
       "    </tr>\n",
       "  </thead>\n",
       "  <tbody>\n",
       "    <tr>\n",
       "      <th>0</th>\n",
       "      <td>1</td>\n",
       "      <td>0</td>\n",
       "      <td>3</td>\n",
       "      <td>Braund, Mr. Owen Harris</td>\n",
       "      <td>male</td>\n",
       "      <td>22.0</td>\n",
       "      <td>1</td>\n",
       "      <td>0</td>\n",
       "      <td>A/5 21171</td>\n",
       "      <td>7.2500</td>\n",
       "      <td>NaN</td>\n",
       "      <td>S</td>\n",
       "    </tr>\n",
       "    <tr>\n",
       "      <th>1</th>\n",
       "      <td>2</td>\n",
       "      <td>1</td>\n",
       "      <td>1</td>\n",
       "      <td>Cumings, Mrs. John Bradley (Florence Briggs Th...</td>\n",
       "      <td>female</td>\n",
       "      <td>38.0</td>\n",
       "      <td>1</td>\n",
       "      <td>0</td>\n",
       "      <td>PC 17599</td>\n",
       "      <td>71.2833</td>\n",
       "      <td>C85</td>\n",
       "      <td>C</td>\n",
       "    </tr>\n",
       "    <tr>\n",
       "      <th>2</th>\n",
       "      <td>3</td>\n",
       "      <td>1</td>\n",
       "      <td>3</td>\n",
       "      <td>Heikkinen, Miss. Laina</td>\n",
       "      <td>female</td>\n",
       "      <td>26.0</td>\n",
       "      <td>0</td>\n",
       "      <td>0</td>\n",
       "      <td>STON/O2. 3101282</td>\n",
       "      <td>7.9250</td>\n",
       "      <td>NaN</td>\n",
       "      <td>S</td>\n",
       "    </tr>\n",
       "    <tr>\n",
       "      <th>3</th>\n",
       "      <td>4</td>\n",
       "      <td>1</td>\n",
       "      <td>1</td>\n",
       "      <td>Futrelle, Mrs. Jacques Heath (Lily May Peel)</td>\n",
       "      <td>female</td>\n",
       "      <td>35.0</td>\n",
       "      <td>1</td>\n",
       "      <td>0</td>\n",
       "      <td>113803</td>\n",
       "      <td>53.1000</td>\n",
       "      <td>C123</td>\n",
       "      <td>S</td>\n",
       "    </tr>\n",
       "    <tr>\n",
       "      <th>4</th>\n",
       "      <td>5</td>\n",
       "      <td>0</td>\n",
       "      <td>3</td>\n",
       "      <td>Allen, Mr. William Henry</td>\n",
       "      <td>male</td>\n",
       "      <td>35.0</td>\n",
       "      <td>0</td>\n",
       "      <td>0</td>\n",
       "      <td>373450</td>\n",
       "      <td>8.0500</td>\n",
       "      <td>NaN</td>\n",
       "      <td>S</td>\n",
       "    </tr>\n",
       "  </tbody>\n",
       "</table>\n",
       "</div>"
      ],
      "text/plain": [
       "   PassengerId  Survived  Pclass  \\\n",
       "0            1         0       3   \n",
       "1            2         1       1   \n",
       "2            3         1       3   \n",
       "3            4         1       1   \n",
       "4            5         0       3   \n",
       "\n",
       "                                                Name     Sex   Age  SibSp  \\\n",
       "0                            Braund, Mr. Owen Harris    male  22.0      1   \n",
       "1  Cumings, Mrs. John Bradley (Florence Briggs Th...  female  38.0      1   \n",
       "2                             Heikkinen, Miss. Laina  female  26.0      0   \n",
       "3       Futrelle, Mrs. Jacques Heath (Lily May Peel)  female  35.0      1   \n",
       "4                           Allen, Mr. William Henry    male  35.0      0   \n",
       "\n",
       "   Parch            Ticket     Fare Cabin Embarked  \n",
       "0      0         A/5 21171   7.2500   NaN        S  \n",
       "1      0          PC 17599  71.2833   C85        C  \n",
       "2      0  STON/O2. 3101282   7.9250   NaN        S  \n",
       "3      0            113803  53.1000  C123        S  \n",
       "4      0            373450   8.0500   NaN        S  "
      ]
     },
     "execution_count": 4,
     "metadata": {},
     "output_type": "execute_result"
    }
   ],
   "source": [
    "train_df.head()"
   ]
  },
  {
   "cell_type": "code",
   "execution_count": 5,
   "id": "26075272",
   "metadata": {
    "execution": {
     "iopub.execute_input": "2023-12-18T04:11:39.782736Z",
     "iopub.status.busy": "2023-12-18T04:11:39.781722Z",
     "iopub.status.idle": "2023-12-18T04:11:39.798401Z",
     "shell.execute_reply": "2023-12-18T04:11:39.797364Z"
    },
    "papermill": {
     "duration": 0.039254,
     "end_time": "2023-12-18T04:11:39.800757",
     "exception": false,
     "start_time": "2023-12-18T04:11:39.761503",
     "status": "completed"
    },
    "tags": []
   },
   "outputs": [
    {
     "data": {
      "text/html": [
       "<div>\n",
       "<style scoped>\n",
       "    .dataframe tbody tr th:only-of-type {\n",
       "        vertical-align: middle;\n",
       "    }\n",
       "\n",
       "    .dataframe tbody tr th {\n",
       "        vertical-align: top;\n",
       "    }\n",
       "\n",
       "    .dataframe thead th {\n",
       "        text-align: right;\n",
       "    }\n",
       "</style>\n",
       "<table border=\"1\" class=\"dataframe\">\n",
       "  <thead>\n",
       "    <tr style=\"text-align: right;\">\n",
       "      <th></th>\n",
       "      <th>PassengerId</th>\n",
       "      <th>Pclass</th>\n",
       "      <th>Name</th>\n",
       "      <th>Sex</th>\n",
       "      <th>Age</th>\n",
       "      <th>SibSp</th>\n",
       "      <th>Parch</th>\n",
       "      <th>Ticket</th>\n",
       "      <th>Fare</th>\n",
       "      <th>Cabin</th>\n",
       "      <th>Embarked</th>\n",
       "    </tr>\n",
       "  </thead>\n",
       "  <tbody>\n",
       "    <tr>\n",
       "      <th>0</th>\n",
       "      <td>892</td>\n",
       "      <td>3</td>\n",
       "      <td>Kelly, Mr. James</td>\n",
       "      <td>male</td>\n",
       "      <td>34.5</td>\n",
       "      <td>0</td>\n",
       "      <td>0</td>\n",
       "      <td>330911</td>\n",
       "      <td>7.8292</td>\n",
       "      <td>NaN</td>\n",
       "      <td>Q</td>\n",
       "    </tr>\n",
       "    <tr>\n",
       "      <th>1</th>\n",
       "      <td>893</td>\n",
       "      <td>3</td>\n",
       "      <td>Wilkes, Mrs. James (Ellen Needs)</td>\n",
       "      <td>female</td>\n",
       "      <td>47.0</td>\n",
       "      <td>1</td>\n",
       "      <td>0</td>\n",
       "      <td>363272</td>\n",
       "      <td>7.0000</td>\n",
       "      <td>NaN</td>\n",
       "      <td>S</td>\n",
       "    </tr>\n",
       "    <tr>\n",
       "      <th>2</th>\n",
       "      <td>894</td>\n",
       "      <td>2</td>\n",
       "      <td>Myles, Mr. Thomas Francis</td>\n",
       "      <td>male</td>\n",
       "      <td>62.0</td>\n",
       "      <td>0</td>\n",
       "      <td>0</td>\n",
       "      <td>240276</td>\n",
       "      <td>9.6875</td>\n",
       "      <td>NaN</td>\n",
       "      <td>Q</td>\n",
       "    </tr>\n",
       "    <tr>\n",
       "      <th>3</th>\n",
       "      <td>895</td>\n",
       "      <td>3</td>\n",
       "      <td>Wirz, Mr. Albert</td>\n",
       "      <td>male</td>\n",
       "      <td>27.0</td>\n",
       "      <td>0</td>\n",
       "      <td>0</td>\n",
       "      <td>315154</td>\n",
       "      <td>8.6625</td>\n",
       "      <td>NaN</td>\n",
       "      <td>S</td>\n",
       "    </tr>\n",
       "    <tr>\n",
       "      <th>4</th>\n",
       "      <td>896</td>\n",
       "      <td>3</td>\n",
       "      <td>Hirvonen, Mrs. Alexander (Helga E Lindqvist)</td>\n",
       "      <td>female</td>\n",
       "      <td>22.0</td>\n",
       "      <td>1</td>\n",
       "      <td>1</td>\n",
       "      <td>3101298</td>\n",
       "      <td>12.2875</td>\n",
       "      <td>NaN</td>\n",
       "      <td>S</td>\n",
       "    </tr>\n",
       "  </tbody>\n",
       "</table>\n",
       "</div>"
      ],
      "text/plain": [
       "   PassengerId  Pclass                                          Name     Sex  \\\n",
       "0          892       3                              Kelly, Mr. James    male   \n",
       "1          893       3              Wilkes, Mrs. James (Ellen Needs)  female   \n",
       "2          894       2                     Myles, Mr. Thomas Francis    male   \n",
       "3          895       3                              Wirz, Mr. Albert    male   \n",
       "4          896       3  Hirvonen, Mrs. Alexander (Helga E Lindqvist)  female   \n",
       "\n",
       "    Age  SibSp  Parch   Ticket     Fare Cabin Embarked  \n",
       "0  34.5      0      0   330911   7.8292   NaN        Q  \n",
       "1  47.0      1      0   363272   7.0000   NaN        S  \n",
       "2  62.0      0      0   240276   9.6875   NaN        Q  \n",
       "3  27.0      0      0   315154   8.6625   NaN        S  \n",
       "4  22.0      1      1  3101298  12.2875   NaN        S  "
      ]
     },
     "execution_count": 5,
     "metadata": {},
     "output_type": "execute_result"
    }
   ],
   "source": [
    "test_df.head()"
   ]
  },
  {
   "cell_type": "code",
   "execution_count": 6,
   "id": "a1cc532d",
   "metadata": {
    "execution": {
     "iopub.execute_input": "2023-12-18T04:11:39.841923Z",
     "iopub.status.busy": "2023-12-18T04:11:39.840921Z",
     "iopub.status.idle": "2023-12-18T04:11:39.952156Z",
     "shell.execute_reply": "2023-12-18T04:11:39.950259Z"
    },
    "papermill": {
     "duration": 0.134595,
     "end_time": "2023-12-18T04:11:39.954667",
     "exception": false,
     "start_time": "2023-12-18T04:11:39.820072",
     "status": "completed"
    },
    "tags": []
   },
   "outputs": [
    {
     "name": "stdout",
     "output_type": "stream",
     "text": [
      "<class 'pandas.core.frame.DataFrame'>\n",
      "RangeIndex: 891 entries, 0 to 890\n",
      "Data columns (total 12 columns):\n",
      " #   Column       Non-Null Count  Dtype  \n",
      "---  ------       --------------  -----  \n",
      " 0   PassengerId  891 non-null    int64  \n",
      " 1   Survived     891 non-null    int64  \n",
      " 2   Pclass       891 non-null    int64  \n",
      " 3   Name         891 non-null    object \n",
      " 4   Sex          891 non-null    object \n",
      " 5   Age          714 non-null    float64\n",
      " 6   SibSp        891 non-null    int64  \n",
      " 7   Parch        891 non-null    int64  \n",
      " 8   Ticket       891 non-null    object \n",
      " 9   Fare         891 non-null    float64\n",
      " 10  Cabin        204 non-null    object \n",
      " 11  Embarked     889 non-null    object \n",
      "dtypes: float64(2), int64(5), object(5)\n",
      "memory usage: 83.7+ KB\n"
     ]
    }
   ],
   "source": [
    "train_df.info()"
   ]
  },
  {
   "cell_type": "code",
   "execution_count": 7,
   "id": "af2d3cc5",
   "metadata": {
    "execution": {
     "iopub.execute_input": "2023-12-18T04:11:39.997371Z",
     "iopub.status.busy": "2023-12-18T04:11:39.996590Z",
     "iopub.status.idle": "2023-12-18T04:11:40.007125Z",
     "shell.execute_reply": "2023-12-18T04:11:40.006117Z"
    },
    "papermill": {
     "duration": 0.035191,
     "end_time": "2023-12-18T04:11:40.009419",
     "exception": false,
     "start_time": "2023-12-18T04:11:39.974228",
     "status": "completed"
    },
    "tags": []
   },
   "outputs": [
    {
     "data": {
      "text/plain": [
       "PassengerId     0.000000\n",
       "Survived        0.000000\n",
       "Pclass          0.000000\n",
       "Name            0.000000\n",
       "Sex             0.000000\n",
       "Age            19.865320\n",
       "SibSp           0.000000\n",
       "Parch           0.000000\n",
       "Ticket          0.000000\n",
       "Fare            0.000000\n",
       "Cabin          77.104377\n",
       "Embarked        0.224467\n",
       "dtype: float64"
      ]
     },
     "execution_count": 7,
     "metadata": {},
     "output_type": "execute_result"
    }
   ],
   "source": [
    "train_df.isnull().sum()/len(train_df)*100 # Null 비율"
   ]
  },
  {
   "cell_type": "code",
   "execution_count": 8,
   "id": "5535ac5f",
   "metadata": {
    "execution": {
     "iopub.execute_input": "2023-12-18T04:11:40.051191Z",
     "iopub.status.busy": "2023-12-18T04:11:40.050424Z",
     "iopub.status.idle": "2023-12-18T04:11:40.063644Z",
     "shell.execute_reply": "2023-12-18T04:11:40.062481Z"
    },
    "papermill": {
     "duration": 0.037046,
     "end_time": "2023-12-18T04:11:40.066086",
     "exception": false,
     "start_time": "2023-12-18T04:11:40.029040",
     "status": "completed"
    },
    "tags": []
   },
   "outputs": [
    {
     "name": "stdout",
     "output_type": "stream",
     "text": [
      "<class 'pandas.core.frame.DataFrame'>\n",
      "RangeIndex: 418 entries, 0 to 417\n",
      "Data columns (total 11 columns):\n",
      " #   Column       Non-Null Count  Dtype  \n",
      "---  ------       --------------  -----  \n",
      " 0   PassengerId  418 non-null    int64  \n",
      " 1   Pclass       418 non-null    int64  \n",
      " 2   Name         418 non-null    object \n",
      " 3   Sex          418 non-null    object \n",
      " 4   Age          332 non-null    float64\n",
      " 5   SibSp        418 non-null    int64  \n",
      " 6   Parch        418 non-null    int64  \n",
      " 7   Ticket       418 non-null    object \n",
      " 8   Fare         417 non-null    float64\n",
      " 9   Cabin        91 non-null     object \n",
      " 10  Embarked     418 non-null    object \n",
      "dtypes: float64(2), int64(4), object(5)\n",
      "memory usage: 36.0+ KB\n"
     ]
    }
   ],
   "source": [
    "test_df.info()"
   ]
  },
  {
   "cell_type": "code",
   "execution_count": 9,
   "id": "f6266ad0",
   "metadata": {
    "execution": {
     "iopub.execute_input": "2023-12-18T04:11:40.168320Z",
     "iopub.status.busy": "2023-12-18T04:11:40.167888Z",
     "iopub.status.idle": "2023-12-18T04:11:40.178385Z",
     "shell.execute_reply": "2023-12-18T04:11:40.177253Z"
    },
    "papermill": {
     "duration": 0.034348,
     "end_time": "2023-12-18T04:11:40.180884",
     "exception": false,
     "start_time": "2023-12-18T04:11:40.146536",
     "status": "completed"
    },
    "tags": []
   },
   "outputs": [
    {
     "data": {
      "text/plain": [
       "PassengerId     0.000000\n",
       "Pclass          0.000000\n",
       "Name            0.000000\n",
       "Sex             0.000000\n",
       "Age            20.574163\n",
       "SibSp           0.000000\n",
       "Parch           0.000000\n",
       "Ticket          0.000000\n",
       "Fare            0.239234\n",
       "Cabin          78.229665\n",
       "Embarked        0.000000\n",
       "dtype: float64"
      ]
     },
     "execution_count": 9,
     "metadata": {},
     "output_type": "execute_result"
    }
   ],
   "source": [
    "test_df.isnull().sum()/len(test_df)*100 # Null 비율"
   ]
  },
  {
   "cell_type": "markdown",
   "id": "c3b58de1",
   "metadata": {
    "papermill": {
     "duration": 0.019765,
     "end_time": "2023-12-18T04:11:40.221736",
     "exception": false,
     "start_time": "2023-12-18T04:11:40.201971",
     "status": "completed"
    },
    "tags": []
   },
   "source": [
    "# EDA"
   ]
  },
  {
   "cell_type": "markdown",
   "id": "eee2a689",
   "metadata": {
    "papermill": {
     "duration": 0.019729,
     "end_time": "2023-12-18T04:11:40.261806",
     "exception": false,
     "start_time": "2023-12-18T04:11:40.242077",
     "status": "completed"
    },
    "tags": []
   },
   "source": [
    "## 데이터 형태 파악\n",
    "- train_df와 test_df의 차이: Survived 컬럼 유무, train_df는 지도학습을 위해 Survived 정보 있고, test_df는 예측을 위해 Survived 컬럼 없음<br/>\n",
    "&rarr; target 변수: Survived\n",
    "- train_df Null coloumns: 나이, 선실, 승선 항구\n",
    "- test_df Null columns: 나이, 여객 요금, 선실"
   ]
  },
  {
   "cell_type": "code",
   "execution_count": 10,
   "id": "6161b6a3",
   "metadata": {
    "execution": {
     "iopub.execute_input": "2023-12-18T04:11:40.304228Z",
     "iopub.status.busy": "2023-12-18T04:11:40.303583Z",
     "iopub.status.idle": "2023-12-18T04:11:40.337577Z",
     "shell.execute_reply": "2023-12-18T04:11:40.336254Z"
    },
    "papermill": {
     "duration": 0.058997,
     "end_time": "2023-12-18T04:11:40.340571",
     "exception": false,
     "start_time": "2023-12-18T04:11:40.281574",
     "status": "completed"
    },
    "tags": []
   },
   "outputs": [
    {
     "data": {
      "text/html": [
       "<div>\n",
       "<style scoped>\n",
       "    .dataframe tbody tr th:only-of-type {\n",
       "        vertical-align: middle;\n",
       "    }\n",
       "\n",
       "    .dataframe tbody tr th {\n",
       "        vertical-align: top;\n",
       "    }\n",
       "\n",
       "    .dataframe thead th {\n",
       "        text-align: right;\n",
       "    }\n",
       "</style>\n",
       "<table border=\"1\" class=\"dataframe\">\n",
       "  <thead>\n",
       "    <tr style=\"text-align: right;\">\n",
       "      <th></th>\n",
       "      <th>PassengerId</th>\n",
       "      <th>Survived</th>\n",
       "      <th>Pclass</th>\n",
       "      <th>Age</th>\n",
       "      <th>SibSp</th>\n",
       "      <th>Parch</th>\n",
       "      <th>Fare</th>\n",
       "    </tr>\n",
       "  </thead>\n",
       "  <tbody>\n",
       "    <tr>\n",
       "      <th>count</th>\n",
       "      <td>891.000000</td>\n",
       "      <td>891.000000</td>\n",
       "      <td>891.000000</td>\n",
       "      <td>714.000000</td>\n",
       "      <td>891.000000</td>\n",
       "      <td>891.000000</td>\n",
       "      <td>891.000000</td>\n",
       "    </tr>\n",
       "    <tr>\n",
       "      <th>mean</th>\n",
       "      <td>446.000000</td>\n",
       "      <td>0.383838</td>\n",
       "      <td>2.308642</td>\n",
       "      <td>29.699118</td>\n",
       "      <td>0.523008</td>\n",
       "      <td>0.381594</td>\n",
       "      <td>32.204208</td>\n",
       "    </tr>\n",
       "    <tr>\n",
       "      <th>std</th>\n",
       "      <td>257.353842</td>\n",
       "      <td>0.486592</td>\n",
       "      <td>0.836071</td>\n",
       "      <td>14.526497</td>\n",
       "      <td>1.102743</td>\n",
       "      <td>0.806057</td>\n",
       "      <td>49.693429</td>\n",
       "    </tr>\n",
       "    <tr>\n",
       "      <th>min</th>\n",
       "      <td>1.000000</td>\n",
       "      <td>0.000000</td>\n",
       "      <td>1.000000</td>\n",
       "      <td>0.420000</td>\n",
       "      <td>0.000000</td>\n",
       "      <td>0.000000</td>\n",
       "      <td>0.000000</td>\n",
       "    </tr>\n",
       "    <tr>\n",
       "      <th>25%</th>\n",
       "      <td>223.500000</td>\n",
       "      <td>0.000000</td>\n",
       "      <td>2.000000</td>\n",
       "      <td>20.125000</td>\n",
       "      <td>0.000000</td>\n",
       "      <td>0.000000</td>\n",
       "      <td>7.910400</td>\n",
       "    </tr>\n",
       "    <tr>\n",
       "      <th>50%</th>\n",
       "      <td>446.000000</td>\n",
       "      <td>0.000000</td>\n",
       "      <td>3.000000</td>\n",
       "      <td>28.000000</td>\n",
       "      <td>0.000000</td>\n",
       "      <td>0.000000</td>\n",
       "      <td>14.454200</td>\n",
       "    </tr>\n",
       "    <tr>\n",
       "      <th>75%</th>\n",
       "      <td>668.500000</td>\n",
       "      <td>1.000000</td>\n",
       "      <td>3.000000</td>\n",
       "      <td>38.000000</td>\n",
       "      <td>1.000000</td>\n",
       "      <td>0.000000</td>\n",
       "      <td>31.000000</td>\n",
       "    </tr>\n",
       "    <tr>\n",
       "      <th>max</th>\n",
       "      <td>891.000000</td>\n",
       "      <td>1.000000</td>\n",
       "      <td>3.000000</td>\n",
       "      <td>80.000000</td>\n",
       "      <td>8.000000</td>\n",
       "      <td>6.000000</td>\n",
       "      <td>512.329200</td>\n",
       "    </tr>\n",
       "  </tbody>\n",
       "</table>\n",
       "</div>"
      ],
      "text/plain": [
       "       PassengerId    Survived      Pclass         Age       SibSp  \\\n",
       "count   891.000000  891.000000  891.000000  714.000000  891.000000   \n",
       "mean    446.000000    0.383838    2.308642   29.699118    0.523008   \n",
       "std     257.353842    0.486592    0.836071   14.526497    1.102743   \n",
       "min       1.000000    0.000000    1.000000    0.420000    0.000000   \n",
       "25%     223.500000    0.000000    2.000000   20.125000    0.000000   \n",
       "50%     446.000000    0.000000    3.000000   28.000000    0.000000   \n",
       "75%     668.500000    1.000000    3.000000   38.000000    1.000000   \n",
       "max     891.000000    1.000000    3.000000   80.000000    8.000000   \n",
       "\n",
       "            Parch        Fare  \n",
       "count  891.000000  891.000000  \n",
       "mean     0.381594   32.204208  \n",
       "std      0.806057   49.693429  \n",
       "min      0.000000    0.000000  \n",
       "25%      0.000000    7.910400  \n",
       "50%      0.000000   14.454200  \n",
       "75%      0.000000   31.000000  \n",
       "max      6.000000  512.329200  "
      ]
     },
     "execution_count": 10,
     "metadata": {},
     "output_type": "execute_result"
    }
   ],
   "source": [
    "train_df.describe() # data type이 수치형인 변수들의 통계치"
   ]
  },
  {
   "cell_type": "code",
   "execution_count": 11,
   "id": "a6bbaa13",
   "metadata": {
    "execution": {
     "iopub.execute_input": "2023-12-18T04:11:40.383926Z",
     "iopub.status.busy": "2023-12-18T04:11:40.383538Z",
     "iopub.status.idle": "2023-12-18T04:11:40.414029Z",
     "shell.execute_reply": "2023-12-18T04:11:40.412671Z"
    },
    "papermill": {
     "duration": 0.055348,
     "end_time": "2023-12-18T04:11:40.416752",
     "exception": false,
     "start_time": "2023-12-18T04:11:40.361404",
     "status": "completed"
    },
    "tags": []
   },
   "outputs": [
    {
     "data": {
      "text/html": [
       "<div>\n",
       "<style scoped>\n",
       "    .dataframe tbody tr th:only-of-type {\n",
       "        vertical-align: middle;\n",
       "    }\n",
       "\n",
       "    .dataframe tbody tr th {\n",
       "        vertical-align: top;\n",
       "    }\n",
       "\n",
       "    .dataframe thead th {\n",
       "        text-align: right;\n",
       "    }\n",
       "</style>\n",
       "<table border=\"1\" class=\"dataframe\">\n",
       "  <thead>\n",
       "    <tr style=\"text-align: right;\">\n",
       "      <th></th>\n",
       "      <th>PassengerId</th>\n",
       "      <th>Pclass</th>\n",
       "      <th>Age</th>\n",
       "      <th>SibSp</th>\n",
       "      <th>Parch</th>\n",
       "      <th>Fare</th>\n",
       "    </tr>\n",
       "  </thead>\n",
       "  <tbody>\n",
       "    <tr>\n",
       "      <th>count</th>\n",
       "      <td>418.000000</td>\n",
       "      <td>418.000000</td>\n",
       "      <td>332.000000</td>\n",
       "      <td>418.000000</td>\n",
       "      <td>418.000000</td>\n",
       "      <td>417.000000</td>\n",
       "    </tr>\n",
       "    <tr>\n",
       "      <th>mean</th>\n",
       "      <td>1100.500000</td>\n",
       "      <td>2.265550</td>\n",
       "      <td>30.272590</td>\n",
       "      <td>0.447368</td>\n",
       "      <td>0.392344</td>\n",
       "      <td>35.627188</td>\n",
       "    </tr>\n",
       "    <tr>\n",
       "      <th>std</th>\n",
       "      <td>120.810458</td>\n",
       "      <td>0.841838</td>\n",
       "      <td>14.181209</td>\n",
       "      <td>0.896760</td>\n",
       "      <td>0.981429</td>\n",
       "      <td>55.907576</td>\n",
       "    </tr>\n",
       "    <tr>\n",
       "      <th>min</th>\n",
       "      <td>892.000000</td>\n",
       "      <td>1.000000</td>\n",
       "      <td>0.170000</td>\n",
       "      <td>0.000000</td>\n",
       "      <td>0.000000</td>\n",
       "      <td>0.000000</td>\n",
       "    </tr>\n",
       "    <tr>\n",
       "      <th>25%</th>\n",
       "      <td>996.250000</td>\n",
       "      <td>1.000000</td>\n",
       "      <td>21.000000</td>\n",
       "      <td>0.000000</td>\n",
       "      <td>0.000000</td>\n",
       "      <td>7.895800</td>\n",
       "    </tr>\n",
       "    <tr>\n",
       "      <th>50%</th>\n",
       "      <td>1100.500000</td>\n",
       "      <td>3.000000</td>\n",
       "      <td>27.000000</td>\n",
       "      <td>0.000000</td>\n",
       "      <td>0.000000</td>\n",
       "      <td>14.454200</td>\n",
       "    </tr>\n",
       "    <tr>\n",
       "      <th>75%</th>\n",
       "      <td>1204.750000</td>\n",
       "      <td>3.000000</td>\n",
       "      <td>39.000000</td>\n",
       "      <td>1.000000</td>\n",
       "      <td>0.000000</td>\n",
       "      <td>31.500000</td>\n",
       "    </tr>\n",
       "    <tr>\n",
       "      <th>max</th>\n",
       "      <td>1309.000000</td>\n",
       "      <td>3.000000</td>\n",
       "      <td>76.000000</td>\n",
       "      <td>8.000000</td>\n",
       "      <td>9.000000</td>\n",
       "      <td>512.329200</td>\n",
       "    </tr>\n",
       "  </tbody>\n",
       "</table>\n",
       "</div>"
      ],
      "text/plain": [
       "       PassengerId      Pclass         Age       SibSp       Parch        Fare\n",
       "count   418.000000  418.000000  332.000000  418.000000  418.000000  417.000000\n",
       "mean   1100.500000    2.265550   30.272590    0.447368    0.392344   35.627188\n",
       "std     120.810458    0.841838   14.181209    0.896760    0.981429   55.907576\n",
       "min     892.000000    1.000000    0.170000    0.000000    0.000000    0.000000\n",
       "25%     996.250000    1.000000   21.000000    0.000000    0.000000    7.895800\n",
       "50%    1100.500000    3.000000   27.000000    0.000000    0.000000   14.454200\n",
       "75%    1204.750000    3.000000   39.000000    1.000000    0.000000   31.500000\n",
       "max    1309.000000    3.000000   76.000000    8.000000    9.000000  512.329200"
      ]
     },
     "execution_count": 11,
     "metadata": {},
     "output_type": "execute_result"
    }
   ],
   "source": [
    "test_df.describe()"
   ]
  },
  {
   "cell_type": "code",
   "execution_count": 12,
   "id": "1868ee58",
   "metadata": {
    "execution": {
     "iopub.execute_input": "2023-12-18T04:11:40.461445Z",
     "iopub.status.busy": "2023-12-18T04:11:40.461013Z",
     "iopub.status.idle": "2023-12-18T04:11:40.485530Z",
     "shell.execute_reply": "2023-12-18T04:11:40.484453Z"
    },
    "papermill": {
     "duration": 0.049592,
     "end_time": "2023-12-18T04:11:40.488029",
     "exception": false,
     "start_time": "2023-12-18T04:11:40.438437",
     "status": "completed"
    },
    "tags": []
   },
   "outputs": [
    {
     "data": {
      "text/html": [
       "<div>\n",
       "<style scoped>\n",
       "    .dataframe tbody tr th:only-of-type {\n",
       "        vertical-align: middle;\n",
       "    }\n",
       "\n",
       "    .dataframe tbody tr th {\n",
       "        vertical-align: top;\n",
       "    }\n",
       "\n",
       "    .dataframe thead th {\n",
       "        text-align: right;\n",
       "    }\n",
       "</style>\n",
       "<table border=\"1\" class=\"dataframe\">\n",
       "  <thead>\n",
       "    <tr style=\"text-align: right;\">\n",
       "      <th></th>\n",
       "      <th>Name</th>\n",
       "      <th>Sex</th>\n",
       "      <th>Ticket</th>\n",
       "      <th>Cabin</th>\n",
       "      <th>Embarked</th>\n",
       "    </tr>\n",
       "  </thead>\n",
       "  <tbody>\n",
       "    <tr>\n",
       "      <th>count</th>\n",
       "      <td>891</td>\n",
       "      <td>891</td>\n",
       "      <td>891</td>\n",
       "      <td>204</td>\n",
       "      <td>889</td>\n",
       "    </tr>\n",
       "    <tr>\n",
       "      <th>unique</th>\n",
       "      <td>891</td>\n",
       "      <td>2</td>\n",
       "      <td>681</td>\n",
       "      <td>147</td>\n",
       "      <td>3</td>\n",
       "    </tr>\n",
       "    <tr>\n",
       "      <th>top</th>\n",
       "      <td>Braund, Mr. Owen Harris</td>\n",
       "      <td>male</td>\n",
       "      <td>347082</td>\n",
       "      <td>B96 B98</td>\n",
       "      <td>S</td>\n",
       "    </tr>\n",
       "    <tr>\n",
       "      <th>freq</th>\n",
       "      <td>1</td>\n",
       "      <td>577</td>\n",
       "      <td>7</td>\n",
       "      <td>4</td>\n",
       "      <td>644</td>\n",
       "    </tr>\n",
       "  </tbody>\n",
       "</table>\n",
       "</div>"
      ],
      "text/plain": [
       "                           Name   Sex  Ticket    Cabin Embarked\n",
       "count                       891   891     891      204      889\n",
       "unique                      891     2     681      147        3\n",
       "top     Braund, Mr. Owen Harris  male  347082  B96 B98        S\n",
       "freq                          1   577       7        4      644"
      ]
     },
     "execution_count": 12,
     "metadata": {},
     "output_type": "execute_result"
    }
   ],
   "source": [
    "train_df.describe(include=[object])  # object 타입 변수들의 통계치"
   ]
  },
  {
   "cell_type": "code",
   "execution_count": 13,
   "id": "71ee89f3",
   "metadata": {
    "execution": {
     "iopub.execute_input": "2023-12-18T04:11:40.532172Z",
     "iopub.status.busy": "2023-12-18T04:11:40.531753Z",
     "iopub.status.idle": "2023-12-18T04:11:40.552524Z",
     "shell.execute_reply": "2023-12-18T04:11:40.551593Z"
    },
    "papermill": {
     "duration": 0.045657,
     "end_time": "2023-12-18T04:11:40.554995",
     "exception": false,
     "start_time": "2023-12-18T04:11:40.509338",
     "status": "completed"
    },
    "tags": []
   },
   "outputs": [
    {
     "data": {
      "text/html": [
       "<div>\n",
       "<style scoped>\n",
       "    .dataframe tbody tr th:only-of-type {\n",
       "        vertical-align: middle;\n",
       "    }\n",
       "\n",
       "    .dataframe tbody tr th {\n",
       "        vertical-align: top;\n",
       "    }\n",
       "\n",
       "    .dataframe thead th {\n",
       "        text-align: right;\n",
       "    }\n",
       "</style>\n",
       "<table border=\"1\" class=\"dataframe\">\n",
       "  <thead>\n",
       "    <tr style=\"text-align: right;\">\n",
       "      <th></th>\n",
       "      <th>Name</th>\n",
       "      <th>Sex</th>\n",
       "      <th>Ticket</th>\n",
       "      <th>Cabin</th>\n",
       "      <th>Embarked</th>\n",
       "    </tr>\n",
       "  </thead>\n",
       "  <tbody>\n",
       "    <tr>\n",
       "      <th>count</th>\n",
       "      <td>418</td>\n",
       "      <td>418</td>\n",
       "      <td>418</td>\n",
       "      <td>91</td>\n",
       "      <td>418</td>\n",
       "    </tr>\n",
       "    <tr>\n",
       "      <th>unique</th>\n",
       "      <td>418</td>\n",
       "      <td>2</td>\n",
       "      <td>363</td>\n",
       "      <td>76</td>\n",
       "      <td>3</td>\n",
       "    </tr>\n",
       "    <tr>\n",
       "      <th>top</th>\n",
       "      <td>Kelly, Mr. James</td>\n",
       "      <td>male</td>\n",
       "      <td>PC 17608</td>\n",
       "      <td>B57 B59 B63 B66</td>\n",
       "      <td>S</td>\n",
       "    </tr>\n",
       "    <tr>\n",
       "      <th>freq</th>\n",
       "      <td>1</td>\n",
       "      <td>266</td>\n",
       "      <td>5</td>\n",
       "      <td>3</td>\n",
       "      <td>270</td>\n",
       "    </tr>\n",
       "  </tbody>\n",
       "</table>\n",
       "</div>"
      ],
      "text/plain": [
       "                    Name   Sex    Ticket            Cabin Embarked\n",
       "count                418   418       418               91      418\n",
       "unique               418     2       363               76        3\n",
       "top     Kelly, Mr. James  male  PC 17608  B57 B59 B63 B66        S\n",
       "freq                   1   266         5                3      270"
      ]
     },
     "execution_count": 13,
     "metadata": {},
     "output_type": "execute_result"
    }
   ],
   "source": [
    "test_df.describe(include=[object])"
   ]
  },
  {
   "cell_type": "markdown",
   "id": "257715cc",
   "metadata": {
    "papermill": {
     "duration": 0.020848,
     "end_time": "2023-12-18T04:11:40.597236",
     "exception": false,
     "start_time": "2023-12-18T04:11:40.576388",
     "status": "completed"
    },
    "tags": []
   },
   "source": [
    "## Categorical 변수들 생존-사망 시각화\n",
    "- Survived: target, 종속 변수, 0 or 1 categorical\n",
    "- Pclass: 독립변수, 1 or 2 or 3 categorical\n",
    "- Sex: 독립변수, male or female categorical\n",
    "- Embarked: 독립변수, C or Q or S categorical\n",
    "<br/><br/>\n",
    "1. Survived 개수 -> 불균형 데이터 확인  \n",
    "2. 독립변수에 따른 Survived 개수 -> 데이터 분포 확인"
   ]
  },
  {
   "cell_type": "code",
   "execution_count": 14,
   "id": "1ec92173",
   "metadata": {
    "execution": {
     "iopub.execute_input": "2023-12-18T04:11:40.641841Z",
     "iopub.status.busy": "2023-12-18T04:11:40.641430Z",
     "iopub.status.idle": "2023-12-18T04:11:41.152804Z",
     "shell.execute_reply": "2023-12-18T04:11:41.151689Z"
    },
    "papermill": {
     "duration": 0.536576,
     "end_time": "2023-12-18T04:11:41.155479",
     "exception": false,
     "start_time": "2023-12-18T04:11:40.618903",
     "status": "completed"
    },
    "tags": []
   },
   "outputs": [
    {
     "data": {
      "text/html": [
       "<div>\n",
       "<style scoped>\n",
       "    .dataframe tbody tr th:only-of-type {\n",
       "        vertical-align: middle;\n",
       "    }\n",
       "\n",
       "    .dataframe tbody tr th {\n",
       "        vertical-align: top;\n",
       "    }\n",
       "\n",
       "    .dataframe thead th {\n",
       "        text-align: right;\n",
       "    }\n",
       "</style>\n",
       "<table border=\"1\" class=\"dataframe\">\n",
       "  <thead>\n",
       "    <tr style=\"text-align: right;\">\n",
       "      <th></th>\n",
       "      <th>count</th>\n",
       "    </tr>\n",
       "    <tr>\n",
       "      <th>Survived</th>\n",
       "      <th></th>\n",
       "    </tr>\n",
       "  </thead>\n",
       "  <tbody>\n",
       "    <tr>\n",
       "      <th>0</th>\n",
       "      <td>549</td>\n",
       "    </tr>\n",
       "    <tr>\n",
       "      <th>1</th>\n",
       "      <td>342</td>\n",
       "    </tr>\n",
       "  </tbody>\n",
       "</table>\n",
       "</div>"
      ],
      "text/plain": [
       "          count\n",
       "Survived       \n",
       "0           549\n",
       "1           342"
      ]
     },
     "execution_count": 14,
     "metadata": {},
     "output_type": "execute_result"
    },
    {
     "data": {
      "image/png": "[encoded data removed]",
      "text/plain": [
       "<Figure size 1000x500 with 2 Axes>"
      ]
     },
     "metadata": {},
     "output_type": "display_data"
    }
   ],
   "source": [
    "plt.figure(figsize=(10,5))\n",
    "colors = sns.color_palette('pastel')\n",
    "\n",
    "plt.subplot(1,2,1)\n",
    "sns.set_style('whitegrid')\n",
    "sns.countplot(train_df,x='Survived', hue = 'Survived', palette = colors)\n",
    "\n",
    "plt.subplot(1,2,2)\n",
    "plt.pie(train_df['Survived'].value_counts().values, labels = [0, 1], colors = colors, autopct = '%.2f' )\n",
    "plt.legend(title='Survived')\n",
    "\n",
    "pd.DataFrame(train_df['Survived'].value_counts())"
   ]
  },
  {
   "cell_type": "code",
   "execution_count": 15,
   "id": "43be5afe",
   "metadata": {
    "execution": {
     "iopub.execute_input": "2023-12-18T04:11:41.202405Z",
     "iopub.status.busy": "2023-12-18T04:11:41.201951Z",
     "iopub.status.idle": "2023-12-18T04:11:41.874142Z",
     "shell.execute_reply": "2023-12-18T04:11:41.873084Z"
    },
    "papermill": {
     "duration": 0.698501,
     "end_time": "2023-12-18T04:11:41.876576",
     "exception": false,
     "start_time": "2023-12-18T04:11:41.178075",
     "status": "completed"
    },
    "tags": []
   },
   "outputs": [
    {
     "data": {
      "text/html": [
       "<div>\n",
       "<style scoped>\n",
       "    .dataframe tbody tr th:only-of-type {\n",
       "        vertical-align: middle;\n",
       "    }\n",
       "\n",
       "    .dataframe tbody tr th {\n",
       "        vertical-align: top;\n",
       "    }\n",
       "\n",
       "    .dataframe thead th {\n",
       "        text-align: right;\n",
       "    }\n",
       "</style>\n",
       "<table border=\"1\" class=\"dataframe\">\n",
       "  <thead>\n",
       "    <tr style=\"text-align: right;\">\n",
       "      <th></th>\n",
       "      <th>Survived</th>\n",
       "    </tr>\n",
       "    <tr>\n",
       "      <th>Pclass</th>\n",
       "      <th></th>\n",
       "    </tr>\n",
       "  </thead>\n",
       "  <tbody>\n",
       "    <tr>\n",
       "      <th>1</th>\n",
       "      <td>0.629630</td>\n",
       "    </tr>\n",
       "    <tr>\n",
       "      <th>2</th>\n",
       "      <td>0.472826</td>\n",
       "    </tr>\n",
       "    <tr>\n",
       "      <th>3</th>\n",
       "      <td>0.242363</td>\n",
       "    </tr>\n",
       "  </tbody>\n",
       "</table>\n",
       "</div>"
      ],
      "text/plain": [
       "        Survived\n",
       "Pclass          \n",
       "1       0.629630\n",
       "2       0.472826\n",
       "3       0.242363"
      ]
     },
     "execution_count": 15,
     "metadata": {},
     "output_type": "execute_result"
    },
    {
     "data": {
      "text/plain": [
       "<Figure size 800x400 with 0 Axes>"
      ]
     },
     "metadata": {},
     "output_type": "display_data"
    },
    {
     "data": {
      "image/png": "[encoded data removed]",
      "text/plain": [
       "<Figure size 572.111x500 with 1 Axes>"
      ]
     },
     "metadata": {},
     "output_type": "display_data"
    }
   ],
   "source": [
    "plt.figure(figsize=(8,4))\n",
    "\n",
    "sns.set_style('whitegrid')\n",
    "sns.catplot(train_df, x='Pclass', hue = 'Survived', palette = 'pastel', kind = 'count')\n",
    "\n",
    "train_df[['Pclass','Survived']].groupby('Pclass').mean()"
   ]
  },
  {
   "cell_type": "code",
   "execution_count": 16,
   "id": "6bb1566d",
   "metadata": {
    "execution": {
     "iopub.execute_input": "2023-12-18T04:11:41.926847Z",
     "iopub.status.busy": "2023-12-18T04:11:41.925118Z",
     "iopub.status.idle": "2023-12-18T04:11:42.516519Z",
     "shell.execute_reply": "2023-12-18T04:11:42.515371Z"
    },
    "papermill": {
     "duration": 0.619834,
     "end_time": "2023-12-18T04:11:42.519201",
     "exception": false,
     "start_time": "2023-12-18T04:11:41.899367",
     "status": "completed"
    },
    "tags": []
   },
   "outputs": [
    {
     "data": {
      "text/html": [
       "<div>\n",
       "<style scoped>\n",
       "    .dataframe tbody tr th:only-of-type {\n",
       "        vertical-align: middle;\n",
       "    }\n",
       "\n",
       "    .dataframe tbody tr th {\n",
       "        vertical-align: top;\n",
       "    }\n",
       "\n",
       "    .dataframe thead th {\n",
       "        text-align: right;\n",
       "    }\n",
       "</style>\n",
       "<table border=\"1\" class=\"dataframe\">\n",
       "  <thead>\n",
       "    <tr style=\"text-align: right;\">\n",
       "      <th></th>\n",
       "      <th>Survived</th>\n",
       "    </tr>\n",
       "    <tr>\n",
       "      <th>Sex</th>\n",
       "      <th></th>\n",
       "    </tr>\n",
       "  </thead>\n",
       "  <tbody>\n",
       "    <tr>\n",
       "      <th>female</th>\n",
       "      <td>0.742038</td>\n",
       "    </tr>\n",
       "    <tr>\n",
       "      <th>male</th>\n",
       "      <td>0.188908</td>\n",
       "    </tr>\n",
       "  </tbody>\n",
       "</table>\n",
       "</div>"
      ],
      "text/plain": [
       "        Survived\n",
       "Sex             \n",
       "female  0.742038\n",
       "male    0.188908"
      ]
     },
     "execution_count": 16,
     "metadata": {},
     "output_type": "execute_result"
    },
    {
     "data": {
      "text/plain": [
       "<Figure size 800x400 with 0 Axes>"
      ]
     },
     "metadata": {},
     "output_type": "display_data"
    },
    {
     "data": {
      "image/png": "[encoded data removed]",
      "text/plain": [
       "<Figure size 572.111x500 with 1 Axes>"
      ]
     },
     "metadata": {},
     "output_type": "display_data"
    }
   ],
   "source": [
    "plt.figure(figsize=(8,4))\n",
    "\n",
    "sns.set_style('whitegrid')\n",
    "sns.catplot(train_df, x='Sex', hue = 'Survived', palette = 'pastel', kind = 'count')\n",
    "train_df[['Sex','Survived']].groupby('Sex').mean()"
   ]
  },
  {
   "cell_type": "code",
   "execution_count": 17,
   "id": "f369c98d",
   "metadata": {
    "execution": {
     "iopub.execute_input": "2023-12-18T04:11:42.569180Z",
     "iopub.status.busy": "2023-12-18T04:11:42.568134Z",
     "iopub.status.idle": "2023-12-18T04:11:43.226871Z",
     "shell.execute_reply": "2023-12-18T04:11:43.225616Z"
    },
    "papermill": {
     "duration": 0.686202,
     "end_time": "2023-12-18T04:11:43.229276",
     "exception": false,
     "start_time": "2023-12-18T04:11:42.543074",
     "status": "completed"
    },
    "tags": []
   },
   "outputs": [
    {
     "data": {
      "text/html": [
       "<div>\n",
       "<style scoped>\n",
       "    .dataframe tbody tr th:only-of-type {\n",
       "        vertical-align: middle;\n",
       "    }\n",
       "\n",
       "    .dataframe tbody tr th {\n",
       "        vertical-align: top;\n",
       "    }\n",
       "\n",
       "    .dataframe thead th {\n",
       "        text-align: right;\n",
       "    }\n",
       "</style>\n",
       "<table border=\"1\" class=\"dataframe\">\n",
       "  <thead>\n",
       "    <tr style=\"text-align: right;\">\n",
       "      <th></th>\n",
       "      <th>Survived</th>\n",
       "    </tr>\n",
       "    <tr>\n",
       "      <th>Embarked</th>\n",
       "      <th></th>\n",
       "    </tr>\n",
       "  </thead>\n",
       "  <tbody>\n",
       "    <tr>\n",
       "      <th>C</th>\n",
       "      <td>0.553571</td>\n",
       "    </tr>\n",
       "    <tr>\n",
       "      <th>Q</th>\n",
       "      <td>0.389610</td>\n",
       "    </tr>\n",
       "    <tr>\n",
       "      <th>S</th>\n",
       "      <td>0.336957</td>\n",
       "    </tr>\n",
       "  </tbody>\n",
       "</table>\n",
       "</div>"
      ],
      "text/plain": [
       "          Survived\n",
       "Embarked          \n",
       "C         0.553571\n",
       "Q         0.389610\n",
       "S         0.336957"
      ]
     },
     "execution_count": 17,
     "metadata": {},
     "output_type": "execute_result"
    },
    {
     "data": {
      "text/plain": [
       "<Figure size 800x400 with 0 Axes>"
      ]
     },
     "metadata": {},
     "output_type": "display_data"
    },
    {
     "data": {
      "image/png": "[encoded data removed]",
      "text/plain": [
       "<Figure size 572.111x500 with 1 Axes>"
      ]
     },
     "metadata": {},
     "output_type": "display_data"
    }
   ],
   "source": [
    "plt.figure(figsize=(8,4))\n",
    "\n",
    "sns.set_style('whitegrid')\n",
    "sns.catplot(train_df, x='Embarked', hue = 'Survived', palette = 'pastel', kind = 'count')\n",
    "\n",
    "train_df[['Embarked','Survived']].groupby('Embarked').mean()"
   ]
  },
  {
   "cell_type": "markdown",
   "id": "96f27f5e",
   "metadata": {
    "papermill": {
     "duration": 0.02383,
     "end_time": "2023-12-18T04:11:43.277582",
     "exception": false,
     "start_time": "2023-12-18T04:11:43.253752",
     "status": "completed"
    },
    "tags": []
   },
   "source": [
    "- Survived  \n",
    "   : 생존(38.38%) < 사망(61.62%), 데이터 불균형 해소 과정(과적합 해결)은 이후 score 개선 단계에서 생각<br/><br/>\n",
    "- Pclass  \n",
    "   : 1등급 생존률 62.96%, 2등급 생존률 47.28%, 3등급 생존률 24.28%,  3등급 탑승권의 사망자가 눈에 띄게 많으므로 해석할 필요가 있어보임, 변수 채택<br/><br/>\n",
    "- Sex  \n",
    "   : 성별에 따라 생존-사망의 패턴이 반대(여 생존률 74.20%, 남 생존률 18.89%)로 나타나므로 해석할 필요가 있어보임, 변수 채택<br/><br/>\n",
    "- Embarked  \n",
    "   : 셰르부르C 생존률 55.34%, 퀸스타운Q 생존률 38.96%, 사우샘프턴S 생존률 33.70%, C에서 승선한 탑승객의 생존-사망 패턴만 다름(근소하나 생존 우의), 해석할 필요가 있어보임, 변수 채택"
   ]
  },
  {
   "cell_type": "markdown",
   "id": "d2ba8b66",
   "metadata": {
    "papermill": {
     "duration": 0.023978,
     "end_time": "2023-12-18T04:11:43.326058",
     "exception": false,
     "start_time": "2023-12-18T04:11:43.302080",
     "status": "completed"
    },
    "tags": []
   },
   "source": [
    "## 수치형 변수들 생존-사망 시각화"
   ]
  },
  {
   "cell_type": "code",
   "execution_count": 18,
   "id": "6e4f1a23",
   "metadata": {
    "execution": {
     "iopub.execute_input": "2023-12-18T04:11:43.377162Z",
     "iopub.status.busy": "2023-12-18T04:11:43.376537Z",
     "iopub.status.idle": "2023-12-18T04:11:43.389562Z",
     "shell.execute_reply": "2023-12-18T04:11:43.388722Z"
    },
    "papermill": {
     "duration": 0.041192,
     "end_time": "2023-12-18T04:11:43.391724",
     "exception": false,
     "start_time": "2023-12-18T04:11:43.350532",
     "status": "completed"
    },
    "tags": []
   },
   "outputs": [
    {
     "data": {
      "text/html": [
       "<div>\n",
       "<style scoped>\n",
       "    .dataframe tbody tr th:only-of-type {\n",
       "        vertical-align: middle;\n",
       "    }\n",
       "\n",
       "    .dataframe tbody tr th {\n",
       "        vertical-align: top;\n",
       "    }\n",
       "\n",
       "    .dataframe thead th {\n",
       "        text-align: right;\n",
       "    }\n",
       "</style>\n",
       "<table border=\"1\" class=\"dataframe\">\n",
       "  <thead>\n",
       "    <tr style=\"text-align: right;\">\n",
       "      <th></th>\n",
       "      <th>PassengerId</th>\n",
       "      <th>Age</th>\n",
       "      <th>SibSp</th>\n",
       "      <th>Parch</th>\n",
       "      <th>Fare</th>\n",
       "    </tr>\n",
       "  </thead>\n",
       "  <tbody>\n",
       "    <tr>\n",
       "      <th>0</th>\n",
       "      <td>1</td>\n",
       "      <td>22.0</td>\n",
       "      <td>1</td>\n",
       "      <td>0</td>\n",
       "      <td>7.2500</td>\n",
       "    </tr>\n",
       "    <tr>\n",
       "      <th>1</th>\n",
       "      <td>2</td>\n",
       "      <td>38.0</td>\n",
       "      <td>1</td>\n",
       "      <td>0</td>\n",
       "      <td>71.2833</td>\n",
       "    </tr>\n",
       "    <tr>\n",
       "      <th>2</th>\n",
       "      <td>3</td>\n",
       "      <td>26.0</td>\n",
       "      <td>0</td>\n",
       "      <td>0</td>\n",
       "      <td>7.9250</td>\n",
       "    </tr>\n",
       "    <tr>\n",
       "      <th>3</th>\n",
       "      <td>4</td>\n",
       "      <td>35.0</td>\n",
       "      <td>1</td>\n",
       "      <td>0</td>\n",
       "      <td>53.1000</td>\n",
       "    </tr>\n",
       "    <tr>\n",
       "      <th>4</th>\n",
       "      <td>5</td>\n",
       "      <td>35.0</td>\n",
       "      <td>0</td>\n",
       "      <td>0</td>\n",
       "      <td>8.0500</td>\n",
       "    </tr>\n",
       "  </tbody>\n",
       "</table>\n",
       "</div>"
      ],
      "text/plain": [
       "   PassengerId   Age  SibSp  Parch     Fare\n",
       "0            1  22.0      1      0   7.2500\n",
       "1            2  38.0      1      0  71.2833\n",
       "2            3  26.0      0      0   7.9250\n",
       "3            4  35.0      1      0  53.1000\n",
       "4            5  35.0      0      0   8.0500"
      ]
     },
     "execution_count": 18,
     "metadata": {},
     "output_type": "execute_result"
    }
   ],
   "source": [
    "n_train_df = train_df.select_dtypes(include=np.number).iloc[:,[0,3,4,5,6]]\n",
    "n_train_df.head()"
   ]
  },
  {
   "cell_type": "markdown",
   "id": "f14d96fd",
   "metadata": {
    "papermill": {
     "duration": 0.024167,
     "end_time": "2023-12-18T04:11:43.440978",
     "exception": false,
     "start_time": "2023-12-18T04:11:43.416811",
     "status": "completed"
    },
    "tags": []
   },
   "source": [
    "- 이산형: PassengerId, SibSp,Parch\n",
    "- 연속형: Age, Fare  \n",
    "- PassengerId &rarr; 이후의 정보라 생존-사망과는 관련 없어보임 &rarr; 변수 제외  \n",
    "\\*참고, 모두 독립변수 \n",
    "1. Survived가 사망(0)인 경우와 생존(1)인 경우의 각각의 변수 형태 확인\n",
    "2. 이상치 데이터 확인\n",
    "3. 시각화: 히스토그램, boxplot 등"
   ]
  },
  {
   "cell_type": "code",
   "execution_count": 19,
   "id": "ffa34bc4",
   "metadata": {
    "execution": {
     "iopub.execute_input": "2023-12-18T04:11:43.493004Z",
     "iopub.status.busy": "2023-12-18T04:11:43.491904Z",
     "iopub.status.idle": "2023-12-18T04:11:44.300597Z",
     "shell.execute_reply": "2023-12-18T04:11:44.299360Z"
    },
    "papermill": {
     "duration": 0.837789,
     "end_time": "2023-12-18T04:11:44.303677",
     "exception": false,
     "start_time": "2023-12-18T04:11:43.465888",
     "status": "completed"
    },
    "tags": []
   },
   "outputs": [
    {
     "data": {
      "text/plain": [
       "<Axes: ylabel='Parch'>"
      ]
     },
     "execution_count": 19,
     "metadata": {},
     "output_type": "execute_result"
    },
    {
     "data": {
      "image/png": "[encoded data removed]",
      "text/plain": [
       "<Figure size 640x480 with 2 Axes>"
      ]
     },
     "metadata": {},
     "output_type": "display_data"
    },
    {
     "data": {
      "image/png": "[encoded data removed]",
      "text/plain": [
       "<Figure size 640x480 with 2 Axes>"
      ]
     },
     "metadata": {},
     "output_type": "display_data"
    }
   ],
   "source": [
    "fig1, axes1 = plt.subplots(1,2)\n",
    "\n",
    "sns.boxplot(y=n_train_df['Age'],color=colors[0],ax=axes1[0])\n",
    "sns.boxplot(y=n_train_df['Fare'],color=colors[1],ax=axes1[1])\n",
    "\n",
    "fig2, axes2 = plt.subplots(1,2)\n",
    "\n",
    "sns.boxplot(y = n_train_df['SibSp'],color=colors[2],ax=axes2[0])\n",
    "sns.boxplot(y = n_train_df['Parch'],color=colors[3],ax=axes2[1])\n"
   ]
  },
  {
   "cell_type": "code",
   "execution_count": 20,
   "id": "ca933f70",
   "metadata": {
    "execution": {
     "iopub.execute_input": "2023-12-18T04:11:44.365879Z",
     "iopub.status.busy": "2023-12-18T04:11:44.365162Z",
     "iopub.status.idle": "2023-12-18T04:11:45.981648Z",
     "shell.execute_reply": "2023-12-18T04:11:45.980598Z"
    },
    "papermill": {
     "duration": 1.646703,
     "end_time": "2023-12-18T04:11:45.984237",
     "exception": false,
     "start_time": "2023-12-18T04:11:44.337534",
     "status": "completed"
    },
    "tags": []
   },
   "outputs": [
    {
     "data": {
      "image/png": "[encoded data removed]",
      "text/plain": [
       "<Figure size 600x300 with 2 Axes>"
      ]
     },
     "metadata": {},
     "output_type": "display_data"
    }
   ],
   "source": [
    "p = sns.FacetGrid(train_df,col = 'Survived',palette=colors)\n",
    "p = p.map(sns.histplot, 'Age',bins=80,kde=True)"
   ]
  },
  {
   "cell_type": "code",
   "execution_count": 21,
   "id": "da5d6ce1",
   "metadata": {
    "execution": {
     "iopub.execute_input": "2023-12-18T04:11:46.042868Z",
     "iopub.status.busy": "2023-12-18T04:11:46.042447Z",
     "iopub.status.idle": "2023-12-18T04:11:47.333587Z",
     "shell.execute_reply": "2023-12-18T04:11:47.332407Z"
    },
    "papermill": {
     "duration": 1.324032,
     "end_time": "2023-12-18T04:11:47.336425",
     "exception": false,
     "start_time": "2023-12-18T04:11:46.012393",
     "status": "completed"
    },
    "tags": []
   },
   "outputs": [
    {
     "data": {
      "image/png": "[encoded data removed]",
      "text/plain": [
       "<Figure size 600x300 with 2 Axes>"
      ]
     },
     "metadata": {},
     "output_type": "display_data"
    }
   ],
   "source": [
    "p = sns.FacetGrid(train_df,col = 'Survived',palette=colors)\n",
    "p = p.map(sns.histplot, 'Fare',bins=20,kde=True)"
   ]
  },
  {
   "cell_type": "code",
   "execution_count": 22,
   "id": "8a8c14c4",
   "metadata": {
    "execution": {
     "iopub.execute_input": "2023-12-18T04:11:47.392819Z",
     "iopub.status.busy": "2023-12-18T04:11:47.391962Z",
     "iopub.status.idle": "2023-12-18T04:11:48.173670Z",
     "shell.execute_reply": "2023-12-18T04:11:48.172515Z"
    },
    "papermill": {
     "duration": 0.813079,
     "end_time": "2023-12-18T04:11:48.176743",
     "exception": false,
     "start_time": "2023-12-18T04:11:47.363664",
     "status": "completed"
    },
    "tags": []
   },
   "outputs": [
    {
     "data": {
      "text/plain": [
       "<seaborn.axisgrid.FacetGrid at 0x7bce1962c400>"
      ]
     },
     "execution_count": 22,
     "metadata": {},
     "output_type": "execute_result"
    },
    {
     "data": {
      "text/plain": [
       "<Figure size 800x400 with 0 Axes>"
      ]
     },
     "metadata": {},
     "output_type": "display_data"
    },
    {
     "data": {
      "image/png": "[encoded data removed]",
      "text/plain": [
       "<Figure size 572.111x500 with 1 Axes>"
      ]
     },
     "metadata": {},
     "output_type": "display_data"
    }
   ],
   "source": [
    "plt.figure(figsize=(8,4))\n",
    "\n",
    "sns.set_style('whitegrid')\n",
    "sns.catplot(train_df, x='SibSp', hue = 'Survived', palette = colors, kind = 'count')"
   ]
  },
  {
   "cell_type": "code",
   "execution_count": 23,
   "id": "3d370e94",
   "metadata": {
    "execution": {
     "iopub.execute_input": "2023-12-18T04:11:48.233484Z",
     "iopub.status.busy": "2023-12-18T04:11:48.232529Z",
     "iopub.status.idle": "2023-12-18T04:11:48.969986Z",
     "shell.execute_reply": "2023-12-18T04:11:48.968698Z"
    },
    "papermill": {
     "duration": 0.768556,
     "end_time": "2023-12-18T04:11:48.972329",
     "exception": false,
     "start_time": "2023-12-18T04:11:48.203773",
     "status": "completed"
    },
    "tags": []
   },
   "outputs": [
    {
     "data": {
      "text/plain": [
       "<seaborn.axisgrid.FacetGrid at 0x7bce1e60f4f0>"
      ]
     },
     "execution_count": 23,
     "metadata": {},
     "output_type": "execute_result"
    },
    {
     "data": {
      "text/plain": [
       "<Figure size 800x400 with 0 Axes>"
      ]
     },
     "metadata": {},
     "output_type": "display_data"
    },
    {
     "data": {
      "image/png": "[encoded data removed]",
      "text/plain": [
       "<Figure size 572.111x500 with 1 Axes>"
      ]
     },
     "metadata": {},
     "output_type": "display_data"
    }
   ],
   "source": [
    "plt.figure(figsize=(8,4))\n",
    "\n",
    "sns.set_style('whitegrid')\n",
    "sns.catplot(train_df, x='Parch', hue = 'Survived', palette = colors, kind = 'count')"
   ]
  },
  {
   "cell_type": "markdown",
   "id": "90b565b4",
   "metadata": {
    "papermill": {
     "duration": 0.029073,
     "end_time": "2023-12-18T04:11:49.028884",
     "exception": false,
     "start_time": "2023-12-18T04:11:48.999811",
     "status": "completed"
    },
    "tags": []
   },
   "source": [
    "- 네 독립변수 모두 이상치 존재  \n",
    "- SibSp와 Parch는 동승자에 대한 정보라는 점에서 공통점 존재, 동승자라는 새로운 변수 생성\n",
    "- Fare는 Pclass과 함께 비용이라는 공통점이 존재(Pclass의 등급이 높을 수록 비용이 높을 것이라는 생각),   \n",
    "  Fare를 category로 범주화하여 이상치 해결\n",
    "- 원래 나이는 이산형 데이터지만, Age 변수는 1살 미만의 아이와 정확한 나이를 모르는 사람은 소수점 이하 자리가 있는 연속형,  \n",
    "  고령자의 인원이 별로 없어 이상치가 되는 점, 특정 변수값(0)에 분포가 몰려있다는 점을 고려해 연령대 범주화로 해결"
   ]
  },
  {
   "cell_type": "markdown",
   "id": "5895ccf9",
   "metadata": {
    "papermill": {
     "duration": 0.027304,
     "end_time": "2023-12-18T04:11:49.083731",
     "exception": false,
     "start_time": "2023-12-18T04:11:49.056427",
     "status": "completed"
    },
    "tags": []
   },
   "source": [
    "## Object(문자형) 변수들\n",
    "- 데이터 타입이 object였던 변수 중, categorical이 아니어서 시각화하지 못한 변수들  \n",
    "    : Name, Ticket, Cabin"
   ]
  },
  {
   "cell_type": "code",
   "execution_count": 24,
   "id": "42ed27e0",
   "metadata": {
    "execution": {
     "iopub.execute_input": "2023-12-18T04:11:49.141484Z",
     "iopub.status.busy": "2023-12-18T04:11:49.140519Z",
     "iopub.status.idle": "2023-12-18T04:11:49.150258Z",
     "shell.execute_reply": "2023-12-18T04:11:49.149390Z"
    },
    "papermill": {
     "duration": 0.041076,
     "end_time": "2023-12-18T04:11:49.152409",
     "exception": false,
     "start_time": "2023-12-18T04:11:49.111333",
     "status": "completed"
    },
    "tags": []
   },
   "outputs": [
    {
     "data": {
      "text/plain": [
       "(0                               Braund, Mr. Owen Harris\n",
       " 1     Cumings, Mrs. John Bradley (Florence Briggs Th...\n",
       " 2                                Heikkinen, Miss. Laina\n",
       " 3          Futrelle, Mrs. Jacques Heath (Lily May Peel)\n",
       " 4                              Allen, Mr. William Henry\n",
       " 5                                      Moran, Mr. James\n",
       " 6                               McCarthy, Mr. Timothy J\n",
       " 7                        Palsson, Master. Gosta Leonard\n",
       " 8     Johnson, Mrs. Oscar W (Elisabeth Vilhelmina Berg)\n",
       " 9                   Nasser, Mrs. Nicholas (Adele Achem)\n",
       " 10                      Sandstrom, Miss. Marguerite Rut\n",
       " Name: Name, dtype: object,\n",
       " 0)"
      ]
     },
     "execution_count": 24,
     "metadata": {},
     "output_type": "execute_result"
    }
   ],
   "source": [
    "train_df['Name'].iloc[:11], train_df['Name'].isnull().sum()"
   ]
  },
  {
   "cell_type": "code",
   "execution_count": 25,
   "id": "2edb4e46",
   "metadata": {
    "execution": {
     "iopub.execute_input": "2023-12-18T04:11:49.209987Z",
     "iopub.status.busy": "2023-12-18T04:11:49.209572Z",
     "iopub.status.idle": "2023-12-18T04:11:49.218888Z",
     "shell.execute_reply": "2023-12-18T04:11:49.217808Z"
    },
    "papermill": {
     "duration": 0.041065,
     "end_time": "2023-12-18T04:11:49.221484",
     "exception": false,
     "start_time": "2023-12-18T04:11:49.180419",
     "status": "completed"
    },
    "tags": []
   },
   "outputs": [
    {
     "data": {
      "text/plain": [
       "(50       3101295\n",
       " 51    A/4. 39886\n",
       " 52      PC 17572\n",
       " 53          2926\n",
       " 54        113509\n",
       " 55         19947\n",
       " 56    C.A. 31026\n",
       " 57          2697\n",
       " 58    C.A. 34651\n",
       " 59       CA 2144\n",
       " Name: Ticket, dtype: object,\n",
       " 0)"
      ]
     },
     "execution_count": 25,
     "metadata": {},
     "output_type": "execute_result"
    }
   ],
   "source": [
    "train_df['Ticket'].iloc[50:60], train_df['Ticket'].isnull().sum()"
   ]
  },
  {
   "cell_type": "code",
   "execution_count": 26,
   "id": "47206774",
   "metadata": {
    "execution": {
     "iopub.execute_input": "2023-12-18T04:11:49.280402Z",
     "iopub.status.busy": "2023-12-18T04:11:49.279997Z",
     "iopub.status.idle": "2023-12-18T04:11:49.289955Z",
     "shell.execute_reply": "2023-12-18T04:11:49.288775Z"
    },
    "papermill": {
     "duration": 0.042774,
     "end_time": "2023-12-18T04:11:49.292712",
     "exception": false,
     "start_time": "2023-12-18T04:11:49.249938",
     "status": "completed"
    },
    "tags": []
   },
   "outputs": [
    {
     "data": {
      "text/plain": [
       "(1              C85\n",
       " 3             C123\n",
       " 6              E46\n",
       " 10              G6\n",
       " 11            C103\n",
       "           ...     \n",
       " 871            D35\n",
       " 872    B51 B53 B55\n",
       " 879            C50\n",
       " 887            B42\n",
       " 889           C148\n",
       " Name: Cabin, Length: 204, dtype: object,\n",
       " 687)"
      ]
     },
     "execution_count": 26,
     "metadata": {},
     "output_type": "execute_result"
    }
   ],
   "source": [
    "train_df[train_df['Cabin'].notnull()]['Cabin'], train_df['Cabin'].isnull().sum()"
   ]
  },
  {
   "cell_type": "markdown",
   "id": "14c0b840",
   "metadata": {
    "papermill": {
     "duration": 0.028289,
     "end_time": "2023-12-18T04:11:49.349714",
     "exception": false,
     "start_time": "2023-12-18T04:11:49.321425",
     "status": "completed"
    },
    "tags": []
   },
   "source": [
    "- Name: 대부분 '이름, 혼인여부. 성'의 형식, 혼인여부로 성별 판단 가능, 성으로 가족관계 유추 가능, 괄호 안의 정보는 무엇인지 불명확  \n",
    "    &rarr; 성별에 대한 데이터(Sex)와 가족 관계(동승자)(SibSp,Parch)에 대한 데이터가 모두 존재하므로 이번 분석에서는 Name 변수 제외\n",
    "- Ticket: 형식이 일관되지 않음(알파벳+숫자와 숫자 형식이 혼재), 탑승권은 탑승 등급(Pclass)와 여객 요금(Fare)의 정보를 담고 있을 것이라 생각, 이번 분석에서는 변수 제외\n",
    "- Cabin: 형식은 '알파벳+숫자'로 일관되나 값이 1개가 아닌 데이터(index 872)가 존재, 또한 결측치의 비율이 약 77%로 결측치 처리가 어려워 보임, 변수 제외"
   ]
  },
  {
   "cell_type": "markdown",
   "id": "d32f9365",
   "metadata": {
    "papermill": {
     "duration": 0.028106,
     "end_time": "2023-12-18T04:11:49.406212",
     "exception": false,
     "start_time": "2023-12-18T04:11:49.378106",
     "status": "completed"
    },
    "tags": []
   },
   "source": [
    "# 전처리(Preprocessing)"
   ]
  },
  {
   "cell_type": "markdown",
   "id": "a5788976",
   "metadata": {
    "papermill": {
     "duration": 0.028138,
     "end_time": "2023-12-18T04:11:49.462879",
     "exception": false,
     "start_time": "2023-12-18T04:11:49.434741",
     "status": "completed"
    },
    "tags": []
   },
   "source": [
    "## 필요한 전처리 내용\n",
    "- 결측치 처리\n",
    "    - Age, Embarked, Fare(test에만 있음->모델 제출 시에는 결측치 제거 함수 필요할 듯)\n",
    "<br/><br/>\n",
    "- 라벨링\n",
    "    - Sex, Embarked\n",
    "<br/><br/>\n",
    "- 이상치 처리\n",
    "    - Age, Fare, SibSp, Parch"
   ]
  },
  {
   "cell_type": "markdown",
   "id": "0922113f",
   "metadata": {
    "papermill": {
     "duration": 0.027874,
     "end_time": "2023-12-18T04:11:49.519100",
     "exception": false,
     "start_time": "2023-12-18T04:11:49.491226",
     "status": "completed"
    },
    "tags": []
   },
   "source": [
    "#### 범주형 변수 Embarked의 결측치 처리: 최빈값"
   ]
  },
  {
   "cell_type": "code",
   "execution_count": 27,
   "id": "f69a263e",
   "metadata": {
    "execution": {
     "iopub.execute_input": "2023-12-18T04:11:49.577032Z",
     "iopub.status.busy": "2023-12-18T04:11:49.576562Z",
     "iopub.status.idle": "2023-12-18T04:11:49.586438Z",
     "shell.execute_reply": "2023-12-18T04:11:49.585263Z"
    },
    "papermill": {
     "duration": 0.042054,
     "end_time": "2023-12-18T04:11:49.588992",
     "exception": false,
     "start_time": "2023-12-18T04:11:49.546938",
     "status": "completed"
    },
    "tags": []
   },
   "outputs": [
    {
     "data": {
      "text/plain": [
       "(Embarked\n",
       " S    644\n",
       " C    168\n",
       " Q     77\n",
       " Name: count, dtype: int64,\n",
       " 2)"
      ]
     },
     "execution_count": 27,
     "metadata": {},
     "output_type": "execute_result"
    }
   ],
   "source": [
    "train_df['Embarked'].value_counts(), train_df['Embarked'].isnull().sum()"
   ]
  },
  {
   "cell_type": "code",
   "execution_count": 28,
   "id": "5df7889e",
   "metadata": {
    "execution": {
     "iopub.execute_input": "2023-12-18T04:11:49.648207Z",
     "iopub.status.busy": "2023-12-18T04:11:49.647809Z",
     "iopub.status.idle": "2023-12-18T04:11:49.929229Z",
     "shell.execute_reply": "2023-12-18T04:11:49.928135Z"
    },
    "papermill": {
     "duration": 0.314244,
     "end_time": "2023-12-18T04:11:49.931946",
     "exception": false,
     "start_time": "2023-12-18T04:11:49.617702",
     "status": "completed"
    },
    "tags": []
   },
   "outputs": [
    {
     "data": {
      "text/plain": [
       "<Axes: xlabel='Embarked', ylabel='count'>"
      ]
     },
     "execution_count": 28,
     "metadata": {},
     "output_type": "execute_result"
    },
    {
     "data": {
      "image/png": "[encoded data removed]",
      "text/plain": [
       "<Figure size 600x300 with 1 Axes>"
      ]
     },
     "metadata": {},
     "output_type": "display_data"
    }
   ],
   "source": [
    "fig = plt.figure(figsize=(6,3))\n",
    "sns.countplot(x = train_df['Embarked'],palette=colors)"
   ]
  },
  {
   "cell_type": "code",
   "execution_count": 29,
   "id": "b50f6bb2",
   "metadata": {
    "execution": {
     "iopub.execute_input": "2023-12-18T04:11:49.991850Z",
     "iopub.status.busy": "2023-12-18T04:11:49.991113Z",
     "iopub.status.idle": "2023-12-18T04:11:50.000675Z",
     "shell.execute_reply": "2023-12-18T04:11:49.999582Z"
    },
    "papermill": {
     "duration": 0.042119,
     "end_time": "2023-12-18T04:11:50.003111",
     "exception": false,
     "start_time": "2023-12-18T04:11:49.960992",
     "status": "completed"
    },
    "tags": []
   },
   "outputs": [
    {
     "data": {
      "text/plain": [
       "0"
      ]
     },
     "execution_count": 29,
     "metadata": {},
     "output_type": "execute_result"
    }
   ],
   "source": [
    "# 결측치를 갖는 데이터 2개는 최빈값인 S에 할당\n",
    "train_df['Embarked'] = train_df['Embarked'].fillna('S')\n",
    "train_df['Embarked'].isnull().sum()"
   ]
  },
  {
   "cell_type": "markdown",
   "id": "1218d054",
   "metadata": {
    "papermill": {
     "duration": 0.027895,
     "end_time": "2023-12-18T04:11:50.060241",
     "exception": false,
     "start_time": "2023-12-18T04:11:50.032346",
     "status": "completed"
    },
    "tags": []
   },
   "source": [
    "#### 라벨링"
   ]
  },
  {
   "cell_type": "code",
   "execution_count": 30,
   "id": "ac263f41",
   "metadata": {
    "execution": {
     "iopub.execute_input": "2023-12-18T04:11:50.120669Z",
     "iopub.status.busy": "2023-12-18T04:11:50.120302Z",
     "iopub.status.idle": "2023-12-18T04:11:50.127551Z",
     "shell.execute_reply": "2023-12-18T04:11:50.126462Z"
    },
    "papermill": {
     "duration": 0.040301,
     "end_time": "2023-12-18T04:11:50.129934",
     "exception": false,
     "start_time": "2023-12-18T04:11:50.089633",
     "status": "completed"
    },
    "tags": []
   },
   "outputs": [],
   "source": [
    "# {'male':0, 'female':1}\n",
    "train_df['Sex'] = train_df['Sex'].map({'male':0, 'female':1})"
   ]
  },
  {
   "cell_type": "code",
   "execution_count": 31,
   "id": "2389f4ee",
   "metadata": {
    "execution": {
     "iopub.execute_input": "2023-12-18T04:11:50.191884Z",
     "iopub.status.busy": "2023-12-18T04:11:50.191051Z",
     "iopub.status.idle": "2023-12-18T04:11:50.198185Z",
     "shell.execute_reply": "2023-12-18T04:11:50.197002Z"
    },
    "papermill": {
     "duration": 0.040057,
     "end_time": "2023-12-18T04:11:50.200553",
     "exception": false,
     "start_time": "2023-12-18T04:11:50.160496",
     "status": "completed"
    },
    "tags": []
   },
   "outputs": [],
   "source": [
    "# {'C':0, 'S':1, 'Q':2}\n",
    "train_df['Embarked'] = train_df['Embarked'].map({'C':0, 'S':1, 'Q':2})"
   ]
  },
  {
   "cell_type": "markdown",
   "id": "c14f912f",
   "metadata": {
    "papermill": {
     "duration": 0.02887,
     "end_time": "2023-12-18T04:11:50.258786",
     "exception": false,
     "start_time": "2023-12-18T04:11:50.229916",
     "status": "completed"
    },
    "tags": []
   },
   "source": [
    "#### 수치형 변수 Age의 결측치 처리\n",
    "- 결측치의 분류\n",
    "    - MCAR, MAR, MNAR\n",
    "    - Age 변수와 다른 변수들의 상관관계 확인\n"
   ]
  },
  {
   "cell_type": "code",
   "execution_count": 32,
   "id": "17b321f9",
   "metadata": {
    "execution": {
     "iopub.execute_input": "2023-12-18T04:11:50.319594Z",
     "iopub.status.busy": "2023-12-18T04:11:50.319200Z",
     "iopub.status.idle": "2023-12-18T04:11:51.990760Z",
     "shell.execute_reply": "2023-12-18T04:11:51.989869Z"
    },
    "papermill": {
     "duration": 1.705159,
     "end_time": "2023-12-18T04:11:51.993438",
     "exception": false,
     "start_time": "2023-12-18T04:11:50.288279",
     "status": "completed"
    },
    "tags": []
   },
   "outputs": [
    {
     "data": {
      "text/plain": [
       "<Axes: >"
      ]
     },
     "execution_count": 32,
     "metadata": {},
     "output_type": "execute_result"
    },
    {
     "data": {
      "image/png": "[encoded data removed]",
      "text/plain": [
       "<Figure size 1500x600 with 3 Axes>"
      ]
     },
     "metadata": {},
     "output_type": "display_data"
    }
   ],
   "source": [
    "fig, axes = plt.subplots(1,2)\n",
    "fig.set_size_inches(15,6)\n",
    "sns.heatmap(train_df.isnull(), cbar=False, cmap='YlGnBu_r',ax=axes[0])\n",
    "sns.heatmap(train_df.drop(['Survived','Cabin','Name','Ticket'],axis = 1).corr(), annot=True, cmap='YlGnBu', ax= axes[1])"
   ]
  },
  {
   "cell_type": "markdown",
   "id": "0d1b3753",
   "metadata": {
    "papermill": {
     "duration": 0.032459,
     "end_time": "2023-12-18T04:11:52.057687",
     "exception": false,
     "start_time": "2023-12-18T04:11:52.025228",
     "status": "completed"
    },
    "tags": []
   },
   "source": [
    "- 왼쪽 히트맵: 결측치들의 분포 위치 시각화\n",
    "- 오른쪽 히트맵: 변수들 간의 상관관계 시각화\n",
    "<br/><br/>\n",
    "- Age 변수의 결측값의 분포를 보면 특정한 패턴 없이 무작위로 발생했음을 알 수 있음 -> MCAR, MAR\n",
    "- Age 변수와 다른 변수들 간의 상관관계를 보면 대부분 0에 가까움.\n",
    "- Pclass와 SibSp는 다른 변수들에 비해 상대적으로 -1에 가까움"
   ]
  },
  {
   "cell_type": "code",
   "execution_count": 33,
   "id": "c54e763c",
   "metadata": {
    "execution": {
     "iopub.execute_input": "2023-12-18T04:11:52.122580Z",
     "iopub.status.busy": "2023-12-18T04:11:52.122001Z",
     "iopub.status.idle": "2023-12-18T04:11:52.143122Z",
     "shell.execute_reply": "2023-12-18T04:11:52.141904Z"
    },
    "papermill": {
     "duration": 0.056295,
     "end_time": "2023-12-18T04:11:52.145808",
     "exception": false,
     "start_time": "2023-12-18T04:11:52.089513",
     "status": "completed"
    },
    "tags": []
   },
   "outputs": [
    {
     "name": "stdout",
     "output_type": "stream",
     "text": [
      "4.5733966658190184e-07 정규성 없음, 맨휘트니\n",
      "0.007052930071949959 정규성 없음, 맨휘트니\n",
      "0.9712114169671999 등분산성 가정\n",
      "m_statisctic: 65020.5\n",
      "p_value: 0.026087746884279634\n"
     ]
    }
   ],
   "source": [
    "# Sex-Age\n",
    "ma = train_df[train_df['Sex'] == 0]['Age'].dropna()  # male-Age\n",
    "fa = train_df[train_df['Sex'] == 1]['Age'].dropna()  # female-Age\n",
    "\n",
    "# 독립성 검정: 데이터셋 크기 달라서 공분산 계산 X, 임의로 잘라도 되나?\n",
    "\n",
    "# 정규성 검정\n",
    "s_s, s_p = stats.shapiro(ma)\n",
    "if s_p > 0.05:\n",
    "    print(s_p, '정규성 가정')\n",
    "else:\n",
    "    print(s_p, '정규성 없음, 맨휘트니')\n",
    "\n",
    "s_s, s_p = stats.shapiro(fa)\n",
    "if s_p > 0.05:\n",
    "    print(s_p, '정규성 가정')\n",
    "else:\n",
    "    print(s_p, '정규성 없음, 맨휘트니')\n",
    "\n",
    "# 등분산성 검정\n",
    "l_s, l_p = stats.levene(ma,fa)\n",
    "if l_p > 0.05:\n",
    "    print(l_p, '등분산성 가정')\n",
    "else:\n",
    "    print(l_p, '등분산성 없음, 웰치 방법')\n",
    "\n",
    "'''\n",
    "맨 휘트니 유\n",
    "H0 남녀 나이 중위수 차이 없음\n",
    "H1 남녀 나이 중위수 차이 있음\n",
    "'''\n",
    "m, p = stats.mannwhitneyu(ma,fa)\n",
    "\n",
    "print(f'm_statisctic: {m}\\np_value: {p}')"
   ]
  },
  {
   "cell_type": "code",
   "execution_count": 34,
   "id": "e4c8e214",
   "metadata": {
    "execution": {
     "iopub.execute_input": "2023-12-18T04:11:52.210439Z",
     "iopub.status.busy": "2023-12-18T04:11:52.210012Z",
     "iopub.status.idle": "2023-12-18T04:11:52.230583Z",
     "shell.execute_reply": "2023-12-18T04:11:52.229376Z"
    },
    "papermill": {
     "duration": 0.056358,
     "end_time": "2023-12-18T04:11:52.233731",
     "exception": false,
     "start_time": "2023-12-18T04:11:52.177373",
     "status": "completed"
    },
    "tags": []
   },
   "outputs": [
    {
     "name": "stdout",
     "output_type": "stream",
     "text": [
      "0.3643055558204651 정규성 있음\n",
      "0.005649181082844734 정규성 없음, 크루스칼 왈리스\n",
      "4.183878445473965e-06 정규성 없음, 크루스칼 왈리스\n",
      "0.0037869205998203245 등분산성 없음\n",
      "k_statisctic: 95.99479230295296\n",
      "p_value: 1.4288798296552103e-21\n"
     ]
    }
   ],
   "source": [
    "# Pclass-Age\n",
    "a1 = train_df[train_df['Pclass'] == 1]['Age'].dropna() # first-Age\n",
    "a2 = train_df[train_df['Pclass'] == 2]['Age'].dropna() # second-Age\n",
    "a3 = train_df[train_df['Pclass'] == 3]['Age'].dropna() # Third-Age\n",
    "\n",
    "# 독립성 검정\n",
    "\n",
    "# 정규성 검정\n",
    "s_s, s_p = stats.shapiro(a1)\n",
    "if s_p > 0.05:\n",
    "    print(s_p, '정규성 있음')\n",
    "else:\n",
    "    print(s_p, '정규성 없음, 크루스칼 왈리스')\n",
    "\n",
    "s_s, s_p = stats.shapiro(a2)\n",
    "if s_p > 0.05:\n",
    "    print(s_p, '정규성 있음')\n",
    "else:\n",
    "    print(s_p, '정규성 없음, 크루스칼 왈리스')\n",
    "\n",
    "s_s, s_p = stats.shapiro(a3)\n",
    "if s_p > 0.05:\n",
    "    print(s_p, '정규성 있음')\n",
    "else:\n",
    "    print(s_p, '정규성 없음, 크루스칼 왈리스')\n",
    "\n",
    "\n",
    "# 등분산성\n",
    "l_s, l_p = stats.levene(a1,a2,a3)\n",
    "if l_p > 0.05:\n",
    "    print(l_p, '등분산성 가정')\n",
    "else:\n",
    "    print(l_p, '등분산성 없음')\n",
    "\n",
    "'''\n",
    "Kruskal-Wallis H\n",
    "H0 각 등급의 나이 중앙값 차이 없음\n",
    "H1 각 등급의 나이 중앙값 차이 있음\n",
    "'''\n",
    "\n",
    "k, p = stats.kruskal(a1,a2,a3)\n",
    "\n",
    "print(f'k_statisctic: {k}\\np_value: {p}')"
   ]
  },
  {
   "cell_type": "code",
   "execution_count": 35,
   "id": "fbc85fb7",
   "metadata": {
    "execution": {
     "iopub.execute_input": "2023-12-18T04:11:52.298499Z",
     "iopub.status.busy": "2023-12-18T04:11:52.298091Z",
     "iopub.status.idle": "2023-12-18T04:11:52.319719Z",
     "shell.execute_reply": "2023-12-18T04:11:52.318575Z"
    },
    "papermill": {
     "duration": 0.056833,
     "end_time": "2023-12-18T04:11:52.322027",
     "exception": false,
     "start_time": "2023-12-18T04:11:52.265194",
     "status": "completed"
    },
    "tags": []
   },
   "outputs": [
    {
     "data": {
      "text/plain": [
       "0"
      ]
     },
     "execution_count": 35,
     "metadata": {},
     "output_type": "execute_result"
    }
   ],
   "source": [
    "# Age의 결측치는 Pclass별 Age의 중앙값으로 처리\n",
    "train_df[['Pclass','Age']].groupby('Pclass').median()\n",
    "\n",
    "train_df[['Pclass','Age']] = train_df[['Pclass','Age']].groupby('Pclass').apply(lambda x:x.fillna(x.mean())).droplevel(level =0,axis=0).sort_index()\n",
    "\n",
    "train_df['Age'].isnull().sum()"
   ]
  },
  {
   "cell_type": "markdown",
   "id": "9b3399d8",
   "metadata": {
    "papermill": {
     "duration": 0.031437,
     "end_time": "2023-12-18T04:11:52.384990",
     "exception": false,
     "start_time": "2023-12-18T04:11:52.353553",
     "status": "completed"
    },
    "tags": []
   },
   "source": [
    "#### 이상치 처리"
   ]
  },
  {
   "cell_type": "code",
   "execution_count": 36,
   "id": "bd9b57a1",
   "metadata": {
    "execution": {
     "iopub.execute_input": "2023-12-18T04:11:52.450745Z",
     "iopub.status.busy": "2023-12-18T04:11:52.449435Z",
     "iopub.status.idle": "2023-12-18T04:11:53.061956Z",
     "shell.execute_reply": "2023-12-18T04:11:53.060817Z"
    },
    "papermill": {
     "duration": 0.648206,
     "end_time": "2023-12-18T04:11:53.064848",
     "exception": false,
     "start_time": "2023-12-18T04:11:52.416642",
     "status": "completed"
    },
    "tags": []
   },
   "outputs": [
    {
     "data": {
      "text/plain": [
       "<Axes: xlabel='Age', ylabel='Count'>"
      ]
     },
     "execution_count": 36,
     "metadata": {},
     "output_type": "execute_result"
    },
    {
     "data": {
      "image/png": "[encoded data removed]",
      "text/plain": [
       "<Figure size 640x480 with 1 Axes>"
      ]
     },
     "metadata": {},
     "output_type": "display_data"
    }
   ],
   "source": [
    "# Age histogram 보기\n",
    "sns.histplot(train_df['Age'], bins = 80)"
   ]
  },
  {
   "cell_type": "code",
   "execution_count": 37,
   "id": "6a944d35",
   "metadata": {
    "execution": {
     "iopub.execute_input": "2023-12-18T04:11:53.131319Z",
     "iopub.status.busy": "2023-12-18T04:11:53.130616Z",
     "iopub.status.idle": "2023-12-18T04:11:53.586455Z",
     "shell.execute_reply": "2023-12-18T04:11:53.585171Z"
    },
    "papermill": {
     "duration": 0.492098,
     "end_time": "2023-12-18T04:11:53.589202",
     "exception": false,
     "start_time": "2023-12-18T04:11:53.097104",
     "status": "completed"
    },
    "tags": []
   },
   "outputs": [
    {
     "data": {
      "text/plain": [
       "<Axes: xlabel='Age', ylabel='Count'>"
      ]
     },
     "execution_count": 37,
     "metadata": {},
     "output_type": "execute_result"
    },
    {
     "data": {
      "image/png": "[encoded data removed]",
      "text/plain": [
       "<Figure size 640x480 with 1 Axes>"
      ]
     },
     "metadata": {},
     "output_type": "display_data"
    }
   ],
   "source": [
    "# 연령대 나누기: {0-10:0, 10-20:1, 20-30:2, 30-40:3, 40-50:4, 50-:5}\n",
    "train_df['Age'] = train_df['Age'].apply(lambda x: x//10 if x < 50 else 5)\n",
    "sns.histplot(train_df['Age'], bins = 5,kde=True)"
   ]
  },
  {
   "cell_type": "code",
   "execution_count": 38,
   "id": "2c5b5492",
   "metadata": {
    "execution": {
     "iopub.execute_input": "2023-12-18T04:11:53.661449Z",
     "iopub.status.busy": "2023-12-18T04:11:53.660728Z",
     "iopub.status.idle": "2023-12-18T04:11:53.902294Z",
     "shell.execute_reply": "2023-12-18T04:11:53.901077Z"
    },
    "papermill": {
     "duration": 0.281341,
     "end_time": "2023-12-18T04:11:53.904878",
     "exception": false,
     "start_time": "2023-12-18T04:11:53.623537",
     "status": "completed"
    },
    "tags": []
   },
   "outputs": [
    {
     "data": {
      "text/plain": [
       "<Axes: ylabel='Fare'>"
      ]
     },
     "execution_count": 38,
     "metadata": {},
     "output_type": "execute_result"
    },
    {
     "data": {
      "image/png": "[encoded data removed]",
      "text/plain": [
       "<Figure size 640x480 with 1 Axes>"
      ]
     },
     "metadata": {},
     "output_type": "display_data"
    }
   ],
   "source": [
    "# Fare 이상치 확인\n",
    "sns.boxplot(y=n_train_df['Fare'],color=colors[1])"
   ]
  },
  {
   "cell_type": "code",
   "execution_count": 39,
   "id": "faab898c",
   "metadata": {
    "execution": {
     "iopub.execute_input": "2023-12-18T04:11:53.973220Z",
     "iopub.status.busy": "2023-12-18T04:11:53.972810Z",
     "iopub.status.idle": "2023-12-18T04:11:54.207391Z",
     "shell.execute_reply": "2023-12-18T04:11:54.206317Z"
    },
    "papermill": {
     "duration": 0.271522,
     "end_time": "2023-12-18T04:11:54.209591",
     "exception": false,
     "start_time": "2023-12-18T04:11:53.938069",
     "status": "completed"
    },
    "tags": []
   },
   "outputs": [
    {
     "data": {
      "text/plain": [
       "<Axes: ylabel='Fare'>"
      ]
     },
     "execution_count": 39,
     "metadata": {},
     "output_type": "execute_result"
    },
    {
     "data": {
      "image/png": "[encoded data removed]",
      "text/plain": [
       "<Figure size 640x480 with 1 Axes>"
      ]
     },
     "metadata": {},
     "output_type": "display_data"
    }
   ],
   "source": [
    "# 유독 눈에 띄는 데이터 제외 후 다시 이상치 확인\n",
    "a = train_df[train_df['Fare'] != max(train_df['Fare'].values)]\n",
    "sns.boxplot(y=a['Fare'],color=colors[1])\n",
    "# 결과: 여전히 이상치 많음 -> 범주화 시도"
   ]
  },
  {
   "cell_type": "code",
   "execution_count": 40,
   "id": "3caac521",
   "metadata": {
    "execution": {
     "iopub.execute_input": "2023-12-18T04:11:54.277982Z",
     "iopub.status.busy": "2023-12-18T04:11:54.277535Z",
     "iopub.status.idle": "2023-12-18T04:11:54.537132Z",
     "shell.execute_reply": "2023-12-18T04:11:54.536038Z"
    },
    "papermill": {
     "duration": 0.296891,
     "end_time": "2023-12-18T04:11:54.539579",
     "exception": false,
     "start_time": "2023-12-18T04:11:54.242688",
     "status": "completed"
    },
    "tags": []
   },
   "outputs": [
    {
     "data": {
      "text/plain": [
       "<Axes: ylabel='Fare'>"
      ]
     },
     "execution_count": 40,
     "metadata": {},
     "output_type": "execute_result"
    },
    {
     "data": {
      "image/png": "[encoded data removed]",
      "text/plain": [
       "<Figure size 640x480 with 1 Axes>"
      ]
     },
     "metadata": {},
     "output_type": "display_data"
    }
   ],
   "source": [
    "# 유독 눈에 띄는 데이터 제외 후 다시 이상치 확인\n",
    "a = train_df[train_df['Fare'] < 150]\n",
    "sns.boxplot(y=a['Fare'],color=colors[1])\n",
    "# 결과: 여전히 이상치 많음 -> 범주화 시도"
   ]
  },
  {
   "cell_type": "code",
   "execution_count": 41,
   "id": "c46387be",
   "metadata": {
    "execution": {
     "iopub.execute_input": "2023-12-18T04:11:54.608591Z",
     "iopub.status.busy": "2023-12-18T04:11:54.607958Z",
     "iopub.status.idle": "2023-12-18T04:11:55.041644Z",
     "shell.execute_reply": "2023-12-18T04:11:55.040514Z"
    },
    "papermill": {
     "duration": 0.47107,
     "end_time": "2023-12-18T04:11:55.044022",
     "exception": false,
     "start_time": "2023-12-18T04:11:54.572952",
     "status": "completed"
    },
    "tags": []
   },
   "outputs": [
    {
     "data": {
      "text/plain": [
       "<Axes: xlabel='Fare', ylabel='Density'>"
      ]
     },
     "execution_count": 41,
     "metadata": {},
     "output_type": "execute_result"
    },
    {
     "data": {
      "image/png": "[encoded data removed]",
      "text/plain": [
       "<Figure size 640x480 with 1 Axes>"
      ]
     },
     "metadata": {},
     "output_type": "display_data"
    }
   ],
   "source": [
    "sns.kdeplot(train_df['Fare'],fill=True)"
   ]
  },
  {
   "cell_type": "code",
   "execution_count": 42,
   "id": "6fd1a211",
   "metadata": {
    "execution": {
     "iopub.execute_input": "2023-12-18T04:11:55.119203Z",
     "iopub.status.busy": "2023-12-18T04:11:55.118043Z",
     "iopub.status.idle": "2023-12-18T04:11:55.126479Z",
     "shell.execute_reply": "2023-12-18T04:11:55.125585Z"
    },
    "papermill": {
     "duration": 0.047594,
     "end_time": "2023-12-18T04:11:55.128865",
     "exception": false,
     "start_time": "2023-12-18T04:11:55.081271",
     "status": "completed"
    },
    "tags": []
   },
   "outputs": [],
   "source": [
    "# 분포가 몰린 관계로 일정 비율로 Fare 범주화 (요금과 관계있어 보이는 Pclass가 등급이 3개이므로 3분할) {'low':0, 'mid':1, 'high':2}\n",
    "train_df['Fare'] = pd.qcut(train_df['Fare'],3,labels=[0,1,2])"
   ]
  },
  {
   "cell_type": "code",
   "execution_count": 43,
   "id": "711417f4",
   "metadata": {
    "execution": {
     "iopub.execute_input": "2023-12-18T04:11:55.201184Z",
     "iopub.status.busy": "2023-12-18T04:11:55.200353Z",
     "iopub.status.idle": "2023-12-18T04:11:55.916595Z",
     "shell.execute_reply": "2023-12-18T04:11:55.915464Z"
    },
    "papermill": {
     "duration": 0.755879,
     "end_time": "2023-12-18T04:11:55.919154",
     "exception": false,
     "start_time": "2023-12-18T04:11:55.163275",
     "status": "completed"
    },
    "tags": []
   },
   "outputs": [
    {
     "data": {
      "text/plain": [
       "<Axes: xlabel='Parch', ylabel='Count'>"
      ]
     },
     "execution_count": 43,
     "metadata": {},
     "output_type": "execute_result"
    },
    {
     "data": {
      "image/png": "[encoded data removed]",
      "text/plain": [
       "<Figure size 640x480 with 2 Axes>"
      ]
     },
     "metadata": {},
     "output_type": "display_data"
    }
   ],
   "source": [
    "# SibSp와 Parch histogram 보기\n",
    "fig, axes = plt.subplots(1,2)\n",
    "\n",
    "sns.histplot(train_df['SibSp'], bins = 8,ax = axes[0])\n",
    "\n",
    "sns.histplot(train_df['Parch'], bins = 6, ax = axes[1])"
   ]
  },
  {
   "cell_type": "markdown",
   "id": "5a330351",
   "metadata": {
    "papermill": {
     "duration": 0.036231,
     "end_time": "2023-12-18T04:11:55.990886",
     "exception": false,
     "start_time": "2023-12-18T04:11:55.954655",
     "status": "completed"
    },
    "tags": []
   },
   "source": [
    "# EDA 결과\n",
    "- Survived: 범주형 종속변수 \n",
    "- Pclass, Sex, Age, Fare, Embarked: 범주형 독립변수, 서열 존재(Pclass,Age,Fare)\n",
    "- SibSp, Parch: 이산형 독립변수"
   ]
  },
  {
   "cell_type": "code",
   "execution_count": 44,
   "id": "6fbd2c7a",
   "metadata": {
    "execution": {
     "iopub.execute_input": "2023-12-18T04:11:56.063441Z",
     "iopub.status.busy": "2023-12-18T04:11:56.063064Z",
     "iopub.status.idle": "2023-12-18T04:11:56.078195Z",
     "shell.execute_reply": "2023-12-18T04:11:56.077092Z"
    },
    "papermill": {
     "duration": 0.054256,
     "end_time": "2023-12-18T04:11:56.080705",
     "exception": false,
     "start_time": "2023-12-18T04:11:56.026449",
     "status": "completed"
    },
    "tags": []
   },
   "outputs": [
    {
     "data": {
      "text/html": [
       "<div>\n",
       "<style scoped>\n",
       "    .dataframe tbody tr th:only-of-type {\n",
       "        vertical-align: middle;\n",
       "    }\n",
       "\n",
       "    .dataframe tbody tr th {\n",
       "        vertical-align: top;\n",
       "    }\n",
       "\n",
       "    .dataframe thead th {\n",
       "        text-align: right;\n",
       "    }\n",
       "</style>\n",
       "<table border=\"1\" class=\"dataframe\">\n",
       "  <thead>\n",
       "    <tr style=\"text-align: right;\">\n",
       "      <th></th>\n",
       "      <th>Survived</th>\n",
       "      <th>Pclass</th>\n",
       "      <th>Sex</th>\n",
       "      <th>Age</th>\n",
       "      <th>SibSp</th>\n",
       "      <th>Parch</th>\n",
       "      <th>Fare</th>\n",
       "      <th>Embarked</th>\n",
       "    </tr>\n",
       "  </thead>\n",
       "  <tbody>\n",
       "    <tr>\n",
       "      <th>0</th>\n",
       "      <td>0</td>\n",
       "      <td>3</td>\n",
       "      <td>0</td>\n",
       "      <td>2.0</td>\n",
       "      <td>1</td>\n",
       "      <td>0</td>\n",
       "      <td>0</td>\n",
       "      <td>1</td>\n",
       "    </tr>\n",
       "    <tr>\n",
       "      <th>1</th>\n",
       "      <td>1</td>\n",
       "      <td>1</td>\n",
       "      <td>1</td>\n",
       "      <td>3.0</td>\n",
       "      <td>1</td>\n",
       "      <td>0</td>\n",
       "      <td>2</td>\n",
       "      <td>0</td>\n",
       "    </tr>\n",
       "    <tr>\n",
       "      <th>2</th>\n",
       "      <td>1</td>\n",
       "      <td>3</td>\n",
       "      <td>1</td>\n",
       "      <td>2.0</td>\n",
       "      <td>0</td>\n",
       "      <td>0</td>\n",
       "      <td>0</td>\n",
       "      <td>1</td>\n",
       "    </tr>\n",
       "    <tr>\n",
       "      <th>3</th>\n",
       "      <td>1</td>\n",
       "      <td>1</td>\n",
       "      <td>1</td>\n",
       "      <td>3.0</td>\n",
       "      <td>1</td>\n",
       "      <td>0</td>\n",
       "      <td>2</td>\n",
       "      <td>1</td>\n",
       "    </tr>\n",
       "    <tr>\n",
       "      <th>4</th>\n",
       "      <td>0</td>\n",
       "      <td>3</td>\n",
       "      <td>0</td>\n",
       "      <td>3.0</td>\n",
       "      <td>0</td>\n",
       "      <td>0</td>\n",
       "      <td>0</td>\n",
       "      <td>1</td>\n",
       "    </tr>\n",
       "  </tbody>\n",
       "</table>\n",
       "</div>"
      ],
      "text/plain": [
       "   Survived  Pclass  Sex  Age  SibSp  Parch Fare  Embarked\n",
       "0         0       3    0  2.0      1      0    0         1\n",
       "1         1       1    1  3.0      1      0    2         0\n",
       "2         1       3    1  2.0      0      0    0         1\n",
       "3         1       1    1  3.0      1      0    2         1\n",
       "4         0       3    0  3.0      0      0    0         1"
      ]
     },
     "execution_count": 44,
     "metadata": {},
     "output_type": "execute_result"
    }
   ],
   "source": [
    "train_df = train_df.drop(['PassengerId','Name','Ticket','Cabin'],axis=1)\n",
    "train_df.head()"
   ]
  },
  {
   "cell_type": "markdown",
   "id": "755c9ae9",
   "metadata": {
    "papermill": {
     "duration": 0.035479,
     "end_time": "2023-12-18T04:11:56.152066",
     "exception": false,
     "start_time": "2023-12-18T04:11:56.116587",
     "status": "completed"
    },
    "tags": []
   },
   "source": []
  },
  {
   "cell_type": "markdown",
   "id": "503d0853",
   "metadata": {
    "papermill": {
     "duration": 0.035117,
     "end_time": "2023-12-18T04:11:56.223055",
     "exception": false,
     "start_time": "2023-12-18T04:11:56.187938",
     "status": "completed"
    },
    "tags": []
   },
   "source": [
    "# 분류기 학습\n",
    "- 종속변수 Survived: 지도학습\n",
    "- 지도학습 중 분류 수행 알고리즘\n",
    "    - 나이브 베이즈(Naive Bayes):  \n",
    "        서로 독립인 feature(독립변수) &rarr;베이즈정리&rarr;Label 분류\n",
    "    - K-NN:  \n",
    "        K개의 가장 가까운 이웃&rarr;Label 분류, 비모수, 이상치에 덜 민감\n",
    "    - 의사결정나무:  \n",
    "        조건에 따른 대상 분류, 이상치 덜 민감, 과적합 위험\n",
    "    - 랜덤포레스트:  \n",
    "        앙상블, 배깅, 여러 DT 학습&rarr;결과 결합, DT의 과적합 방지, 이상치 덜 민감\n",
    "    - 로지스틱 회귀:  \n",
    "        선형 방정식, 이상치 민감\n",
    "    - SVM(linear,kernel):  \n",
    "        거리 가장 먼 초평면 선택 분리, 마진 최대화, \n",
    "    - 그라디언트 부스팅(GBM):  \n",
    "        앙상블, 부스팅, 잔차 학습&rarr;가중치&rarr;잔차 감소 반복\n",
    "    - xg 부스트:\n",
    "        앙상블, 부스팅, GBM 성능 및 속도 개선, 과적합 방지\n",
    "    - 라이트 GBM:  \n",
    "        앙상블, 부스팅, 가지치기, 메모리 적음, 과적합 위험\n",
    "    - 캣부스트:  \n",
    "        앙상블, 부스팅, 범주형에 최적화, 연속형 변수&rarr;속도 저하 위험"
   ]
  },
  {
   "cell_type": "markdown",
   "id": "d4aa82bd",
   "metadata": {
    "papermill": {
     "duration": 0.035354,
     "end_time": "2023-12-18T04:11:56.294003",
     "exception": false,
     "start_time": "2023-12-18T04:11:56.258649",
     "status": "completed"
    },
    "tags": []
   },
   "source": [
    "titanic train data는 데이터 수가 많지 않고, 변수도 많지 않음, 이상치 처리를 위해 범주화 가공을 많이 함  \n",
    "따라서 이번 분류에서는 랜덤포레스트, xgBoost, catBoost 활용 예정"
   ]
  },
  {
   "cell_type": "code",
   "execution_count": 45,
   "id": "8daf23bf",
   "metadata": {
    "execution": {
     "iopub.execute_input": "2023-12-18T04:11:56.368330Z",
     "iopub.status.busy": "2023-12-18T04:11:56.367901Z",
     "iopub.status.idle": "2023-12-18T04:11:56.371823Z",
     "shell.execute_reply": "2023-12-18T04:11:56.371050Z"
    },
    "papermill": {
     "duration": 0.043502,
     "end_time": "2023-12-18T04:11:56.373873",
     "exception": false,
     "start_time": "2023-12-18T04:11:56.330371",
     "status": "completed"
    },
    "tags": []
   },
   "outputs": [],
   "source": [
    "# RandomForest\n"
   ]
  }
 ],
 "metadata": {
  "kaggle": {
   "accelerator": "none",
   "dataSources": [
    {
     "databundleVersionId": 26502,
     "sourceId": 3136,
     "sourceType": "competition"
    }
   ],
   "dockerImageVersionId": 30615,
   "isGpuEnabled": false,
   "isInternetEnabled": false,
   "language": "python",
   "sourceType": "notebook"
  },
  "kernelspec": {
   "display_name": "Python 3",
   "language": "python",
   "name": "python3"
  },
  "language_info": {
   "codemirror_mode": {
    "name": "ipython",
    "version": 3
   },
   "file_extension": ".py",
   "mimetype": "text/x-python",
   "name": "python",
   "nbconvert_exporter": "python",
   "pygments_lexer": "ipython3",
   "version": "3.10.12"
  },
  "papermill": {
   "default_parameters": {},
   "duration": 24.082167,
   "end_time": "2023-12-18T04:11:57.131520",
   "environment_variables": {},
   "exception": null,
   "input_path": "__notebook__.ipynb",
   "output_path": "__notebook__.ipynb",
   "parameters": {},
   "start_time": "2023-12-18T04:11:33.049353",
   "version": "2.4.0"
  }
 },
 "nbformat": 4,
 "nbformat_minor": 5
}
