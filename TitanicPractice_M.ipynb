{
 "cells": [
  {
   "cell_type": "code",
   "execution_count": 1,
   "id": "f2851588",
   "metadata": {
    "_cell_guid": "b1076dfc-b9ad-4769-8c92-a6c4dae69d19",
    "_uuid": "8f2839f25d086af736a60e9eeb907d3b93b6e0e5",
    "execution": {
     "iopub.execute_input": "2023-12-14T09:53:38.787639Z",
     "iopub.status.busy": "2023-12-14T09:53:38.786438Z",
     "iopub.status.idle": "2023-12-14T09:53:39.640411Z",
     "shell.execute_reply": "2023-12-14T09:53:39.638833Z"
    },
    "papermill": {
     "duration": 0.864618,
     "end_time": "2023-12-14T09:53:39.642315",
     "exception": false,
     "start_time": "2023-12-14T09:53:38.777697",
     "status": "completed"
    },
    "tags": []
   },
   "outputs": [
    {
     "name": "stdout",
     "output_type": "stream",
     "text": [
      "/kaggle/input/titanic/train.csv\n",
      "/kaggle/input/titanic/test.csv\n",
      "/kaggle/input/titanic/gender_submission.csv\n"
     ]
    }
   ],
   "source": [
    "# This Python 3 environment comes with many helpful analytics libraries installed\n",
    "# It is defined by the kaggle/python Docker image: https://github.com/kaggle/docker-python\n",
    "# For example, here's several helpful packages to load\n",
    "\n",
    "import numpy as np # linear algebra\n",
    "import pandas as pd # data processing, CSV file I/O (e.g. pd.read_csv)\n",
    "\n",
    "\n",
    "# Input data files are available in the read-only \"../input/\" directory\n",
    "# For example, running this (by clicking run or pressing Shift+Enter) will list all files under the input directory\n",
    "\n",
    "import os\n",
    "for dirname, _, filenames in os.walk('/kaggle/input'):\n",
    "    for filename in filenames:\n",
    "        print(os.path.join(dirname, filename))\n",
    "\n",
    "# You can write up to 20GB to the current directory (/kaggle/working/) that gets preserved as output when you create a version using \"Save & Run All\" \n",
    "# You can also write temporary files to /kaggle/temp/, but they won't be saved outside of the current session"
   ]
  },
  {
   "cell_type": "markdown",
   "id": "6067559c",
   "metadata": {
    "papermill": {
     "duration": 0.005818,
     "end_time": "2023-12-14T09:53:39.654863",
     "exception": false,
     "start_time": "2023-12-14T09:53:39.649045",
     "status": "completed"
    },
    "tags": []
   },
   "source": [
    "# Overview\n",
    "\n",
    "## 문제 정의\n",
    "> 1912년 4월 15일 타이타닉호 침몰\n",
    "> 총 2224명 중 1502명이 사망한 사건\n",
    "- 문제 해결 목표: 생존-사망 데이터를 분석하여 생존 가능성이 더 높은 사람의 유형을 예측하는 모델 구축\n",
    "\n",
    "## train.csv 데이터 셋 설명\n",
    "- 탑승객의 일부(891명)에 대한 승객 정보\n",
    "- columns\n",
    "    - PassengerId: 승객 고유번호(int)\n",
    "    - Survived: 생존 여부(int, 0: 사망, 1: 생존)\n",
    "    - Pclass: 탑승권 등급(int, 1: 1st, 2: 2nd, 3: 3rd)\n",
    "    - Name: 승객 이름(object(str))\n",
    "    - Sex: 승객 성별(object(str))\n",
    "    - Age: 승객 나이(float, 1보다 작으면 분수, 추정된 나이는 xx.5의 형태)\n",
    "    - SibSp: 동승자 수-형제자매&부부(int, 단 정부나 약혼자는 제외) \n",
    "    - Parch: 동승자 수-부모자식(int, 단 유모와만 탄 아이는 0)\n",
    "    - Ticket: 탑승권 번호(object(str))\n",
    "    - Fare: 여객 요금(float)\n",
    "    - Cabin: 선실 번호(object(str))\n",
    "    - Embarked: 승선 항구(object(str), C: Cherbourg, Q: Queenstown, S: Southampton)"
   ]
  },
  {
   "cell_type": "code",
   "execution_count": 2,
   "id": "07420afb",
   "metadata": {
    "execution": {
     "iopub.execute_input": "2023-12-14T09:53:39.669285Z",
     "iopub.status.busy": "2023-12-14T09:53:39.668332Z",
     "iopub.status.idle": "2023-12-14T09:53:40.946479Z",
     "shell.execute_reply": "2023-12-14T09:53:40.945509Z"
    },
    "papermill": {
     "duration": 1.288269,
     "end_time": "2023-12-14T09:53:40.949250",
     "exception": false,
     "start_time": "2023-12-14T09:53:39.660981",
     "status": "completed"
    },
    "tags": []
   },
   "outputs": [],
   "source": [
    "# 라이브러리 import\n",
    "import numpy as np\n",
    "import pandas as pd\n",
    "import matplotlib.pyplot as plt\n",
    "import seaborn as sns"
   ]
  },
  {
   "cell_type": "markdown",
   "id": "75588991",
   "metadata": {
    "papermill": {
     "duration": 0.005959,
     "end_time": "2023-12-14T09:53:40.961689",
     "exception": false,
     "start_time": "2023-12-14T09:53:40.955730",
     "status": "completed"
    },
    "tags": []
   },
   "source": [
    "# Check Data"
   ]
  },
  {
   "cell_type": "code",
   "execution_count": 3,
   "id": "e0a2890b",
   "metadata": {
    "execution": {
     "iopub.execute_input": "2023-12-14T09:53:40.975423Z",
     "iopub.status.busy": "2023-12-14T09:53:40.975072Z",
     "iopub.status.idle": "2023-12-14T09:53:41.005794Z",
     "shell.execute_reply": "2023-12-14T09:53:41.004824Z"
    },
    "papermill": {
     "duration": 0.040613,
     "end_time": "2023-12-14T09:53:41.008400",
     "exception": false,
     "start_time": "2023-12-14T09:53:40.967787",
     "status": "completed"
    },
    "tags": []
   },
   "outputs": [],
   "source": [
    "# 데이터 로드\n",
    "train_df = pd.read_csv('/kaggle/input/titanic/train.csv')\n",
    "test_df = pd.read_csv('/kaggle/input/titanic/test.csv')"
   ]
  },
  {
   "cell_type": "code",
   "execution_count": 4,
   "id": "201d83d5",
   "metadata": {
    "execution": {
     "iopub.execute_input": "2023-12-14T09:53:41.023149Z",
     "iopub.status.busy": "2023-12-14T09:53:41.022731Z",
     "iopub.status.idle": "2023-12-14T09:53:41.050429Z",
     "shell.execute_reply": "2023-12-14T09:53:41.049448Z"
    },
    "papermill": {
     "duration": 0.03737,
     "end_time": "2023-12-14T09:53:41.052350",
     "exception": false,
     "start_time": "2023-12-14T09:53:41.014980",
     "status": "completed"
    },
    "tags": []
   },
   "outputs": [
    {
     "data": {
      "text/html": [
       "<div>\n",
       "<style scoped>\n",
       "    .dataframe tbody tr th:only-of-type {\n",
       "        vertical-align: middle;\n",
       "    }\n",
       "\n",
       "    .dataframe tbody tr th {\n",
       "        vertical-align: top;\n",
       "    }\n",
       "\n",
       "    .dataframe thead th {\n",
       "        text-align: right;\n",
       "    }\n",
       "</style>\n",
       "<table border=\"1\" class=\"dataframe\">\n",
       "  <thead>\n",
       "    <tr style=\"text-align: right;\">\n",
       "      <th></th>\n",
       "      <th>PassengerId</th>\n",
       "      <th>Survived</th>\n",
       "      <th>Pclass</th>\n",
       "      <th>Name</th>\n",
       "      <th>Sex</th>\n",
       "      <th>Age</th>\n",
       "      <th>SibSp</th>\n",
       "      <th>Parch</th>\n",
       "      <th>Ticket</th>\n",
       "      <th>Fare</th>\n",
       "      <th>Cabin</th>\n",
       "      <th>Embarked</th>\n",
       "    </tr>\n",
       "  </thead>\n",
       "  <tbody>\n",
       "    <tr>\n",
       "      <th>0</th>\n",
       "      <td>1</td>\n",
       "      <td>0</td>\n",
       "      <td>3</td>\n",
       "      <td>Braund, Mr. Owen Harris</td>\n",
       "      <td>male</td>\n",
       "      <td>22.0</td>\n",
       "      <td>1</td>\n",
       "      <td>0</td>\n",
       "      <td>A/5 21171</td>\n",
       "      <td>7.2500</td>\n",
       "      <td>NaN</td>\n",
       "      <td>S</td>\n",
       "    </tr>\n",
       "    <tr>\n",
       "      <th>1</th>\n",
       "      <td>2</td>\n",
       "      <td>1</td>\n",
       "      <td>1</td>\n",
       "      <td>Cumings, Mrs. John Bradley (Florence Briggs Th...</td>\n",
       "      <td>female</td>\n",
       "      <td>38.0</td>\n",
       "      <td>1</td>\n",
       "      <td>0</td>\n",
       "      <td>PC 17599</td>\n",
       "      <td>71.2833</td>\n",
       "      <td>C85</td>\n",
       "      <td>C</td>\n",
       "    </tr>\n",
       "    <tr>\n",
       "      <th>2</th>\n",
       "      <td>3</td>\n",
       "      <td>1</td>\n",
       "      <td>3</td>\n",
       "      <td>Heikkinen, Miss. Laina</td>\n",
       "      <td>female</td>\n",
       "      <td>26.0</td>\n",
       "      <td>0</td>\n",
       "      <td>0</td>\n",
       "      <td>STON/O2. 3101282</td>\n",
       "      <td>7.9250</td>\n",
       "      <td>NaN</td>\n",
       "      <td>S</td>\n",
       "    </tr>\n",
       "    <tr>\n",
       "      <th>3</th>\n",
       "      <td>4</td>\n",
       "      <td>1</td>\n",
       "      <td>1</td>\n",
       "      <td>Futrelle, Mrs. Jacques Heath (Lily May Peel)</td>\n",
       "      <td>female</td>\n",
       "      <td>35.0</td>\n",
       "      <td>1</td>\n",
       "      <td>0</td>\n",
       "      <td>113803</td>\n",
       "      <td>53.1000</td>\n",
       "      <td>C123</td>\n",
       "      <td>S</td>\n",
       "    </tr>\n",
       "    <tr>\n",
       "      <th>4</th>\n",
       "      <td>5</td>\n",
       "      <td>0</td>\n",
       "      <td>3</td>\n",
       "      <td>Allen, Mr. William Henry</td>\n",
       "      <td>male</td>\n",
       "      <td>35.0</td>\n",
       "      <td>0</td>\n",
       "      <td>0</td>\n",
       "      <td>373450</td>\n",
       "      <td>8.0500</td>\n",
       "      <td>NaN</td>\n",
       "      <td>S</td>\n",
       "    </tr>\n",
       "  </tbody>\n",
       "</table>\n",
       "</div>"
      ],
      "text/plain": [
       "   PassengerId  Survived  Pclass  \\\n",
       "0            1         0       3   \n",
       "1            2         1       1   \n",
       "2            3         1       3   \n",
       "3            4         1       1   \n",
       "4            5         0       3   \n",
       "\n",
       "                                                Name     Sex   Age  SibSp  \\\n",
       "0                            Braund, Mr. Owen Harris    male  22.0      1   \n",
       "1  Cumings, Mrs. John Bradley (Florence Briggs Th...  female  38.0      1   \n",
       "2                             Heikkinen, Miss. Laina  female  26.0      0   \n",
       "3       Futrelle, Mrs. Jacques Heath (Lily May Peel)  female  35.0      1   \n",
       "4                           Allen, Mr. William Henry    male  35.0      0   \n",
       "\n",
       "   Parch            Ticket     Fare Cabin Embarked  \n",
       "0      0         A/5 21171   7.2500   NaN        S  \n",
       "1      0          PC 17599  71.2833   C85        C  \n",
       "2      0  STON/O2. 3101282   7.9250   NaN        S  \n",
       "3      0            113803  53.1000  C123        S  \n",
       "4      0            373450   8.0500   NaN        S  "
      ]
     },
     "execution_count": 4,
     "metadata": {},
     "output_type": "execute_result"
    }
   ],
   "source": [
    "train_df.head()"
   ]
  },
  {
   "cell_type": "code",
   "execution_count": 5,
   "id": "eeb4a1b6",
   "metadata": {
    "execution": {
     "iopub.execute_input": "2023-12-14T09:53:41.066890Z",
     "iopub.status.busy": "2023-12-14T09:53:41.066547Z",
     "iopub.status.idle": "2023-12-14T09:53:41.082002Z",
     "shell.execute_reply": "2023-12-14T09:53:41.080857Z"
    },
    "papermill": {
     "duration": 0.024874,
     "end_time": "2023-12-14T09:53:41.083836",
     "exception": false,
     "start_time": "2023-12-14T09:53:41.058962",
     "status": "completed"
    },
    "tags": []
   },
   "outputs": [
    {
     "data": {
      "text/html": [
       "<div>\n",
       "<style scoped>\n",
       "    .dataframe tbody tr th:only-of-type {\n",
       "        vertical-align: middle;\n",
       "    }\n",
       "\n",
       "    .dataframe tbody tr th {\n",
       "        vertical-align: top;\n",
       "    }\n",
       "\n",
       "    .dataframe thead th {\n",
       "        text-align: right;\n",
       "    }\n",
       "</style>\n",
       "<table border=\"1\" class=\"dataframe\">\n",
       "  <thead>\n",
       "    <tr style=\"text-align: right;\">\n",
       "      <th></th>\n",
       "      <th>PassengerId</th>\n",
       "      <th>Pclass</th>\n",
       "      <th>Name</th>\n",
       "      <th>Sex</th>\n",
       "      <th>Age</th>\n",
       "      <th>SibSp</th>\n",
       "      <th>Parch</th>\n",
       "      <th>Ticket</th>\n",
       "      <th>Fare</th>\n",
       "      <th>Cabin</th>\n",
       "      <th>Embarked</th>\n",
       "    </tr>\n",
       "  </thead>\n",
       "  <tbody>\n",
       "    <tr>\n",
       "      <th>0</th>\n",
       "      <td>892</td>\n",
       "      <td>3</td>\n",
       "      <td>Kelly, Mr. James</td>\n",
       "      <td>male</td>\n",
       "      <td>34.5</td>\n",
       "      <td>0</td>\n",
       "      <td>0</td>\n",
       "      <td>330911</td>\n",
       "      <td>7.8292</td>\n",
       "      <td>NaN</td>\n",
       "      <td>Q</td>\n",
       "    </tr>\n",
       "    <tr>\n",
       "      <th>1</th>\n",
       "      <td>893</td>\n",
       "      <td>3</td>\n",
       "      <td>Wilkes, Mrs. James (Ellen Needs)</td>\n",
       "      <td>female</td>\n",
       "      <td>47.0</td>\n",
       "      <td>1</td>\n",
       "      <td>0</td>\n",
       "      <td>363272</td>\n",
       "      <td>7.0000</td>\n",
       "      <td>NaN</td>\n",
       "      <td>S</td>\n",
       "    </tr>\n",
       "    <tr>\n",
       "      <th>2</th>\n",
       "      <td>894</td>\n",
       "      <td>2</td>\n",
       "      <td>Myles, Mr. Thomas Francis</td>\n",
       "      <td>male</td>\n",
       "      <td>62.0</td>\n",
       "      <td>0</td>\n",
       "      <td>0</td>\n",
       "      <td>240276</td>\n",
       "      <td>9.6875</td>\n",
       "      <td>NaN</td>\n",
       "      <td>Q</td>\n",
       "    </tr>\n",
       "    <tr>\n",
       "      <th>3</th>\n",
       "      <td>895</td>\n",
       "      <td>3</td>\n",
       "      <td>Wirz, Mr. Albert</td>\n",
       "      <td>male</td>\n",
       "      <td>27.0</td>\n",
       "      <td>0</td>\n",
       "      <td>0</td>\n",
       "      <td>315154</td>\n",
       "      <td>8.6625</td>\n",
       "      <td>NaN</td>\n",
       "      <td>S</td>\n",
       "    </tr>\n",
       "    <tr>\n",
       "      <th>4</th>\n",
       "      <td>896</td>\n",
       "      <td>3</td>\n",
       "      <td>Hirvonen, Mrs. Alexander (Helga E Lindqvist)</td>\n",
       "      <td>female</td>\n",
       "      <td>22.0</td>\n",
       "      <td>1</td>\n",
       "      <td>1</td>\n",
       "      <td>3101298</td>\n",
       "      <td>12.2875</td>\n",
       "      <td>NaN</td>\n",
       "      <td>S</td>\n",
       "    </tr>\n",
       "  </tbody>\n",
       "</table>\n",
       "</div>"
      ],
      "text/plain": [
       "   PassengerId  Pclass                                          Name     Sex  \\\n",
       "0          892       3                              Kelly, Mr. James    male   \n",
       "1          893       3              Wilkes, Mrs. James (Ellen Needs)  female   \n",
       "2          894       2                     Myles, Mr. Thomas Francis    male   \n",
       "3          895       3                              Wirz, Mr. Albert    male   \n",
       "4          896       3  Hirvonen, Mrs. Alexander (Helga E Lindqvist)  female   \n",
       "\n",
       "    Age  SibSp  Parch   Ticket     Fare Cabin Embarked  \n",
       "0  34.5      0      0   330911   7.8292   NaN        Q  \n",
       "1  47.0      1      0   363272   7.0000   NaN        S  \n",
       "2  62.0      0      0   240276   9.6875   NaN        Q  \n",
       "3  27.0      0      0   315154   8.6625   NaN        S  \n",
       "4  22.0      1      1  3101298  12.2875   NaN        S  "
      ]
     },
     "execution_count": 5,
     "metadata": {},
     "output_type": "execute_result"
    }
   ],
   "source": [
    "test_df.head()"
   ]
  },
  {
   "cell_type": "code",
   "execution_count": 6,
   "id": "de100afc",
   "metadata": {
    "execution": {
     "iopub.execute_input": "2023-12-14T09:53:41.098871Z",
     "iopub.status.busy": "2023-12-14T09:53:41.098531Z",
     "iopub.status.idle": "2023-12-14T09:53:41.195554Z",
     "shell.execute_reply": "2023-12-14T09:53:41.194061Z"
    },
    "papermill": {
     "duration": 0.106978,
     "end_time": "2023-12-14T09:53:41.197625",
     "exception": false,
     "start_time": "2023-12-14T09:53:41.090647",
     "status": "completed"
    },
    "tags": []
   },
   "outputs": [
    {
     "name": "stdout",
     "output_type": "stream",
     "text": [
      "<class 'pandas.core.frame.DataFrame'>\n",
      "RangeIndex: 891 entries, 0 to 890\n",
      "Data columns (total 12 columns):\n",
      " #   Column       Non-Null Count  Dtype  \n",
      "---  ------       --------------  -----  \n",
      " 0   PassengerId  891 non-null    int64  \n",
      " 1   Survived     891 non-null    int64  \n",
      " 2   Pclass       891 non-null    int64  \n",
      " 3   Name         891 non-null    object \n",
      " 4   Sex          891 non-null    object \n",
      " 5   Age          714 non-null    float64\n",
      " 6   SibSp        891 non-null    int64  \n",
      " 7   Parch        891 non-null    int64  \n",
      " 8   Ticket       891 non-null    object \n",
      " 9   Fare         891 non-null    float64\n",
      " 10  Cabin        204 non-null    object \n",
      " 11  Embarked     889 non-null    object \n",
      "dtypes: float64(2), int64(5), object(5)\n",
      "memory usage: 83.7+ KB\n"
     ]
    }
   ],
   "source": [
    "train_df.info()"
   ]
  },
  {
   "cell_type": "code",
   "execution_count": 7,
   "id": "25cd9896",
   "metadata": {
    "execution": {
     "iopub.execute_input": "2023-12-14T09:53:41.213304Z",
     "iopub.status.busy": "2023-12-14T09:53:41.212963Z",
     "iopub.status.idle": "2023-12-14T09:53:41.222304Z",
     "shell.execute_reply": "2023-12-14T09:53:41.220698Z"
    },
    "papermill": {
     "duration": 0.020268,
     "end_time": "2023-12-14T09:53:41.224903",
     "exception": false,
     "start_time": "2023-12-14T09:53:41.204635",
     "status": "completed"
    },
    "tags": []
   },
   "outputs": [
    {
     "data": {
      "text/plain": [
       "PassengerId      0\n",
       "Survived         0\n",
       "Pclass           0\n",
       "Name             0\n",
       "Sex              0\n",
       "Age            177\n",
       "SibSp            0\n",
       "Parch            0\n",
       "Ticket           0\n",
       "Fare             0\n",
       "Cabin          687\n",
       "Embarked         2\n",
       "dtype: int64"
      ]
     },
     "execution_count": 7,
     "metadata": {},
     "output_type": "execute_result"
    }
   ],
   "source": [
    "train_df.isnull().sum()"
   ]
  },
  {
   "cell_type": "code",
   "execution_count": 8,
   "id": "30c75541",
   "metadata": {
    "execution": {
     "iopub.execute_input": "2023-12-14T09:53:41.241415Z",
     "iopub.status.busy": "2023-12-14T09:53:41.241078Z",
     "iopub.status.idle": "2023-12-14T09:53:41.251434Z",
     "shell.execute_reply": "2023-12-14T09:53:41.250473Z"
    },
    "papermill": {
     "duration": 0.021093,
     "end_time": "2023-12-14T09:53:41.253205",
     "exception": false,
     "start_time": "2023-12-14T09:53:41.232112",
     "status": "completed"
    },
    "tags": []
   },
   "outputs": [
    {
     "name": "stdout",
     "output_type": "stream",
     "text": [
      "<class 'pandas.core.frame.DataFrame'>\n",
      "RangeIndex: 418 entries, 0 to 417\n",
      "Data columns (total 11 columns):\n",
      " #   Column       Non-Null Count  Dtype  \n",
      "---  ------       --------------  -----  \n",
      " 0   PassengerId  418 non-null    int64  \n",
      " 1   Pclass       418 non-null    int64  \n",
      " 2   Name         418 non-null    object \n",
      " 3   Sex          418 non-null    object \n",
      " 4   Age          332 non-null    float64\n",
      " 5   SibSp        418 non-null    int64  \n",
      " 6   Parch        418 non-null    int64  \n",
      " 7   Ticket       418 non-null    object \n",
      " 8   Fare         417 non-null    float64\n",
      " 9   Cabin        91 non-null     object \n",
      " 10  Embarked     418 non-null    object \n",
      "dtypes: float64(2), int64(4), object(5)\n",
      "memory usage: 36.0+ KB\n"
     ]
    }
   ],
   "source": [
    "test_df.info()"
   ]
  },
  {
   "cell_type": "code",
   "execution_count": 9,
   "id": "cbffec7e",
   "metadata": {
    "execution": {
     "iopub.execute_input": "2023-12-14T09:53:41.268360Z",
     "iopub.status.busy": "2023-12-14T09:53:41.268021Z",
     "iopub.status.idle": "2023-12-14T09:53:41.275461Z",
     "shell.execute_reply": "2023-12-14T09:53:41.274571Z"
    },
    "papermill": {
     "duration": 0.017069,
     "end_time": "2023-12-14T09:53:41.277189",
     "exception": false,
     "start_time": "2023-12-14T09:53:41.260120",
     "status": "completed"
    },
    "tags": []
   },
   "outputs": [
    {
     "data": {
      "text/plain": [
       "PassengerId      0\n",
       "Pclass           0\n",
       "Name             0\n",
       "Sex              0\n",
       "Age             86\n",
       "SibSp            0\n",
       "Parch            0\n",
       "Ticket           0\n",
       "Fare             1\n",
       "Cabin          327\n",
       "Embarked         0\n",
       "dtype: int64"
      ]
     },
     "execution_count": 9,
     "metadata": {},
     "output_type": "execute_result"
    }
   ],
   "source": [
    "test_df.isnull().sum()"
   ]
  },
  {
   "cell_type": "markdown",
   "id": "768f3c20",
   "metadata": {
    "papermill": {
     "duration": 0.00702,
     "end_time": "2023-12-14T09:53:41.291400",
     "exception": false,
     "start_time": "2023-12-14T09:53:41.284380",
     "status": "completed"
    },
    "tags": []
   },
   "source": [
    "# EDA"
   ]
  },
  {
   "cell_type": "markdown",
   "id": "19f80b5f",
   "metadata": {
    "papermill": {
     "duration": 0.006959,
     "end_time": "2023-12-14T09:53:41.305536",
     "exception": false,
     "start_time": "2023-12-14T09:53:41.298577",
     "status": "completed"
    },
    "tags": []
   },
   "source": [
    "## 데이터 형태 파악\n",
    "- train_df와 test_df의 차이: Survived 컬럼 유무, train_df는 지도학습을 위해 Survived 정보 있고, test_df는 예측을 위해 Survived 컬럼 없음<br/>\n",
    "&rarr; target 변수: Survived\n",
    "- train_df Null coloumns: 나이, 선실, 승선 항구\n",
    "- test_df Null columns: 나이, 여객 요금, 선실"
   ]
  },
  {
   "cell_type": "code",
   "execution_count": 10,
   "id": "b2da5d1f",
   "metadata": {
    "execution": {
     "iopub.execute_input": "2023-12-14T09:53:41.321718Z",
     "iopub.status.busy": "2023-12-14T09:53:41.321393Z",
     "iopub.status.idle": "2023-12-14T09:53:41.352000Z",
     "shell.execute_reply": "2023-12-14T09:53:41.350476Z"
    },
    "papermill": {
     "duration": 0.041647,
     "end_time": "2023-12-14T09:53:41.354242",
     "exception": false,
     "start_time": "2023-12-14T09:53:41.312595",
     "status": "completed"
    },
    "tags": []
   },
   "outputs": [
    {
     "data": {
      "text/html": [
       "<div>\n",
       "<style scoped>\n",
       "    .dataframe tbody tr th:only-of-type {\n",
       "        vertical-align: middle;\n",
       "    }\n",
       "\n",
       "    .dataframe tbody tr th {\n",
       "        vertical-align: top;\n",
       "    }\n",
       "\n",
       "    .dataframe thead th {\n",
       "        text-align: right;\n",
       "    }\n",
       "</style>\n",
       "<table border=\"1\" class=\"dataframe\">\n",
       "  <thead>\n",
       "    <tr style=\"text-align: right;\">\n",
       "      <th></th>\n",
       "      <th>PassengerId</th>\n",
       "      <th>Survived</th>\n",
       "      <th>Pclass</th>\n",
       "      <th>Age</th>\n",
       "      <th>SibSp</th>\n",
       "      <th>Parch</th>\n",
       "      <th>Fare</th>\n",
       "    </tr>\n",
       "  </thead>\n",
       "  <tbody>\n",
       "    <tr>\n",
       "      <th>count</th>\n",
       "      <td>891.000000</td>\n",
       "      <td>891.000000</td>\n",
       "      <td>891.000000</td>\n",
       "      <td>714.000000</td>\n",
       "      <td>891.000000</td>\n",
       "      <td>891.000000</td>\n",
       "      <td>891.000000</td>\n",
       "    </tr>\n",
       "    <tr>\n",
       "      <th>mean</th>\n",
       "      <td>446.000000</td>\n",
       "      <td>0.383838</td>\n",
       "      <td>2.308642</td>\n",
       "      <td>29.699118</td>\n",
       "      <td>0.523008</td>\n",
       "      <td>0.381594</td>\n",
       "      <td>32.204208</td>\n",
       "    </tr>\n",
       "    <tr>\n",
       "      <th>std</th>\n",
       "      <td>257.353842</td>\n",
       "      <td>0.486592</td>\n",
       "      <td>0.836071</td>\n",
       "      <td>14.526497</td>\n",
       "      <td>1.102743</td>\n",
       "      <td>0.806057</td>\n",
       "      <td>49.693429</td>\n",
       "    </tr>\n",
       "    <tr>\n",
       "      <th>min</th>\n",
       "      <td>1.000000</td>\n",
       "      <td>0.000000</td>\n",
       "      <td>1.000000</td>\n",
       "      <td>0.420000</td>\n",
       "      <td>0.000000</td>\n",
       "      <td>0.000000</td>\n",
       "      <td>0.000000</td>\n",
       "    </tr>\n",
       "    <tr>\n",
       "      <th>25%</th>\n",
       "      <td>223.500000</td>\n",
       "      <td>0.000000</td>\n",
       "      <td>2.000000</td>\n",
       "      <td>20.125000</td>\n",
       "      <td>0.000000</td>\n",
       "      <td>0.000000</td>\n",
       "      <td>7.910400</td>\n",
       "    </tr>\n",
       "    <tr>\n",
       "      <th>50%</th>\n",
       "      <td>446.000000</td>\n",
       "      <td>0.000000</td>\n",
       "      <td>3.000000</td>\n",
       "      <td>28.000000</td>\n",
       "      <td>0.000000</td>\n",
       "      <td>0.000000</td>\n",
       "      <td>14.454200</td>\n",
       "    </tr>\n",
       "    <tr>\n",
       "      <th>75%</th>\n",
       "      <td>668.500000</td>\n",
       "      <td>1.000000</td>\n",
       "      <td>3.000000</td>\n",
       "      <td>38.000000</td>\n",
       "      <td>1.000000</td>\n",
       "      <td>0.000000</td>\n",
       "      <td>31.000000</td>\n",
       "    </tr>\n",
       "    <tr>\n",
       "      <th>max</th>\n",
       "      <td>891.000000</td>\n",
       "      <td>1.000000</td>\n",
       "      <td>3.000000</td>\n",
       "      <td>80.000000</td>\n",
       "      <td>8.000000</td>\n",
       "      <td>6.000000</td>\n",
       "      <td>512.329200</td>\n",
       "    </tr>\n",
       "  </tbody>\n",
       "</table>\n",
       "</div>"
      ],
      "text/plain": [
       "       PassengerId    Survived      Pclass         Age       SibSp  \\\n",
       "count   891.000000  891.000000  891.000000  714.000000  891.000000   \n",
       "mean    446.000000    0.383838    2.308642   29.699118    0.523008   \n",
       "std     257.353842    0.486592    0.836071   14.526497    1.102743   \n",
       "min       1.000000    0.000000    1.000000    0.420000    0.000000   \n",
       "25%     223.500000    0.000000    2.000000   20.125000    0.000000   \n",
       "50%     446.000000    0.000000    3.000000   28.000000    0.000000   \n",
       "75%     668.500000    1.000000    3.000000   38.000000    1.000000   \n",
       "max     891.000000    1.000000    3.000000   80.000000    8.000000   \n",
       "\n",
       "            Parch        Fare  \n",
       "count  891.000000  891.000000  \n",
       "mean     0.381594   32.204208  \n",
       "std      0.806057   49.693429  \n",
       "min      0.000000    0.000000  \n",
       "25%      0.000000    7.910400  \n",
       "50%      0.000000   14.454200  \n",
       "75%      0.000000   31.000000  \n",
       "max      6.000000  512.329200  "
      ]
     },
     "execution_count": 10,
     "metadata": {},
     "output_type": "execute_result"
    }
   ],
   "source": [
    "train_df.describe() # data type이 수치형인 변수들의 통계치"
   ]
  },
  {
   "cell_type": "code",
   "execution_count": 11,
   "id": "424c223b",
   "metadata": {
    "execution": {
     "iopub.execute_input": "2023-12-14T09:53:41.370733Z",
     "iopub.status.busy": "2023-12-14T09:53:41.370376Z",
     "iopub.status.idle": "2023-12-14T09:53:41.393489Z",
     "shell.execute_reply": "2023-12-14T09:53:41.392627Z"
    },
    "papermill": {
     "duration": 0.033485,
     "end_time": "2023-12-14T09:53:41.395219",
     "exception": false,
     "start_time": "2023-12-14T09:53:41.361734",
     "status": "completed"
    },
    "tags": []
   },
   "outputs": [
    {
     "data": {
      "text/html": [
       "<div>\n",
       "<style scoped>\n",
       "    .dataframe tbody tr th:only-of-type {\n",
       "        vertical-align: middle;\n",
       "    }\n",
       "\n",
       "    .dataframe tbody tr th {\n",
       "        vertical-align: top;\n",
       "    }\n",
       "\n",
       "    .dataframe thead th {\n",
       "        text-align: right;\n",
       "    }\n",
       "</style>\n",
       "<table border=\"1\" class=\"dataframe\">\n",
       "  <thead>\n",
       "    <tr style=\"text-align: right;\">\n",
       "      <th></th>\n",
       "      <th>PassengerId</th>\n",
       "      <th>Pclass</th>\n",
       "      <th>Age</th>\n",
       "      <th>SibSp</th>\n",
       "      <th>Parch</th>\n",
       "      <th>Fare</th>\n",
       "    </tr>\n",
       "  </thead>\n",
       "  <tbody>\n",
       "    <tr>\n",
       "      <th>count</th>\n",
       "      <td>418.000000</td>\n",
       "      <td>418.000000</td>\n",
       "      <td>332.000000</td>\n",
       "      <td>418.000000</td>\n",
       "      <td>418.000000</td>\n",
       "      <td>417.000000</td>\n",
       "    </tr>\n",
       "    <tr>\n",
       "      <th>mean</th>\n",
       "      <td>1100.500000</td>\n",
       "      <td>2.265550</td>\n",
       "      <td>30.272590</td>\n",
       "      <td>0.447368</td>\n",
       "      <td>0.392344</td>\n",
       "      <td>35.627188</td>\n",
       "    </tr>\n",
       "    <tr>\n",
       "      <th>std</th>\n",
       "      <td>120.810458</td>\n",
       "      <td>0.841838</td>\n",
       "      <td>14.181209</td>\n",
       "      <td>0.896760</td>\n",
       "      <td>0.981429</td>\n",
       "      <td>55.907576</td>\n",
       "    </tr>\n",
       "    <tr>\n",
       "      <th>min</th>\n",
       "      <td>892.000000</td>\n",
       "      <td>1.000000</td>\n",
       "      <td>0.170000</td>\n",
       "      <td>0.000000</td>\n",
       "      <td>0.000000</td>\n",
       "      <td>0.000000</td>\n",
       "    </tr>\n",
       "    <tr>\n",
       "      <th>25%</th>\n",
       "      <td>996.250000</td>\n",
       "      <td>1.000000</td>\n",
       "      <td>21.000000</td>\n",
       "      <td>0.000000</td>\n",
       "      <td>0.000000</td>\n",
       "      <td>7.895800</td>\n",
       "    </tr>\n",
       "    <tr>\n",
       "      <th>50%</th>\n",
       "      <td>1100.500000</td>\n",
       "      <td>3.000000</td>\n",
       "      <td>27.000000</td>\n",
       "      <td>0.000000</td>\n",
       "      <td>0.000000</td>\n",
       "      <td>14.454200</td>\n",
       "    </tr>\n",
       "    <tr>\n",
       "      <th>75%</th>\n",
       "      <td>1204.750000</td>\n",
       "      <td>3.000000</td>\n",
       "      <td>39.000000</td>\n",
       "      <td>1.000000</td>\n",
       "      <td>0.000000</td>\n",
       "      <td>31.500000</td>\n",
       "    </tr>\n",
       "    <tr>\n",
       "      <th>max</th>\n",
       "      <td>1309.000000</td>\n",
       "      <td>3.000000</td>\n",
       "      <td>76.000000</td>\n",
       "      <td>8.000000</td>\n",
       "      <td>9.000000</td>\n",
       "      <td>512.329200</td>\n",
       "    </tr>\n",
       "  </tbody>\n",
       "</table>\n",
       "</div>"
      ],
      "text/plain": [
       "       PassengerId      Pclass         Age       SibSp       Parch        Fare\n",
       "count   418.000000  418.000000  332.000000  418.000000  418.000000  417.000000\n",
       "mean   1100.500000    2.265550   30.272590    0.447368    0.392344   35.627188\n",
       "std     120.810458    0.841838   14.181209    0.896760    0.981429   55.907576\n",
       "min     892.000000    1.000000    0.170000    0.000000    0.000000    0.000000\n",
       "25%     996.250000    1.000000   21.000000    0.000000    0.000000    7.895800\n",
       "50%    1100.500000    3.000000   27.000000    0.000000    0.000000   14.454200\n",
       "75%    1204.750000    3.000000   39.000000    1.000000    0.000000   31.500000\n",
       "max    1309.000000    3.000000   76.000000    8.000000    9.000000  512.329200"
      ]
     },
     "execution_count": 11,
     "metadata": {},
     "output_type": "execute_result"
    }
   ],
   "source": [
    "test_df.describe()"
   ]
  },
  {
   "cell_type": "markdown",
   "id": "5ba54b1b",
   "metadata": {
    "papermill": {
     "duration": 0.007076,
     "end_time": "2023-12-14T09:53:41.409696",
     "exception": false,
     "start_time": "2023-12-14T09:53:41.402620",
     "status": "completed"
    },
    "tags": []
   },
   "source": [
    "## Categorical 변수들 생존-사망 시각화\n",
    "- Survived: target, 종속 변수, 0 or 1 categorical\n",
    "- Pclass: 독립변수, 1 or 2 or 3 categorical\n",
    "- Sex: 독립변수, male or female categorical\n",
    "- Embarked: 독립변수, C or Q or S categorical\n",
    "<br/><br/>\n",
    "1. Survived 개수 -> 불균형 데이터 확인  \n",
    "2. 독립변수에 따른 Survived 개수 -> 데이터 분포 확인"
   ]
  },
  {
   "cell_type": "code",
   "execution_count": 12,
   "id": "aa8ffe7f",
   "metadata": {
    "execution": {
     "iopub.execute_input": "2023-12-14T09:53:41.426655Z",
     "iopub.status.busy": "2023-12-14T09:53:41.426345Z",
     "iopub.status.idle": "2023-12-14T09:53:41.726531Z",
     "shell.execute_reply": "2023-12-14T09:53:41.725688Z"
    },
    "papermill": {
     "duration": 0.3134,
     "end_time": "2023-12-14T09:53:41.731306",
     "exception": false,
     "start_time": "2023-12-14T09:53:41.417906",
     "status": "completed"
    },
    "tags": []
   },
   "outputs": [
    {
     "data": {
      "image/png": "[encoded data removed]",
      "text/plain": [
       "<Figure size 1000x500 with 2 Axes>"
      ]
     },
     "metadata": {},
     "output_type": "display_data"
    },
    {
     "name": "stdout",
     "output_type": "stream",
     "text": [
      "Survived\n",
      "0    549\n",
      "1    342\n",
      "Name: count, dtype: int64\n"
     ]
    }
   ],
   "source": [
    "plt.figure(figsize=(10,5))\n",
    "colors = sns.color_palette('pastel')\n",
    "\n",
    "plt.subplot(1,2,1)\n",
    "sns.set_style('whitegrid')\n",
    "sns.countplot(train_df,x='Survived', hue = 'Survived', palette = colors)\n",
    "\n",
    "plt.subplot(1,2,2)\n",
    "plt.pie(train_df['Survived'].value_counts().values, labels = [0, 1], colors = colors, autopct = '%.2f' )\n",
    "plt.legend(title='Survived')\n",
    "\n",
    "plt.show()\n",
    "\n",
    "print(train_df['Survived'].value_counts())"
   ]
  },
  {
   "cell_type": "code",
   "execution_count": 13,
   "id": "437fa6e4",
   "metadata": {
    "execution": {
     "iopub.execute_input": "2023-12-14T09:53:41.748513Z",
     "iopub.status.busy": "2023-12-14T09:53:41.747632Z",
     "iopub.status.idle": "2023-12-14T09:53:42.172646Z",
     "shell.execute_reply": "2023-12-14T09:53:42.171078Z"
    },
    "papermill": {
     "duration": 0.436029,
     "end_time": "2023-12-14T09:53:42.175121",
     "exception": false,
     "start_time": "2023-12-14T09:53:41.739092",
     "status": "completed"
    },
    "tags": []
   },
   "outputs": [
    {
     "data": {
      "text/html": [
       "<div>\n",
       "<style scoped>\n",
       "    .dataframe tbody tr th:only-of-type {\n",
       "        vertical-align: middle;\n",
       "    }\n",
       "\n",
       "    .dataframe tbody tr th {\n",
       "        vertical-align: top;\n",
       "    }\n",
       "\n",
       "    .dataframe thead th {\n",
       "        text-align: right;\n",
       "    }\n",
       "</style>\n",
       "<table border=\"1\" class=\"dataframe\">\n",
       "  <thead>\n",
       "    <tr style=\"text-align: right;\">\n",
       "      <th>Survived</th>\n",
       "      <th>0</th>\n",
       "      <th>1</th>\n",
       "    </tr>\n",
       "    <tr>\n",
       "      <th>Pclass</th>\n",
       "      <th></th>\n",
       "      <th></th>\n",
       "    </tr>\n",
       "  </thead>\n",
       "  <tbody>\n",
       "    <tr>\n",
       "      <th>1</th>\n",
       "      <td>80</td>\n",
       "      <td>136</td>\n",
       "    </tr>\n",
       "    <tr>\n",
       "      <th>2</th>\n",
       "      <td>97</td>\n",
       "      <td>87</td>\n",
       "    </tr>\n",
       "    <tr>\n",
       "      <th>3</th>\n",
       "      <td>372</td>\n",
       "      <td>119</td>\n",
       "    </tr>\n",
       "  </tbody>\n",
       "</table>\n",
       "</div>"
      ],
      "text/plain": [
       "Survived    0    1\n",
       "Pclass            \n",
       "1          80  136\n",
       "2          97   87\n",
       "3         372  119"
      ]
     },
     "execution_count": 13,
     "metadata": {},
     "output_type": "execute_result"
    },
    {
     "data": {
      "text/plain": [
       "<Figure size 800x400 with 0 Axes>"
      ]
     },
     "metadata": {},
     "output_type": "display_data"
    },
    {
     "data": {
      "image/png": "[encoded data removed]",
      "text/plain": [
       "<Figure size 572.111x500 with 1 Axes>"
      ]
     },
     "metadata": {},
     "output_type": "display_data"
    }
   ],
   "source": [
    "plt.figure(figsize=(8,4))\n",
    "\n",
    "sns.set_style('whitegrid')\n",
    "sns.catplot(train_df, x='Pclass', hue = 'Survived', palette = 'pastel', kind = 'count')\n",
    "train_df.groupby(['Pclass','Survived']).size().unstack()"
   ]
  },
  {
   "cell_type": "code",
   "execution_count": 14,
   "id": "a66160c8",
   "metadata": {
    "execution": {
     "iopub.execute_input": "2023-12-14T09:53:42.193432Z",
     "iopub.status.busy": "2023-12-14T09:53:42.193096Z",
     "iopub.status.idle": "2023-12-14T09:53:42.563999Z",
     "shell.execute_reply": "2023-12-14T09:53:42.563269Z"
    },
    "papermill": {
     "duration": 0.381995,
     "end_time": "2023-12-14T09:53:42.565703",
     "exception": false,
     "start_time": "2023-12-14T09:53:42.183708",
     "status": "completed"
    },
    "tags": []
   },
   "outputs": [
    {
     "data": {
      "text/html": [
       "<div>\n",
       "<style scoped>\n",
       "    .dataframe tbody tr th:only-of-type {\n",
       "        vertical-align: middle;\n",
       "    }\n",
       "\n",
       "    .dataframe tbody tr th {\n",
       "        vertical-align: top;\n",
       "    }\n",
       "\n",
       "    .dataframe thead th {\n",
       "        text-align: right;\n",
       "    }\n",
       "</style>\n",
       "<table border=\"1\" class=\"dataframe\">\n",
       "  <thead>\n",
       "    <tr style=\"text-align: right;\">\n",
       "      <th>Survived</th>\n",
       "      <th>0</th>\n",
       "      <th>1</th>\n",
       "    </tr>\n",
       "    <tr>\n",
       "      <th>Sex</th>\n",
       "      <th></th>\n",
       "      <th></th>\n",
       "    </tr>\n",
       "  </thead>\n",
       "  <tbody>\n",
       "    <tr>\n",
       "      <th>female</th>\n",
       "      <td>81</td>\n",
       "      <td>233</td>\n",
       "    </tr>\n",
       "    <tr>\n",
       "      <th>male</th>\n",
       "      <td>468</td>\n",
       "      <td>109</td>\n",
       "    </tr>\n",
       "  </tbody>\n",
       "</table>\n",
       "</div>"
      ],
      "text/plain": [
       "Survived    0    1\n",
       "Sex               \n",
       "female     81  233\n",
       "male      468  109"
      ]
     },
     "execution_count": 14,
     "metadata": {},
     "output_type": "execute_result"
    },
    {
     "data": {
      "text/plain": [
       "<Figure size 800x400 with 0 Axes>"
      ]
     },
     "metadata": {},
     "output_type": "display_data"
    },
    {
     "data": {
      "image/png": "[encoded data removed]",
      "text/plain": [
       "<Figure size 572.111x500 with 1 Axes>"
      ]
     },
     "metadata": {},
     "output_type": "display_data"
    }
   ],
   "source": [
    "plt.figure(figsize=(8,4))\n",
    "\n",
    "sns.set_style('whitegrid')\n",
    "sns.catplot(train_df, x='Sex', hue = 'Survived', palette = 'pastel', kind = 'count')\n",
    "train_df.groupby(['Sex','Survived']).size().unstack()"
   ]
  },
  {
   "cell_type": "code",
   "execution_count": 15,
   "id": "c2bc0411",
   "metadata": {
    "execution": {
     "iopub.execute_input": "2023-12-14T09:53:42.585935Z",
     "iopub.status.busy": "2023-12-14T09:53:42.584733Z",
     "iopub.status.idle": "2023-12-14T09:53:43.012837Z",
     "shell.execute_reply": "2023-12-14T09:53:43.011388Z"
    },
    "papermill": {
     "duration": 0.440314,
     "end_time": "2023-12-14T09:53:43.015267",
     "exception": false,
     "start_time": "2023-12-14T09:53:42.574953",
     "status": "completed"
    },
    "tags": []
   },
   "outputs": [
    {
     "data": {
      "text/html": [
       "<div>\n",
       "<style scoped>\n",
       "    .dataframe tbody tr th:only-of-type {\n",
       "        vertical-align: middle;\n",
       "    }\n",
       "\n",
       "    .dataframe tbody tr th {\n",
       "        vertical-align: top;\n",
       "    }\n",
       "\n",
       "    .dataframe thead th {\n",
       "        text-align: right;\n",
       "    }\n",
       "</style>\n",
       "<table border=\"1\" class=\"dataframe\">\n",
       "  <thead>\n",
       "    <tr style=\"text-align: right;\">\n",
       "      <th>Survived</th>\n",
       "      <th>0</th>\n",
       "      <th>1</th>\n",
       "    </tr>\n",
       "    <tr>\n",
       "      <th>Embarked</th>\n",
       "      <th></th>\n",
       "      <th></th>\n",
       "    </tr>\n",
       "  </thead>\n",
       "  <tbody>\n",
       "    <tr>\n",
       "      <th>C</th>\n",
       "      <td>75</td>\n",
       "      <td>93</td>\n",
       "    </tr>\n",
       "    <tr>\n",
       "      <th>Q</th>\n",
       "      <td>47</td>\n",
       "      <td>30</td>\n",
       "    </tr>\n",
       "    <tr>\n",
       "      <th>S</th>\n",
       "      <td>427</td>\n",
       "      <td>217</td>\n",
       "    </tr>\n",
       "  </tbody>\n",
       "</table>\n",
       "</div>"
      ],
      "text/plain": [
       "Survived    0    1\n",
       "Embarked          \n",
       "C          75   93\n",
       "Q          47   30\n",
       "S         427  217"
      ]
     },
     "execution_count": 15,
     "metadata": {},
     "output_type": "execute_result"
    },
    {
     "data": {
      "text/plain": [
       "<Figure size 800x400 with 0 Axes>"
      ]
     },
     "metadata": {},
     "output_type": "display_data"
    },
    {
     "data": {
      "image/png": "[encoded data removed]",
      "text/plain": [
       "<Figure size 572.111x500 with 1 Axes>"
      ]
     },
     "metadata": {},
     "output_type": "display_data"
    }
   ],
   "source": [
    "plt.figure(figsize=(8,4))\n",
    "\n",
    "sns.set_style('whitegrid')\n",
    "sns.catplot(train_df, x='Embarked', hue = 'Survived', palette = 'pastel', kind = 'count')\n",
    "train_df.groupby(['Embarked','Survived']).size().unstack()"
   ]
  },
  {
   "cell_type": "markdown",
   "id": "fc6e1303",
   "metadata": {
    "papermill": {
     "duration": 0.008906,
     "end_time": "2023-12-14T09:53:43.033854",
     "exception": false,
     "start_time": "2023-12-14T09:53:43.024948",
     "status": "completed"
    },
    "tags": []
   },
   "source": [
    "- Survived: 생존 < 사망, 둘의 데이터 크기 차이는 있으나 크지 않으므로 데이터 불균형 해소 과정(과적합 해결)은 이후 score 개선 단계에서 생각\n",
    "- Pclass: 생존자의 탑승권이 1,2,3 등급인 크기는 비슷하나 3등급 탑승권의 사망자가 눈에 띄게 많으므로 해석할 필요가 있어보임, 변수 채택\n",
    "- Sex: 성별에 따라 생존-사망의 패턴이 반대로 나타나므로 해석할 필요가 있어보임, 변수 채택\n",
    "- Embarked: 셰르부르에서 승선한 탑승객의 생존-사망 패턴만 다름(근소하나 생존자 인원이 우위), 해석할 필요가 있어보임, 변수 채택"
   ]
  },
  {
   "cell_type": "markdown",
   "id": "d2ed8841",
   "metadata": {
    "papermill": {
     "duration": 0.00889,
     "end_time": "2023-12-14T09:53:43.052092",
     "exception": false,
     "start_time": "2023-12-14T09:53:43.043202",
     "status": "completed"
    },
    "tags": []
   },
   "source": [
    "## 수치형 변수들 생존-사망 시각화"
   ]
  },
  {
   "cell_type": "code",
   "execution_count": 16,
   "id": "ef428bb8",
   "metadata": {
    "execution": {
     "iopub.execute_input": "2023-12-14T09:53:43.072140Z",
     "iopub.status.busy": "2023-12-14T09:53:43.071810Z",
     "iopub.status.idle": "2023-12-14T09:53:43.085288Z",
     "shell.execute_reply": "2023-12-14T09:53:43.084264Z"
    },
    "papermill": {
     "duration": 0.026589,
     "end_time": "2023-12-14T09:53:43.087942",
     "exception": false,
     "start_time": "2023-12-14T09:53:43.061353",
     "status": "completed"
    },
    "tags": []
   },
   "outputs": [
    {
     "data": {
      "text/html": [
       "<div>\n",
       "<style scoped>\n",
       "    .dataframe tbody tr th:only-of-type {\n",
       "        vertical-align: middle;\n",
       "    }\n",
       "\n",
       "    .dataframe tbody tr th {\n",
       "        vertical-align: top;\n",
       "    }\n",
       "\n",
       "    .dataframe thead th {\n",
       "        text-align: right;\n",
       "    }\n",
       "</style>\n",
       "<table border=\"1\" class=\"dataframe\">\n",
       "  <thead>\n",
       "    <tr style=\"text-align: right;\">\n",
       "      <th></th>\n",
       "      <th>PassengerId</th>\n",
       "      <th>Age</th>\n",
       "      <th>SibSp</th>\n",
       "      <th>Parch</th>\n",
       "      <th>Fare</th>\n",
       "    </tr>\n",
       "  </thead>\n",
       "  <tbody>\n",
       "    <tr>\n",
       "      <th>0</th>\n",
       "      <td>1</td>\n",
       "      <td>22.0</td>\n",
       "      <td>1</td>\n",
       "      <td>0</td>\n",
       "      <td>7.2500</td>\n",
       "    </tr>\n",
       "    <tr>\n",
       "      <th>1</th>\n",
       "      <td>2</td>\n",
       "      <td>38.0</td>\n",
       "      <td>1</td>\n",
       "      <td>0</td>\n",
       "      <td>71.2833</td>\n",
       "    </tr>\n",
       "    <tr>\n",
       "      <th>2</th>\n",
       "      <td>3</td>\n",
       "      <td>26.0</td>\n",
       "      <td>0</td>\n",
       "      <td>0</td>\n",
       "      <td>7.9250</td>\n",
       "    </tr>\n",
       "    <tr>\n",
       "      <th>3</th>\n",
       "      <td>4</td>\n",
       "      <td>35.0</td>\n",
       "      <td>1</td>\n",
       "      <td>0</td>\n",
       "      <td>53.1000</td>\n",
       "    </tr>\n",
       "    <tr>\n",
       "      <th>4</th>\n",
       "      <td>5</td>\n",
       "      <td>35.0</td>\n",
       "      <td>0</td>\n",
       "      <td>0</td>\n",
       "      <td>8.0500</td>\n",
       "    </tr>\n",
       "  </tbody>\n",
       "</table>\n",
       "</div>"
      ],
      "text/plain": [
       "   PassengerId   Age  SibSp  Parch     Fare\n",
       "0            1  22.0      1      0   7.2500\n",
       "1            2  38.0      1      0  71.2833\n",
       "2            3  26.0      0      0   7.9250\n",
       "3            4  35.0      1      0  53.1000\n",
       "4            5  35.0      0      0   8.0500"
      ]
     },
     "execution_count": 16,
     "metadata": {},
     "output_type": "execute_result"
    }
   ],
   "source": [
    "n_train_df = train_df.select_dtypes(include=np.number).iloc[:,[0,3,4,5,6]]\n",
    "n_train_df.head()"
   ]
  },
  {
   "cell_type": "markdown",
   "id": "6a2bede6",
   "metadata": {
    "papermill": {
     "duration": 0.009367,
     "end_time": "2023-12-14T09:53:43.107218",
     "exception": false,
     "start_time": "2023-12-14T09:53:43.097851",
     "status": "completed"
    },
    "tags": []
   },
   "source": [
    "- 이산형: PassengerId, Age,SibSp,Parch\n",
    "- 연속형: Fare  \n",
    "- PassengerId &rarr; 이후의 정보라 생존-사망과는 관련 없어보임 &rarr; 변수 제외  \n",
    "\\*참고, 모두 독립변수 \n",
    "1. Survived가 사망(0)인 경우와 생존(1)인 경우의 각각의 변수 형태 확인\n",
    "2. 이상치 데이터 확인\n",
    "3. 이산형 변수 시각화는 히스토그램, boxplot 등으로...\n",
    "4. 연속형 변수 시각화는 히스토그램(도수표작성), 분포 등으로..."
   ]
  },
  {
   "cell_type": "code",
   "execution_count": 17,
   "id": "43e635c9",
   "metadata": {
    "execution": {
     "iopub.execute_input": "2023-12-14T09:53:43.128522Z",
     "iopub.status.busy": "2023-12-14T09:53:43.128160Z",
     "iopub.status.idle": "2023-12-14T09:53:43.723303Z",
     "shell.execute_reply": "2023-12-14T09:53:43.721683Z"
    },
    "papermill": {
     "duration": 0.608561,
     "end_time": "2023-12-14T09:53:43.725678",
     "exception": false,
     "start_time": "2023-12-14T09:53:43.117117",
     "status": "completed"
    },
    "tags": []
   },
   "outputs": [
    {
     "data": {
      "text/plain": [
       "<Axes: ylabel='Parch'>"
      ]
     },
     "execution_count": 17,
     "metadata": {},
     "output_type": "execute_result"
    },
    {
     "data": {
      "image/png": "[encoded data removed]",
      "text/plain": [
       "<Figure size 640x480 with 2 Axes>"
      ]
     },
     "metadata": {},
     "output_type": "display_data"
    },
    {
     "data": {
      "image/png": "[encoded data removed]",
      "text/plain": [
       "<Figure size 640x480 with 2 Axes>"
      ]
     },
     "metadata": {},
     "output_type": "display_data"
    }
   ],
   "source": [
    "fig1, axes1 = plt.subplots(1,2)\n",
    "\n",
    "sns.boxplot(y=n_train_df['Age'],color=colors[0],ax=axes1[0])\n",
    "sns.boxplot(y=n_train_df['Fare'],color=colors[1],ax=axes1[1])\n",
    "\n",
    "fig2, axes2 = plt.subplots(1,2)\n",
    "\n",
    "sns.boxplot(y = n_train_df['SibSp'],color=colors[2],ax=axes2[0])\n",
    "sns.boxplot(y = n_train_df['Parch'],color=colors[3],ax=axes2[1])\n"
   ]
  },
  {
   "cell_type": "markdown",
   "id": "fc8d85c8",
   "metadata": {
    "papermill": {
     "duration": 0.01051,
     "end_time": "2023-12-14T09:53:43.804820",
     "exception": false,
     "start_time": "2023-12-14T09:53:43.794310",
     "status": "completed"
    },
    "tags": []
   },
   "source": [
    "- 네 독립변수 모두 이상치 존재  \n",
    "- SibSp와 Parch는 동승자에 대한 정보라는 점에서 공통점 존재, 동승자라는 새로운 변수 생성\n",
    "- Fare는 Pclass과 함께 비용이라는 공통점이 존재(Pclass의 등급이 높을 수록 비용이 높을 것이라는 생각),   \n",
    "  Fare를 Pclass와 마찬가지로 3개의 category로 범주화하여 이상치 해결\n",
    "- Age는 이산형 데이터지만, 1살 미만의 아이와 정확한 나이를 모르는 사람은 소수점 이하 자리가 있는 실수형,  \n",
    "  고령자의 인원이 별로 없어 이상치가 되는 점을 고려해 연령대 범주화로 해결"
   ]
  },
  {
   "cell_type": "markdown",
   "id": "4ac56765",
   "metadata": {
    "papermill": {
     "duration": 0.010457,
     "end_time": "2023-12-14T09:53:43.825485",
     "exception": false,
     "start_time": "2023-12-14T09:53:43.815028",
     "status": "completed"
    },
    "tags": []
   },
   "source": [
    "## Object(문자형) 변수들\n",
    "- 데이터 타입이 object였던 변수 중, categorical이 아니어서 시각화하지 못한 변수들  \n",
    "    : Name, Ticket, Cabin"
   ]
  },
  {
   "cell_type": "code",
   "execution_count": 18,
   "id": "0455d188",
   "metadata": {
    "execution": {
     "iopub.execute_input": "2023-12-14T09:53:43.852309Z",
     "iopub.status.busy": "2023-12-14T09:53:43.850311Z",
     "iopub.status.idle": "2023-12-14T09:53:43.860516Z",
     "shell.execute_reply": "2023-12-14T09:53:43.859494Z"
    },
    "papermill": {
     "duration": 0.024277,
     "end_time": "2023-12-14T09:53:43.862433",
     "exception": false,
     "start_time": "2023-12-14T09:53:43.838156",
     "status": "completed"
    },
    "tags": []
   },
   "outputs": [
    {
     "data": {
      "text/plain": [
       "(0                               Braund, Mr. Owen Harris\n",
       " 1     Cumings, Mrs. John Bradley (Florence Briggs Th...\n",
       " 2                                Heikkinen, Miss. Laina\n",
       " 3          Futrelle, Mrs. Jacques Heath (Lily May Peel)\n",
       " 4                              Allen, Mr. William Henry\n",
       " 5                                      Moran, Mr. James\n",
       " 6                               McCarthy, Mr. Timothy J\n",
       " 7                        Palsson, Master. Gosta Leonard\n",
       " 8     Johnson, Mrs. Oscar W (Elisabeth Vilhelmina Berg)\n",
       " 9                   Nasser, Mrs. Nicholas (Adele Achem)\n",
       " 10                      Sandstrom, Miss. Marguerite Rut\n",
       " Name: Name, dtype: object,\n",
       " 0)"
      ]
     },
     "execution_count": 18,
     "metadata": {},
     "output_type": "execute_result"
    }
   ],
   "source": [
    "train_df['Name'].iloc[:11], train_df['Name'].isnull().sum()"
   ]
  },
  {
   "cell_type": "code",
   "execution_count": 19,
   "id": "cd3c60d4",
   "metadata": {
    "execution": {
     "iopub.execute_input": "2023-12-14T09:53:43.889545Z",
     "iopub.status.busy": "2023-12-14T09:53:43.889220Z",
     "iopub.status.idle": "2023-12-14T09:53:43.897188Z",
     "shell.execute_reply": "2023-12-14T09:53:43.896235Z"
    },
    "papermill": {
     "duration": 0.023804,
     "end_time": "2023-12-14T09:53:43.899035",
     "exception": false,
     "start_time": "2023-12-14T09:53:43.875231",
     "status": "completed"
    },
    "tags": []
   },
   "outputs": [
    {
     "data": {
      "text/plain": [
       "(50       3101295\n",
       " 51    A/4. 39886\n",
       " 52      PC 17572\n",
       " 53          2926\n",
       " 54        113509\n",
       " 55         19947\n",
       " 56    C.A. 31026\n",
       " 57          2697\n",
       " 58    C.A. 34651\n",
       " 59       CA 2144\n",
       " Name: Ticket, dtype: object,\n",
       " 0)"
      ]
     },
     "execution_count": 19,
     "metadata": {},
     "output_type": "execute_result"
    }
   ],
   "source": [
    "train_df['Ticket'].iloc[50:60], train_df['Ticket'].isnull().sum()"
   ]
  },
  {
   "cell_type": "code",
   "execution_count": 20,
   "id": "40024615",
   "metadata": {
    "execution": {
     "iopub.execute_input": "2023-12-14T09:53:43.922392Z",
     "iopub.status.busy": "2023-12-14T09:53:43.922064Z",
     "iopub.status.idle": "2023-12-14T09:53:43.931935Z",
     "shell.execute_reply": "2023-12-14T09:53:43.930716Z"
    },
    "papermill": {
     "duration": 0.023831,
     "end_time": "2023-12-14T09:53:43.933693",
     "exception": false,
     "start_time": "2023-12-14T09:53:43.909862",
     "status": "completed"
    },
    "tags": []
   },
   "outputs": [
    {
     "data": {
      "text/plain": [
       "(1              C85\n",
       " 3             C123\n",
       " 6              E46\n",
       " 10              G6\n",
       " 11            C103\n",
       "           ...     \n",
       " 871            D35\n",
       " 872    B51 B53 B55\n",
       " 879            C50\n",
       " 887            B42\n",
       " 889           C148\n",
       " Name: Cabin, Length: 204, dtype: object,\n",
       " 687)"
      ]
     },
     "execution_count": 20,
     "metadata": {},
     "output_type": "execute_result"
    }
   ],
   "source": [
    "train_df[train_df['Cabin'].notnull()]['Cabin'], train_df['Cabin'].isnull().sum()"
   ]
  },
  {
   "cell_type": "markdown",
   "id": "b5a45300",
   "metadata": {
    "papermill": {
     "duration": 0.010677,
     "end_time": "2023-12-14T09:53:43.955221",
     "exception": false,
     "start_time": "2023-12-14T09:53:43.944544",
     "status": "completed"
    },
    "tags": []
   },
   "source": [
    "- Name: 대부분 '이름, 혼인여부. 성'의 형식, 혼인여부로 성별 판단 가능, 성으로 가족관계 유추 가능, 괄호 안의 정보는 무엇인지 불명확  \n",
    "    &rarr; 성별에 대한 데이터(Sex)와 가족 관계(동승자)(SibSp,Parch)에 대한 데이터가 모두 존재하므로 이번 분석에서는 Name 변수 제외\n",
    "- Ticket: 형식이 일관되지 않음(알파벳+숫자와 숫자 형식이 혼재), 탑승권은 탑승 등급(Pclass)와 여객 요금(Fare)의 정보를 담고 있을 것이라 생각, 이번 분석에서는 변수 제외\n",
    "- Cabin: 형식은 '알파벳+숫자'로 일관되나 값이 1개가 아닌 데이터(index 872)가 존재, 또한 결측치가 과반수로 결측치 처리가 어려워 보임, 변수 제외"
   ]
  },
  {
   "cell_type": "markdown",
   "id": "070f6832",
   "metadata": {
    "papermill": {
     "duration": 0.010193,
     "end_time": "2023-12-14T09:53:43.976340",
     "exception": false,
     "start_time": "2023-12-14T09:53:43.966147",
     "status": "completed"
    },
    "tags": []
   },
   "source": [
    "# 전처리(Preprocessing)"
   ]
  },
  {
   "cell_type": "markdown",
   "id": "e43555f4",
   "metadata": {
    "papermill": {
     "duration": 0.009945,
     "end_time": "2023-12-14T09:53:43.996788",
     "exception": false,
     "start_time": "2023-12-14T09:53:43.986843",
     "status": "completed"
    },
    "tags": []
   },
   "source": [
    "## 필요한 전처리 내용\n",
    "- 라벨링\n",
    "    - Sex, Pclass\n",
    "- 결측치 처리"
   ]
  }
 ],
 "metadata": {
  "kaggle": {
   "accelerator": "none",
   "dataSources": [
    {
     "databundleVersionId": 26502,
     "sourceId": 3136,
     "sourceType": "competition"
    }
   ],
   "dockerImageVersionId": 30615,
   "isGpuEnabled": false,
   "isInternetEnabled": false,
   "language": "python",
   "sourceType": "notebook"
  },
  "kernelspec": {
   "display_name": "Python 3",
   "language": "python",
   "name": "python3"
  },
  "language_info": {
   "codemirror_mode": {
    "name": "ipython",
    "version": 3
   },
   "file_extension": ".py",
   "mimetype": "text/x-python",
   "name": "python",
   "nbconvert_exporter": "python",
   "pygments_lexer": "ipython3",
   "version": "3.10.12"
  },
  "papermill": {
   "default_parameters": {},
   "duration": 8.792254,
   "end_time": "2023-12-14T09:53:44.628081",
   "environment_variables": {},
   "exception": null,
   "input_path": "__notebook__.ipynb",
   "output_path": "__notebook__.ipynb",
   "parameters": {},
   "start_time": "2023-12-14T09:53:35.835827",
   "version": "2.4.0"
  }
 },
 "nbformat": 4,
 "nbformat_minor": 5
}
