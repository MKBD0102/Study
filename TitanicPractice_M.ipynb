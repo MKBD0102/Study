{
 "cells": [
  {
   "cell_type": "code",
   "execution_count": 1,
   "id": "b8cadcb0",
   "metadata": {
    "_cell_guid": "b1076dfc-b9ad-4769-8c92-a6c4dae69d19",
    "_uuid": "8f2839f25d086af736a60e9eeb907d3b93b6e0e5",
    "execution": {
     "iopub.execute_input": "2023-12-15T07:23:02.933375Z",
     "iopub.status.busy": "2023-12-15T07:23:02.932849Z",
     "iopub.status.idle": "2023-12-15T07:23:03.978864Z",
     "shell.execute_reply": "2023-12-15T07:23:03.977542Z"
    },
    "papermill": {
     "duration": 1.068974,
     "end_time": "2023-12-15T07:23:03.981788",
     "exception": false,
     "start_time": "2023-12-15T07:23:02.912814",
     "status": "completed"
    },
    "tags": []
   },
   "outputs": [
    {
     "name": "stdout",
     "output_type": "stream",
     "text": [
      "/kaggle/input/titanic/train.csv\n",
      "/kaggle/input/titanic/test.csv\n",
      "/kaggle/input/titanic/gender_submission.csv\n"
     ]
    }
   ],
   "source": [
    "# This Python 3 environment comes with many helpful analytics libraries installed\n",
    "# It is defined by the kaggle/python Docker image: https://github.com/kaggle/docker-python\n",
    "# For example, here's several helpful packages to load\n",
    "\n",
    "import numpy as np # linear algebra\n",
    "import pandas as pd # data processing, CSV file I/O (e.g. pd.read_csv)\n",
    "\n",
    "\n",
    "# Input data files are available in the read-only \"../input/\" directory\n",
    "# For example, running this (by clicking run or pressing Shift+Enter) will list all files under the input directory\n",
    "\n",
    "import os\n",
    "for dirname, _, filenames in os.walk('/kaggle/input'):\n",
    "    for filename in filenames:\n",
    "        print(os.path.join(dirname, filename))\n",
    "\n",
    "# You can write up to 20GB to the current directory (/kaggle/working/) that gets preserved as output when you create a version using \"Save & Run All\" \n",
    "# You can also write temporary files to /kaggle/temp/, but they won't be saved outside of the current session"
   ]
  },
  {
   "cell_type": "markdown",
   "id": "b00a08f1",
   "metadata": {
    "papermill": {
     "duration": 0.017941,
     "end_time": "2023-12-15T07:23:04.016360",
     "exception": false,
     "start_time": "2023-12-15T07:23:03.998419",
     "status": "completed"
    },
    "tags": []
   },
   "source": [
    "# Overview\n",
    "\n",
    "## 문제 정의\n",
    "> 1912년 4월 15일 타이타닉호 침몰\n",
    "> 총 2224명 중 1502명이 사망한 사건\n",
    "- 문제 해결 목표: 생존-사망 데이터를 분석하여 생존 가능성이 더 높은 사람의 유형을 예측하는 모델 구축\n",
    "\n",
    "## train.csv 데이터 셋 설명\n",
    "- 탑승객의 일부(891명)에 대한 승객 정보\n",
    "- columns\n",
    "    - PassengerId: 승객 고유번호(int)\n",
    "    - Survived: 생존 여부(int, 0: 사망, 1: 생존)\n",
    "    - Pclass: 탑승권 등급(int, 1: 1st, 2: 2nd, 3: 3rd)\n",
    "    - Name: 승객 이름(object(str))\n",
    "    - Sex: 승객 성별(object(str))\n",
    "    - Age: 승객 나이(float, 1보다 작으면 분수, 추정된 나이는 xx.5의 형태)\n",
    "    - SibSp: 동승자 수-형제자매&부부(int, 단 정부나 약혼자는 제외) \n",
    "    - Parch: 동승자 수-부모자식(int, 단 유모와만 탄 아이는 0)\n",
    "    - Ticket: 탑승권 번호(object(str))\n",
    "    - Fare: 여객 요금(float)\n",
    "    - Cabin: 선실 번호(object(str))\n",
    "    - Embarked: 승선 항구(object(str), C: Cherbourg, Q: Queenstown, S: Southampton)"
   ]
  },
  {
   "cell_type": "code",
   "execution_count": 2,
   "id": "67dfbd97",
   "metadata": {
    "execution": {
     "iopub.execute_input": "2023-12-15T07:23:04.052327Z",
     "iopub.status.busy": "2023-12-15T07:23:04.051266Z",
     "iopub.status.idle": "2023-12-15T07:23:05.609342Z",
     "shell.execute_reply": "2023-12-15T07:23:05.607904Z"
    },
    "papermill": {
     "duration": 1.57974,
     "end_time": "2023-12-15T07:23:05.612609",
     "exception": false,
     "start_time": "2023-12-15T07:23:04.032869",
     "status": "completed"
    },
    "tags": []
   },
   "outputs": [],
   "source": [
    "# 라이브러리 import\n",
    "import numpy as np\n",
    "import pandas as pd\n",
    "import matplotlib.pyplot as plt\n",
    "import seaborn as sns"
   ]
  },
  {
   "cell_type": "markdown",
   "id": "97f8df8c",
   "metadata": {
    "papermill": {
     "duration": 0.016419,
     "end_time": "2023-12-15T07:23:05.649600",
     "exception": false,
     "start_time": "2023-12-15T07:23:05.633181",
     "status": "completed"
    },
    "tags": []
   },
   "source": [
    "# Check Data"
   ]
  },
  {
   "cell_type": "code",
   "execution_count": 3,
   "id": "f18f2616",
   "metadata": {
    "execution": {
     "iopub.execute_input": "2023-12-15T07:23:05.686296Z",
     "iopub.status.busy": "2023-12-15T07:23:05.685835Z",
     "iopub.status.idle": "2023-12-15T07:23:05.730123Z",
     "shell.execute_reply": "2023-12-15T07:23:05.728953Z"
    },
    "papermill": {
     "duration": 0.066823,
     "end_time": "2023-12-15T07:23:05.733177",
     "exception": false,
     "start_time": "2023-12-15T07:23:05.666354",
     "status": "completed"
    },
    "tags": []
   },
   "outputs": [],
   "source": [
    "# 데이터 로드\n",
    "train_df = pd.read_csv('/kaggle/input/titanic/train.csv')\n",
    "test_df = pd.read_csv('/kaggle/input/titanic/test.csv')"
   ]
  },
  {
   "cell_type": "code",
   "execution_count": 4,
   "id": "a7d62a37",
   "metadata": {
    "execution": {
     "iopub.execute_input": "2023-12-15T07:23:05.769407Z",
     "iopub.status.busy": "2023-12-15T07:23:05.768293Z",
     "iopub.status.idle": "2023-12-15T07:23:05.807068Z",
     "shell.execute_reply": "2023-12-15T07:23:05.805467Z"
    },
    "papermill": {
     "duration": 0.060096,
     "end_time": "2023-12-15T07:23:05.810238",
     "exception": false,
     "start_time": "2023-12-15T07:23:05.750142",
     "status": "completed"
    },
    "tags": []
   },
   "outputs": [
    {
     "data": {
      "text/html": [
       "<div>\n",
       "<style scoped>\n",
       "    .dataframe tbody tr th:only-of-type {\n",
       "        vertical-align: middle;\n",
       "    }\n",
       "\n",
       "    .dataframe tbody tr th {\n",
       "        vertical-align: top;\n",
       "    }\n",
       "\n",
       "    .dataframe thead th {\n",
       "        text-align: right;\n",
       "    }\n",
       "</style>\n",
       "<table border=\"1\" class=\"dataframe\">\n",
       "  <thead>\n",
       "    <tr style=\"text-align: right;\">\n",
       "      <th></th>\n",
       "      <th>PassengerId</th>\n",
       "      <th>Survived</th>\n",
       "      <th>Pclass</th>\n",
       "      <th>Name</th>\n",
       "      <th>Sex</th>\n",
       "      <th>Age</th>\n",
       "      <th>SibSp</th>\n",
       "      <th>Parch</th>\n",
       "      <th>Ticket</th>\n",
       "      <th>Fare</th>\n",
       "      <th>Cabin</th>\n",
       "      <th>Embarked</th>\n",
       "    </tr>\n",
       "  </thead>\n",
       "  <tbody>\n",
       "    <tr>\n",
       "      <th>0</th>\n",
       "      <td>1</td>\n",
       "      <td>0</td>\n",
       "      <td>3</td>\n",
       "      <td>Braund, Mr. Owen Harris</td>\n",
       "      <td>male</td>\n",
       "      <td>22.0</td>\n",
       "      <td>1</td>\n",
       "      <td>0</td>\n",
       "      <td>A/5 21171</td>\n",
       "      <td>7.2500</td>\n",
       "      <td>NaN</td>\n",
       "      <td>S</td>\n",
       "    </tr>\n",
       "    <tr>\n",
       "      <th>1</th>\n",
       "      <td>2</td>\n",
       "      <td>1</td>\n",
       "      <td>1</td>\n",
       "      <td>Cumings, Mrs. John Bradley (Florence Briggs Th...</td>\n",
       "      <td>female</td>\n",
       "      <td>38.0</td>\n",
       "      <td>1</td>\n",
       "      <td>0</td>\n",
       "      <td>PC 17599</td>\n",
       "      <td>71.2833</td>\n",
       "      <td>C85</td>\n",
       "      <td>C</td>\n",
       "    </tr>\n",
       "    <tr>\n",
       "      <th>2</th>\n",
       "      <td>3</td>\n",
       "      <td>1</td>\n",
       "      <td>3</td>\n",
       "      <td>Heikkinen, Miss. Laina</td>\n",
       "      <td>female</td>\n",
       "      <td>26.0</td>\n",
       "      <td>0</td>\n",
       "      <td>0</td>\n",
       "      <td>STON/O2. 3101282</td>\n",
       "      <td>7.9250</td>\n",
       "      <td>NaN</td>\n",
       "      <td>S</td>\n",
       "    </tr>\n",
       "    <tr>\n",
       "      <th>3</th>\n",
       "      <td>4</td>\n",
       "      <td>1</td>\n",
       "      <td>1</td>\n",
       "      <td>Futrelle, Mrs. Jacques Heath (Lily May Peel)</td>\n",
       "      <td>female</td>\n",
       "      <td>35.0</td>\n",
       "      <td>1</td>\n",
       "      <td>0</td>\n",
       "      <td>113803</td>\n",
       "      <td>53.1000</td>\n",
       "      <td>C123</td>\n",
       "      <td>S</td>\n",
       "    </tr>\n",
       "    <tr>\n",
       "      <th>4</th>\n",
       "      <td>5</td>\n",
       "      <td>0</td>\n",
       "      <td>3</td>\n",
       "      <td>Allen, Mr. William Henry</td>\n",
       "      <td>male</td>\n",
       "      <td>35.0</td>\n",
       "      <td>0</td>\n",
       "      <td>0</td>\n",
       "      <td>373450</td>\n",
       "      <td>8.0500</td>\n",
       "      <td>NaN</td>\n",
       "      <td>S</td>\n",
       "    </tr>\n",
       "  </tbody>\n",
       "</table>\n",
       "</div>"
      ],
      "text/plain": [
       "   PassengerId  Survived  Pclass  \\\n",
       "0            1         0       3   \n",
       "1            2         1       1   \n",
       "2            3         1       3   \n",
       "3            4         1       1   \n",
       "4            5         0       3   \n",
       "\n",
       "                                                Name     Sex   Age  SibSp  \\\n",
       "0                            Braund, Mr. Owen Harris    male  22.0      1   \n",
       "1  Cumings, Mrs. John Bradley (Florence Briggs Th...  female  38.0      1   \n",
       "2                             Heikkinen, Miss. Laina  female  26.0      0   \n",
       "3       Futrelle, Mrs. Jacques Heath (Lily May Peel)  female  35.0      1   \n",
       "4                           Allen, Mr. William Henry    male  35.0      0   \n",
       "\n",
       "   Parch            Ticket     Fare Cabin Embarked  \n",
       "0      0         A/5 21171   7.2500   NaN        S  \n",
       "1      0          PC 17599  71.2833   C85        C  \n",
       "2      0  STON/O2. 3101282   7.9250   NaN        S  \n",
       "3      0            113803  53.1000  C123        S  \n",
       "4      0            373450   8.0500   NaN        S  "
      ]
     },
     "execution_count": 4,
     "metadata": {},
     "output_type": "execute_result"
    }
   ],
   "source": [
    "train_df.head()"
   ]
  },
  {
   "cell_type": "code",
   "execution_count": 5,
   "id": "cf6e6df1",
   "metadata": {
    "execution": {
     "iopub.execute_input": "2023-12-15T07:23:05.846101Z",
     "iopub.status.busy": "2023-12-15T07:23:05.845610Z",
     "iopub.status.idle": "2023-12-15T07:23:05.865947Z",
     "shell.execute_reply": "2023-12-15T07:23:05.864120Z"
    },
    "papermill": {
     "duration": 0.04159,
     "end_time": "2023-12-15T07:23:05.868807",
     "exception": false,
     "start_time": "2023-12-15T07:23:05.827217",
     "status": "completed"
    },
    "tags": []
   },
   "outputs": [
    {
     "data": {
      "text/html": [
       "<div>\n",
       "<style scoped>\n",
       "    .dataframe tbody tr th:only-of-type {\n",
       "        vertical-align: middle;\n",
       "    }\n",
       "\n",
       "    .dataframe tbody tr th {\n",
       "        vertical-align: top;\n",
       "    }\n",
       "\n",
       "    .dataframe thead th {\n",
       "        text-align: right;\n",
       "    }\n",
       "</style>\n",
       "<table border=\"1\" class=\"dataframe\">\n",
       "  <thead>\n",
       "    <tr style=\"text-align: right;\">\n",
       "      <th></th>\n",
       "      <th>PassengerId</th>\n",
       "      <th>Pclass</th>\n",
       "      <th>Name</th>\n",
       "      <th>Sex</th>\n",
       "      <th>Age</th>\n",
       "      <th>SibSp</th>\n",
       "      <th>Parch</th>\n",
       "      <th>Ticket</th>\n",
       "      <th>Fare</th>\n",
       "      <th>Cabin</th>\n",
       "      <th>Embarked</th>\n",
       "    </tr>\n",
       "  </thead>\n",
       "  <tbody>\n",
       "    <tr>\n",
       "      <th>0</th>\n",
       "      <td>892</td>\n",
       "      <td>3</td>\n",
       "      <td>Kelly, Mr. James</td>\n",
       "      <td>male</td>\n",
       "      <td>34.5</td>\n",
       "      <td>0</td>\n",
       "      <td>0</td>\n",
       "      <td>330911</td>\n",
       "      <td>7.8292</td>\n",
       "      <td>NaN</td>\n",
       "      <td>Q</td>\n",
       "    </tr>\n",
       "    <tr>\n",
       "      <th>1</th>\n",
       "      <td>893</td>\n",
       "      <td>3</td>\n",
       "      <td>Wilkes, Mrs. James (Ellen Needs)</td>\n",
       "      <td>female</td>\n",
       "      <td>47.0</td>\n",
       "      <td>1</td>\n",
       "      <td>0</td>\n",
       "      <td>363272</td>\n",
       "      <td>7.0000</td>\n",
       "      <td>NaN</td>\n",
       "      <td>S</td>\n",
       "    </tr>\n",
       "    <tr>\n",
       "      <th>2</th>\n",
       "      <td>894</td>\n",
       "      <td>2</td>\n",
       "      <td>Myles, Mr. Thomas Francis</td>\n",
       "      <td>male</td>\n",
       "      <td>62.0</td>\n",
       "      <td>0</td>\n",
       "      <td>0</td>\n",
       "      <td>240276</td>\n",
       "      <td>9.6875</td>\n",
       "      <td>NaN</td>\n",
       "      <td>Q</td>\n",
       "    </tr>\n",
       "    <tr>\n",
       "      <th>3</th>\n",
       "      <td>895</td>\n",
       "      <td>3</td>\n",
       "      <td>Wirz, Mr. Albert</td>\n",
       "      <td>male</td>\n",
       "      <td>27.0</td>\n",
       "      <td>0</td>\n",
       "      <td>0</td>\n",
       "      <td>315154</td>\n",
       "      <td>8.6625</td>\n",
       "      <td>NaN</td>\n",
       "      <td>S</td>\n",
       "    </tr>\n",
       "    <tr>\n",
       "      <th>4</th>\n",
       "      <td>896</td>\n",
       "      <td>3</td>\n",
       "      <td>Hirvonen, Mrs. Alexander (Helga E Lindqvist)</td>\n",
       "      <td>female</td>\n",
       "      <td>22.0</td>\n",
       "      <td>1</td>\n",
       "      <td>1</td>\n",
       "      <td>3101298</td>\n",
       "      <td>12.2875</td>\n",
       "      <td>NaN</td>\n",
       "      <td>S</td>\n",
       "    </tr>\n",
       "  </tbody>\n",
       "</table>\n",
       "</div>"
      ],
      "text/plain": [
       "   PassengerId  Pclass                                          Name     Sex  \\\n",
       "0          892       3                              Kelly, Mr. James    male   \n",
       "1          893       3              Wilkes, Mrs. James (Ellen Needs)  female   \n",
       "2          894       2                     Myles, Mr. Thomas Francis    male   \n",
       "3          895       3                              Wirz, Mr. Albert    male   \n",
       "4          896       3  Hirvonen, Mrs. Alexander (Helga E Lindqvist)  female   \n",
       "\n",
       "    Age  SibSp  Parch   Ticket     Fare Cabin Embarked  \n",
       "0  34.5      0      0   330911   7.8292   NaN        Q  \n",
       "1  47.0      1      0   363272   7.0000   NaN        S  \n",
       "2  62.0      0      0   240276   9.6875   NaN        Q  \n",
       "3  27.0      0      0   315154   8.6625   NaN        S  \n",
       "4  22.0      1      1  3101298  12.2875   NaN        S  "
      ]
     },
     "execution_count": 5,
     "metadata": {},
     "output_type": "execute_result"
    }
   ],
   "source": [
    "test_df.head()"
   ]
  },
  {
   "cell_type": "code",
   "execution_count": 6,
   "id": "08061b59",
   "metadata": {
    "execution": {
     "iopub.execute_input": "2023-12-15T07:23:05.918982Z",
     "iopub.status.busy": "2023-12-15T07:23:05.917680Z",
     "iopub.status.idle": "2023-12-15T07:23:06.081929Z",
     "shell.execute_reply": "2023-12-15T07:23:06.080655Z"
    },
    "papermill": {
     "duration": 0.194291,
     "end_time": "2023-12-15T07:23:06.085310",
     "exception": false,
     "start_time": "2023-12-15T07:23:05.891019",
     "status": "completed"
    },
    "tags": []
   },
   "outputs": [
    {
     "name": "stdout",
     "output_type": "stream",
     "text": [
      "<class 'pandas.core.frame.DataFrame'>\n",
      "RangeIndex: 891 entries, 0 to 890\n",
      "Data columns (total 12 columns):\n",
      " #   Column       Non-Null Count  Dtype  \n",
      "---  ------       --------------  -----  \n",
      " 0   PassengerId  891 non-null    int64  \n",
      " 1   Survived     891 non-null    int64  \n",
      " 2   Pclass       891 non-null    int64  \n",
      " 3   Name         891 non-null    object \n",
      " 4   Sex          891 non-null    object \n",
      " 5   Age          714 non-null    float64\n",
      " 6   SibSp        891 non-null    int64  \n",
      " 7   Parch        891 non-null    int64  \n",
      " 8   Ticket       891 non-null    object \n",
      " 9   Fare         891 non-null    float64\n",
      " 10  Cabin        204 non-null    object \n",
      " 11  Embarked     889 non-null    object \n",
      "dtypes: float64(2), int64(5), object(5)\n",
      "memory usage: 83.7+ KB\n"
     ]
    }
   ],
   "source": [
    "train_df.info()"
   ]
  },
  {
   "cell_type": "code",
   "execution_count": 7,
   "id": "3f6418ee",
   "metadata": {
    "execution": {
     "iopub.execute_input": "2023-12-15T07:23:06.142090Z",
     "iopub.status.busy": "2023-12-15T07:23:06.141388Z",
     "iopub.status.idle": "2023-12-15T07:23:06.158377Z",
     "shell.execute_reply": "2023-12-15T07:23:06.155384Z"
    },
    "papermill": {
     "duration": 0.050803,
     "end_time": "2023-12-15T07:23:06.162246",
     "exception": false,
     "start_time": "2023-12-15T07:23:06.111443",
     "status": "completed"
    },
    "tags": []
   },
   "outputs": [
    {
     "data": {
      "text/plain": [
       "PassengerId      0\n",
       "Survived         0\n",
       "Pclass           0\n",
       "Name             0\n",
       "Sex              0\n",
       "Age            177\n",
       "SibSp            0\n",
       "Parch            0\n",
       "Ticket           0\n",
       "Fare             0\n",
       "Cabin          687\n",
       "Embarked         2\n",
       "dtype: int64"
      ]
     },
     "execution_count": 7,
     "metadata": {},
     "output_type": "execute_result"
    }
   ],
   "source": [
    "train_df.isnull().sum()"
   ]
  },
  {
   "cell_type": "code",
   "execution_count": 8,
   "id": "5bcbd5af",
   "metadata": {
    "execution": {
     "iopub.execute_input": "2023-12-15T07:23:06.205579Z",
     "iopub.status.busy": "2023-12-15T07:23:06.204709Z",
     "iopub.status.idle": "2023-12-15T07:23:06.218788Z",
     "shell.execute_reply": "2023-12-15T07:23:06.217529Z"
    },
    "papermill": {
     "duration": 0.036336,
     "end_time": "2023-12-15T07:23:06.221612",
     "exception": false,
     "start_time": "2023-12-15T07:23:06.185276",
     "status": "completed"
    },
    "tags": []
   },
   "outputs": [
    {
     "name": "stdout",
     "output_type": "stream",
     "text": [
      "<class 'pandas.core.frame.DataFrame'>\n",
      "RangeIndex: 418 entries, 0 to 417\n",
      "Data columns (total 11 columns):\n",
      " #   Column       Non-Null Count  Dtype  \n",
      "---  ------       --------------  -----  \n",
      " 0   PassengerId  418 non-null    int64  \n",
      " 1   Pclass       418 non-null    int64  \n",
      " 2   Name         418 non-null    object \n",
      " 3   Sex          418 non-null    object \n",
      " 4   Age          332 non-null    float64\n",
      " 5   SibSp        418 non-null    int64  \n",
      " 6   Parch        418 non-null    int64  \n",
      " 7   Ticket       418 non-null    object \n",
      " 8   Fare         417 non-null    float64\n",
      " 9   Cabin        91 non-null     object \n",
      " 10  Embarked     418 non-null    object \n",
      "dtypes: float64(2), int64(4), object(5)\n",
      "memory usage: 36.0+ KB\n"
     ]
    }
   ],
   "source": [
    "test_df.info()"
   ]
  },
  {
   "cell_type": "code",
   "execution_count": 9,
   "id": "bc9bebe8",
   "metadata": {
    "execution": {
     "iopub.execute_input": "2023-12-15T07:23:06.259625Z",
     "iopub.status.busy": "2023-12-15T07:23:06.258636Z",
     "iopub.status.idle": "2023-12-15T07:23:06.269413Z",
     "shell.execute_reply": "2023-12-15T07:23:06.268007Z"
    },
    "papermill": {
     "duration": 0.033164,
     "end_time": "2023-12-15T07:23:06.272456",
     "exception": false,
     "start_time": "2023-12-15T07:23:06.239292",
     "status": "completed"
    },
    "tags": []
   },
   "outputs": [
    {
     "data": {
      "text/plain": [
       "PassengerId      0\n",
       "Pclass           0\n",
       "Name             0\n",
       "Sex              0\n",
       "Age             86\n",
       "SibSp            0\n",
       "Parch            0\n",
       "Ticket           0\n",
       "Fare             1\n",
       "Cabin          327\n",
       "Embarked         0\n",
       "dtype: int64"
      ]
     },
     "execution_count": 9,
     "metadata": {},
     "output_type": "execute_result"
    }
   ],
   "source": [
    "test_df.isnull().sum()"
   ]
  },
  {
   "cell_type": "markdown",
   "id": "22021462",
   "metadata": {
    "papermill": {
     "duration": 0.018565,
     "end_time": "2023-12-15T07:23:06.419374",
     "exception": false,
     "start_time": "2023-12-15T07:23:06.400809",
     "status": "completed"
    },
    "tags": []
   },
   "source": [
    "# EDA"
   ]
  },
  {
   "cell_type": "markdown",
   "id": "a1c2ab97",
   "metadata": {
    "papermill": {
     "duration": 0.018338,
     "end_time": "2023-12-15T07:23:06.456526",
     "exception": false,
     "start_time": "2023-12-15T07:23:06.438188",
     "status": "completed"
    },
    "tags": []
   },
   "source": [
    "## 데이터 형태 파악\n",
    "- train_df와 test_df의 차이: Survived 컬럼 유무, train_df는 지도학습을 위해 Survived 정보 있고, test_df는 예측을 위해 Survived 컬럼 없음<br/>\n",
    "&rarr; target 변수: Survived\n",
    "- train_df Null coloumns: 나이, 선실, 승선 항구\n",
    "- test_df Null columns: 나이, 여객 요금, 선실"
   ]
  },
  {
   "cell_type": "code",
   "execution_count": 10,
   "id": "7045d4e1",
   "metadata": {
    "execution": {
     "iopub.execute_input": "2023-12-15T07:23:06.495811Z",
     "iopub.status.busy": "2023-12-15T07:23:06.495256Z",
     "iopub.status.idle": "2023-12-15T07:23:06.536618Z",
     "shell.execute_reply": "2023-12-15T07:23:06.535409Z"
    },
    "papermill": {
     "duration": 0.065103,
     "end_time": "2023-12-15T07:23:06.540001",
     "exception": false,
     "start_time": "2023-12-15T07:23:06.474898",
     "status": "completed"
    },
    "tags": []
   },
   "outputs": [
    {
     "data": {
      "text/html": [
       "<div>\n",
       "<style scoped>\n",
       "    .dataframe tbody tr th:only-of-type {\n",
       "        vertical-align: middle;\n",
       "    }\n",
       "\n",
       "    .dataframe tbody tr th {\n",
       "        vertical-align: top;\n",
       "    }\n",
       "\n",
       "    .dataframe thead th {\n",
       "        text-align: right;\n",
       "    }\n",
       "</style>\n",
       "<table border=\"1\" class=\"dataframe\">\n",
       "  <thead>\n",
       "    <tr style=\"text-align: right;\">\n",
       "      <th></th>\n",
       "      <th>PassengerId</th>\n",
       "      <th>Survived</th>\n",
       "      <th>Pclass</th>\n",
       "      <th>Age</th>\n",
       "      <th>SibSp</th>\n",
       "      <th>Parch</th>\n",
       "      <th>Fare</th>\n",
       "    </tr>\n",
       "  </thead>\n",
       "  <tbody>\n",
       "    <tr>\n",
       "      <th>count</th>\n",
       "      <td>891.000000</td>\n",
       "      <td>891.000000</td>\n",
       "      <td>891.000000</td>\n",
       "      <td>714.000000</td>\n",
       "      <td>891.000000</td>\n",
       "      <td>891.000000</td>\n",
       "      <td>891.000000</td>\n",
       "    </tr>\n",
       "    <tr>\n",
       "      <th>mean</th>\n",
       "      <td>446.000000</td>\n",
       "      <td>0.383838</td>\n",
       "      <td>2.308642</td>\n",
       "      <td>29.699118</td>\n",
       "      <td>0.523008</td>\n",
       "      <td>0.381594</td>\n",
       "      <td>32.204208</td>\n",
       "    </tr>\n",
       "    <tr>\n",
       "      <th>std</th>\n",
       "      <td>257.353842</td>\n",
       "      <td>0.486592</td>\n",
       "      <td>0.836071</td>\n",
       "      <td>14.526497</td>\n",
       "      <td>1.102743</td>\n",
       "      <td>0.806057</td>\n",
       "      <td>49.693429</td>\n",
       "    </tr>\n",
       "    <tr>\n",
       "      <th>min</th>\n",
       "      <td>1.000000</td>\n",
       "      <td>0.000000</td>\n",
       "      <td>1.000000</td>\n",
       "      <td>0.420000</td>\n",
       "      <td>0.000000</td>\n",
       "      <td>0.000000</td>\n",
       "      <td>0.000000</td>\n",
       "    </tr>\n",
       "    <tr>\n",
       "      <th>25%</th>\n",
       "      <td>223.500000</td>\n",
       "      <td>0.000000</td>\n",
       "      <td>2.000000</td>\n",
       "      <td>20.125000</td>\n",
       "      <td>0.000000</td>\n",
       "      <td>0.000000</td>\n",
       "      <td>7.910400</td>\n",
       "    </tr>\n",
       "    <tr>\n",
       "      <th>50%</th>\n",
       "      <td>446.000000</td>\n",
       "      <td>0.000000</td>\n",
       "      <td>3.000000</td>\n",
       "      <td>28.000000</td>\n",
       "      <td>0.000000</td>\n",
       "      <td>0.000000</td>\n",
       "      <td>14.454200</td>\n",
       "    </tr>\n",
       "    <tr>\n",
       "      <th>75%</th>\n",
       "      <td>668.500000</td>\n",
       "      <td>1.000000</td>\n",
       "      <td>3.000000</td>\n",
       "      <td>38.000000</td>\n",
       "      <td>1.000000</td>\n",
       "      <td>0.000000</td>\n",
       "      <td>31.000000</td>\n",
       "    </tr>\n",
       "    <tr>\n",
       "      <th>max</th>\n",
       "      <td>891.000000</td>\n",
       "      <td>1.000000</td>\n",
       "      <td>3.000000</td>\n",
       "      <td>80.000000</td>\n",
       "      <td>8.000000</td>\n",
       "      <td>6.000000</td>\n",
       "      <td>512.329200</td>\n",
       "    </tr>\n",
       "  </tbody>\n",
       "</table>\n",
       "</div>"
      ],
      "text/plain": [
       "       PassengerId    Survived      Pclass         Age       SibSp  \\\n",
       "count   891.000000  891.000000  891.000000  714.000000  891.000000   \n",
       "mean    446.000000    0.383838    2.308642   29.699118    0.523008   \n",
       "std     257.353842    0.486592    0.836071   14.526497    1.102743   \n",
       "min       1.000000    0.000000    1.000000    0.420000    0.000000   \n",
       "25%     223.500000    0.000000    2.000000   20.125000    0.000000   \n",
       "50%     446.000000    0.000000    3.000000   28.000000    0.000000   \n",
       "75%     668.500000    1.000000    3.000000   38.000000    1.000000   \n",
       "max     891.000000    1.000000    3.000000   80.000000    8.000000   \n",
       "\n",
       "            Parch        Fare  \n",
       "count  891.000000  891.000000  \n",
       "mean     0.381594   32.204208  \n",
       "std      0.806057   49.693429  \n",
       "min      0.000000    0.000000  \n",
       "25%      0.000000    7.910400  \n",
       "50%      0.000000   14.454200  \n",
       "75%      0.000000   31.000000  \n",
       "max      6.000000  512.329200  "
      ]
     },
     "execution_count": 10,
     "metadata": {},
     "output_type": "execute_result"
    }
   ],
   "source": [
    "train_df.describe() # data type이 수치형인 변수들의 통계치"
   ]
  },
  {
   "cell_type": "code",
   "execution_count": 11,
   "id": "a810502f",
   "metadata": {
    "execution": {
     "iopub.execute_input": "2023-12-15T07:23:06.580608Z",
     "iopub.status.busy": "2023-12-15T07:23:06.579199Z",
     "iopub.status.idle": "2023-12-15T07:23:06.615521Z",
     "shell.execute_reply": "2023-12-15T07:23:06.614133Z"
    },
    "papermill": {
     "duration": 0.059731,
     "end_time": "2023-12-15T07:23:06.618365",
     "exception": false,
     "start_time": "2023-12-15T07:23:06.558634",
     "status": "completed"
    },
    "tags": []
   },
   "outputs": [
    {
     "data": {
      "text/html": [
       "<div>\n",
       "<style scoped>\n",
       "    .dataframe tbody tr th:only-of-type {\n",
       "        vertical-align: middle;\n",
       "    }\n",
       "\n",
       "    .dataframe tbody tr th {\n",
       "        vertical-align: top;\n",
       "    }\n",
       "\n",
       "    .dataframe thead th {\n",
       "        text-align: right;\n",
       "    }\n",
       "</style>\n",
       "<table border=\"1\" class=\"dataframe\">\n",
       "  <thead>\n",
       "    <tr style=\"text-align: right;\">\n",
       "      <th></th>\n",
       "      <th>PassengerId</th>\n",
       "      <th>Pclass</th>\n",
       "      <th>Age</th>\n",
       "      <th>SibSp</th>\n",
       "      <th>Parch</th>\n",
       "      <th>Fare</th>\n",
       "    </tr>\n",
       "  </thead>\n",
       "  <tbody>\n",
       "    <tr>\n",
       "      <th>count</th>\n",
       "      <td>418.000000</td>\n",
       "      <td>418.000000</td>\n",
       "      <td>332.000000</td>\n",
       "      <td>418.000000</td>\n",
       "      <td>418.000000</td>\n",
       "      <td>417.000000</td>\n",
       "    </tr>\n",
       "    <tr>\n",
       "      <th>mean</th>\n",
       "      <td>1100.500000</td>\n",
       "      <td>2.265550</td>\n",
       "      <td>30.272590</td>\n",
       "      <td>0.447368</td>\n",
       "      <td>0.392344</td>\n",
       "      <td>35.627188</td>\n",
       "    </tr>\n",
       "    <tr>\n",
       "      <th>std</th>\n",
       "      <td>120.810458</td>\n",
       "      <td>0.841838</td>\n",
       "      <td>14.181209</td>\n",
       "      <td>0.896760</td>\n",
       "      <td>0.981429</td>\n",
       "      <td>55.907576</td>\n",
       "    </tr>\n",
       "    <tr>\n",
       "      <th>min</th>\n",
       "      <td>892.000000</td>\n",
       "      <td>1.000000</td>\n",
       "      <td>0.170000</td>\n",
       "      <td>0.000000</td>\n",
       "      <td>0.000000</td>\n",
       "      <td>0.000000</td>\n",
       "    </tr>\n",
       "    <tr>\n",
       "      <th>25%</th>\n",
       "      <td>996.250000</td>\n",
       "      <td>1.000000</td>\n",
       "      <td>21.000000</td>\n",
       "      <td>0.000000</td>\n",
       "      <td>0.000000</td>\n",
       "      <td>7.895800</td>\n",
       "    </tr>\n",
       "    <tr>\n",
       "      <th>50%</th>\n",
       "      <td>1100.500000</td>\n",
       "      <td>3.000000</td>\n",
       "      <td>27.000000</td>\n",
       "      <td>0.000000</td>\n",
       "      <td>0.000000</td>\n",
       "      <td>14.454200</td>\n",
       "    </tr>\n",
       "    <tr>\n",
       "      <th>75%</th>\n",
       "      <td>1204.750000</td>\n",
       "      <td>3.000000</td>\n",
       "      <td>39.000000</td>\n",
       "      <td>1.000000</td>\n",
       "      <td>0.000000</td>\n",
       "      <td>31.500000</td>\n",
       "    </tr>\n",
       "    <tr>\n",
       "      <th>max</th>\n",
       "      <td>1309.000000</td>\n",
       "      <td>3.000000</td>\n",
       "      <td>76.000000</td>\n",
       "      <td>8.000000</td>\n",
       "      <td>9.000000</td>\n",
       "      <td>512.329200</td>\n",
       "    </tr>\n",
       "  </tbody>\n",
       "</table>\n",
       "</div>"
      ],
      "text/plain": [
       "       PassengerId      Pclass         Age       SibSp       Parch        Fare\n",
       "count   418.000000  418.000000  332.000000  418.000000  418.000000  417.000000\n",
       "mean   1100.500000    2.265550   30.272590    0.447368    0.392344   35.627188\n",
       "std     120.810458    0.841838   14.181209    0.896760    0.981429   55.907576\n",
       "min     892.000000    1.000000    0.170000    0.000000    0.000000    0.000000\n",
       "25%     996.250000    1.000000   21.000000    0.000000    0.000000    7.895800\n",
       "50%    1100.500000    3.000000   27.000000    0.000000    0.000000   14.454200\n",
       "75%    1204.750000    3.000000   39.000000    1.000000    0.000000   31.500000\n",
       "max    1309.000000    3.000000   76.000000    8.000000    9.000000  512.329200"
      ]
     },
     "execution_count": 11,
     "metadata": {},
     "output_type": "execute_result"
    }
   ],
   "source": [
    "test_df.describe()"
   ]
  },
  {
   "cell_type": "markdown",
   "id": "cb0d23c5",
   "metadata": {
    "papermill": {
     "duration": 0.019333,
     "end_time": "2023-12-15T07:23:06.657667",
     "exception": false,
     "start_time": "2023-12-15T07:23:06.638334",
     "status": "completed"
    },
    "tags": []
   },
   "source": [
    "## Categorical 변수들 생존-사망 시각화\n",
    "- Survived: target, 종속 변수, 0 or 1 categorical\n",
    "- Pclass: 독립변수, 1 or 2 or 3 categorical\n",
    "- Sex: 독립변수, male or female categorical\n",
    "- Embarked: 독립변수, C or Q or S categorical\n",
    "<br/><br/>\n",
    "1. Survived 개수 -> 불균형 데이터 확인  \n",
    "2. 독립변수에 따른 Survived 개수 -> 데이터 분포 확인"
   ]
  },
  {
   "cell_type": "code",
   "execution_count": 12,
   "id": "6080df45",
   "metadata": {
    "execution": {
     "iopub.execute_input": "2023-12-15T07:23:06.697643Z",
     "iopub.status.busy": "2023-12-15T07:23:06.696887Z",
     "iopub.status.idle": "2023-12-15T07:23:07.162556Z",
     "shell.execute_reply": "2023-12-15T07:23:07.161318Z"
    },
    "papermill": {
     "duration": 0.490847,
     "end_time": "2023-12-15T07:23:07.167196",
     "exception": false,
     "start_time": "2023-12-15T07:23:06.676349",
     "status": "completed"
    },
    "tags": []
   },
   "outputs": [
    {
     "data": {
      "image/png": "[encoded data removed]",
      "text/plain": [
       "<Figure size 1000x500 with 2 Axes>"
      ]
     },
     "metadata": {},
     "output_type": "display_data"
    },
    {
     "name": "stdout",
     "output_type": "stream",
     "text": [
      "Survived\n",
      "0    549\n",
      "1    342\n",
      "Name: count, dtype: int64\n"
     ]
    }
   ],
   "source": [
    "plt.figure(figsize=(10,5))\n",
    "colors = sns.color_palette('pastel')\n",
    "\n",
    "plt.subplot(1,2,1)\n",
    "sns.set_style('whitegrid')\n",
    "sns.countplot(train_df,x='Survived', hue = 'Survived', palette = colors)\n",
    "\n",
    "plt.subplot(1,2,2)\n",
    "plt.pie(train_df['Survived'].value_counts().values, labels = [0, 1], colors = colors, autopct = '%.2f' )\n",
    "plt.legend(title='Survived')\n",
    "\n",
    "plt.show()\n",
    "\n",
    "print(train_df['Survived'].value_counts())"
   ]
  },
  {
   "cell_type": "code",
   "execution_count": 13,
   "id": "23e0a3f4",
   "metadata": {
    "execution": {
     "iopub.execute_input": "2023-12-15T07:23:07.209372Z",
     "iopub.status.busy": "2023-12-15T07:23:07.208896Z",
     "iopub.status.idle": "2023-12-15T07:23:07.928983Z",
     "shell.execute_reply": "2023-12-15T07:23:07.927537Z"
    },
    "papermill": {
     "duration": 0.744686,
     "end_time": "2023-12-15T07:23:07.931920",
     "exception": false,
     "start_time": "2023-12-15T07:23:07.187234",
     "status": "completed"
    },
    "tags": []
   },
   "outputs": [
    {
     "data": {
      "text/html": [
       "<div>\n",
       "<style scoped>\n",
       "    .dataframe tbody tr th:only-of-type {\n",
       "        vertical-align: middle;\n",
       "    }\n",
       "\n",
       "    .dataframe tbody tr th {\n",
       "        vertical-align: top;\n",
       "    }\n",
       "\n",
       "    .dataframe thead th {\n",
       "        text-align: right;\n",
       "    }\n",
       "</style>\n",
       "<table border=\"1\" class=\"dataframe\">\n",
       "  <thead>\n",
       "    <tr style=\"text-align: right;\">\n",
       "      <th>Survived</th>\n",
       "      <th>0</th>\n",
       "      <th>1</th>\n",
       "    </tr>\n",
       "    <tr>\n",
       "      <th>Pclass</th>\n",
       "      <th></th>\n",
       "      <th></th>\n",
       "    </tr>\n",
       "  </thead>\n",
       "  <tbody>\n",
       "    <tr>\n",
       "      <th>1</th>\n",
       "      <td>80</td>\n",
       "      <td>136</td>\n",
       "    </tr>\n",
       "    <tr>\n",
       "      <th>2</th>\n",
       "      <td>97</td>\n",
       "      <td>87</td>\n",
       "    </tr>\n",
       "    <tr>\n",
       "      <th>3</th>\n",
       "      <td>372</td>\n",
       "      <td>119</td>\n",
       "    </tr>\n",
       "  </tbody>\n",
       "</table>\n",
       "</div>"
      ],
      "text/plain": [
       "Survived    0    1\n",
       "Pclass            \n",
       "1          80  136\n",
       "2          97   87\n",
       "3         372  119"
      ]
     },
     "execution_count": 13,
     "metadata": {},
     "output_type": "execute_result"
    },
    {
     "data": {
      "text/plain": [
       "<Figure size 800x400 with 0 Axes>"
      ]
     },
     "metadata": {},
     "output_type": "display_data"
    },
    {
     "data": {
      "image/png": "[encoded data removed]",
      "text/plain": [
       "<Figure size 572.111x500 with 1 Axes>"
      ]
     },
     "metadata": {},
     "output_type": "display_data"
    }
   ],
   "source": [
    "plt.figure(figsize=(8,4))\n",
    "\n",
    "sns.set_style('whitegrid')\n",
    "sns.catplot(train_df, x='Pclass', hue = 'Survived', palette = 'pastel', kind = 'count')\n",
    "train_df.groupby(['Pclass','Survived']).size().unstack()"
   ]
  },
  {
   "cell_type": "code",
   "execution_count": 14,
   "id": "794f6fa6",
   "metadata": {
    "execution": {
     "iopub.execute_input": "2023-12-15T07:23:07.976825Z",
     "iopub.status.busy": "2023-12-15T07:23:07.976324Z",
     "iopub.status.idle": "2023-12-15T07:23:08.619584Z",
     "shell.execute_reply": "2023-12-15T07:23:08.618185Z"
    },
    "papermill": {
     "duration": 0.669551,
     "end_time": "2023-12-15T07:23:08.622775",
     "exception": false,
     "start_time": "2023-12-15T07:23:07.953224",
     "status": "completed"
    },
    "tags": []
   },
   "outputs": [
    {
     "data": {
      "text/html": [
       "<div>\n",
       "<style scoped>\n",
       "    .dataframe tbody tr th:only-of-type {\n",
       "        vertical-align: middle;\n",
       "    }\n",
       "\n",
       "    .dataframe tbody tr th {\n",
       "        vertical-align: top;\n",
       "    }\n",
       "\n",
       "    .dataframe thead th {\n",
       "        text-align: right;\n",
       "    }\n",
       "</style>\n",
       "<table border=\"1\" class=\"dataframe\">\n",
       "  <thead>\n",
       "    <tr style=\"text-align: right;\">\n",
       "      <th>Survived</th>\n",
       "      <th>0</th>\n",
       "      <th>1</th>\n",
       "    </tr>\n",
       "    <tr>\n",
       "      <th>Sex</th>\n",
       "      <th></th>\n",
       "      <th></th>\n",
       "    </tr>\n",
       "  </thead>\n",
       "  <tbody>\n",
       "    <tr>\n",
       "      <th>female</th>\n",
       "      <td>81</td>\n",
       "      <td>233</td>\n",
       "    </tr>\n",
       "    <tr>\n",
       "      <th>male</th>\n",
       "      <td>468</td>\n",
       "      <td>109</td>\n",
       "    </tr>\n",
       "  </tbody>\n",
       "</table>\n",
       "</div>"
      ],
      "text/plain": [
       "Survived    0    1\n",
       "Sex               \n",
       "female     81  233\n",
       "male      468  109"
      ]
     },
     "execution_count": 14,
     "metadata": {},
     "output_type": "execute_result"
    },
    {
     "data": {
      "text/plain": [
       "<Figure size 800x400 with 0 Axes>"
      ]
     },
     "metadata": {},
     "output_type": "display_data"
    },
    {
     "data": {
      "image/png": "[encoded data removed]",
      "text/plain": [
       "<Figure size 572.111x500 with 1 Axes>"
      ]
     },
     "metadata": {},
     "output_type": "display_data"
    }
   ],
   "source": [
    "plt.figure(figsize=(8,4))\n",
    "\n",
    "sns.set_style('whitegrid')\n",
    "sns.catplot(train_df, x='Sex', hue = 'Survived', palette = 'pastel', kind = 'count')\n",
    "train_df.groupby(['Sex','Survived']).size().unstack()"
   ]
  },
  {
   "cell_type": "code",
   "execution_count": 15,
   "id": "ff10eb17",
   "metadata": {
    "execution": {
     "iopub.execute_input": "2023-12-15T07:23:08.667545Z",
     "iopub.status.busy": "2023-12-15T07:23:08.666994Z",
     "iopub.status.idle": "2023-12-15T07:23:09.392058Z",
     "shell.execute_reply": "2023-12-15T07:23:09.390669Z"
    },
    "papermill": {
     "duration": 0.75105,
     "end_time": "2023-12-15T07:23:09.395100",
     "exception": false,
     "start_time": "2023-12-15T07:23:08.644050",
     "status": "completed"
    },
    "tags": []
   },
   "outputs": [
    {
     "data": {
      "text/html": [
       "<div>\n",
       "<style scoped>\n",
       "    .dataframe tbody tr th:only-of-type {\n",
       "        vertical-align: middle;\n",
       "    }\n",
       "\n",
       "    .dataframe tbody tr th {\n",
       "        vertical-align: top;\n",
       "    }\n",
       "\n",
       "    .dataframe thead th {\n",
       "        text-align: right;\n",
       "    }\n",
       "</style>\n",
       "<table border=\"1\" class=\"dataframe\">\n",
       "  <thead>\n",
       "    <tr style=\"text-align: right;\">\n",
       "      <th>Survived</th>\n",
       "      <th>0</th>\n",
       "      <th>1</th>\n",
       "    </tr>\n",
       "    <tr>\n",
       "      <th>Embarked</th>\n",
       "      <th></th>\n",
       "      <th></th>\n",
       "    </tr>\n",
       "  </thead>\n",
       "  <tbody>\n",
       "    <tr>\n",
       "      <th>C</th>\n",
       "      <td>75</td>\n",
       "      <td>93</td>\n",
       "    </tr>\n",
       "    <tr>\n",
       "      <th>Q</th>\n",
       "      <td>47</td>\n",
       "      <td>30</td>\n",
       "    </tr>\n",
       "    <tr>\n",
       "      <th>S</th>\n",
       "      <td>427</td>\n",
       "      <td>217</td>\n",
       "    </tr>\n",
       "  </tbody>\n",
       "</table>\n",
       "</div>"
      ],
      "text/plain": [
       "Survived    0    1\n",
       "Embarked          \n",
       "C          75   93\n",
       "Q          47   30\n",
       "S         427  217"
      ]
     },
     "execution_count": 15,
     "metadata": {},
     "output_type": "execute_result"
    },
    {
     "data": {
      "text/plain": [
       "<Figure size 800x400 with 0 Axes>"
      ]
     },
     "metadata": {},
     "output_type": "display_data"
    },
    {
     "data": {
      "image/png": "[encoded data removed]",
      "text/plain": [
       "<Figure size 572.111x500 with 1 Axes>"
      ]
     },
     "metadata": {},
     "output_type": "display_data"
    }
   ],
   "source": [
    "plt.figure(figsize=(8,4))\n",
    "\n",
    "sns.set_style('whitegrid')\n",
    "sns.catplot(train_df, x='Embarked', hue = 'Survived', palette = 'pastel', kind = 'count')\n",
    "train_df.groupby(['Embarked','Survived']).size().unstack()"
   ]
  },
  {
   "cell_type": "markdown",
   "id": "c182b709",
   "metadata": {
    "papermill": {
     "duration": 0.021864,
     "end_time": "2023-12-15T07:23:09.439265",
     "exception": false,
     "start_time": "2023-12-15T07:23:09.417401",
     "status": "completed"
    },
    "tags": []
   },
   "source": [
    "- Survived: 생존 < 사망, 둘의 데이터 크기 차이는 있으나 크지 않으므로 데이터 불균형 해소 과정(과적합 해결)은 이후 score 개선 단계에서 생각\n",
    "- Pclass: 생존자의 탑승권이 1,2,3 등급인 크기는 비슷하나 3등급 탑승권의 사망자가 눈에 띄게 많으므로 해석할 필요가 있어보임, 변수 채택\n",
    "- Sex: 성별에 따라 생존-사망의 패턴이 반대로 나타나므로 해석할 필요가 있어보임, 변수 채택\n",
    "- Embarked: 셰르부르에서 승선한 탑승객의 생존-사망 패턴만 다름(근소하나 생존자 인원이 우위), 해석할 필요가 있어보임, 변수 채택"
   ]
  },
  {
   "cell_type": "markdown",
   "id": "a08a66e3",
   "metadata": {
    "papermill": {
     "duration": 0.021383,
     "end_time": "2023-12-15T07:23:09.483387",
     "exception": false,
     "start_time": "2023-12-15T07:23:09.462004",
     "status": "completed"
    },
    "tags": []
   },
   "source": [
    "## 수치형 변수들 생존-사망 시각화"
   ]
  },
  {
   "cell_type": "code",
   "execution_count": 16,
   "id": "9b4aa0d0",
   "metadata": {
    "execution": {
     "iopub.execute_input": "2023-12-15T07:23:09.528862Z",
     "iopub.status.busy": "2023-12-15T07:23:09.528369Z",
     "iopub.status.idle": "2023-12-15T07:23:09.548882Z",
     "shell.execute_reply": "2023-12-15T07:23:09.547608Z"
    },
    "papermill": {
     "duration": 0.046761,
     "end_time": "2023-12-15T07:23:09.551881",
     "exception": false,
     "start_time": "2023-12-15T07:23:09.505120",
     "status": "completed"
    },
    "tags": []
   },
   "outputs": [
    {
     "data": {
      "text/html": [
       "<div>\n",
       "<style scoped>\n",
       "    .dataframe tbody tr th:only-of-type {\n",
       "        vertical-align: middle;\n",
       "    }\n",
       "\n",
       "    .dataframe tbody tr th {\n",
       "        vertical-align: top;\n",
       "    }\n",
       "\n",
       "    .dataframe thead th {\n",
       "        text-align: right;\n",
       "    }\n",
       "</style>\n",
       "<table border=\"1\" class=\"dataframe\">\n",
       "  <thead>\n",
       "    <tr style=\"text-align: right;\">\n",
       "      <th></th>\n",
       "      <th>PassengerId</th>\n",
       "      <th>Age</th>\n",
       "      <th>SibSp</th>\n",
       "      <th>Parch</th>\n",
       "      <th>Fare</th>\n",
       "    </tr>\n",
       "  </thead>\n",
       "  <tbody>\n",
       "    <tr>\n",
       "      <th>0</th>\n",
       "      <td>1</td>\n",
       "      <td>22.0</td>\n",
       "      <td>1</td>\n",
       "      <td>0</td>\n",
       "      <td>7.2500</td>\n",
       "    </tr>\n",
       "    <tr>\n",
       "      <th>1</th>\n",
       "      <td>2</td>\n",
       "      <td>38.0</td>\n",
       "      <td>1</td>\n",
       "      <td>0</td>\n",
       "      <td>71.2833</td>\n",
       "    </tr>\n",
       "    <tr>\n",
       "      <th>2</th>\n",
       "      <td>3</td>\n",
       "      <td>26.0</td>\n",
       "      <td>0</td>\n",
       "      <td>0</td>\n",
       "      <td>7.9250</td>\n",
       "    </tr>\n",
       "    <tr>\n",
       "      <th>3</th>\n",
       "      <td>4</td>\n",
       "      <td>35.0</td>\n",
       "      <td>1</td>\n",
       "      <td>0</td>\n",
       "      <td>53.1000</td>\n",
       "    </tr>\n",
       "    <tr>\n",
       "      <th>4</th>\n",
       "      <td>5</td>\n",
       "      <td>35.0</td>\n",
       "      <td>0</td>\n",
       "      <td>0</td>\n",
       "      <td>8.0500</td>\n",
       "    </tr>\n",
       "  </tbody>\n",
       "</table>\n",
       "</div>"
      ],
      "text/plain": [
       "   PassengerId   Age  SibSp  Parch     Fare\n",
       "0            1  22.0      1      0   7.2500\n",
       "1            2  38.0      1      0  71.2833\n",
       "2            3  26.0      0      0   7.9250\n",
       "3            4  35.0      1      0  53.1000\n",
       "4            5  35.0      0      0   8.0500"
      ]
     },
     "execution_count": 16,
     "metadata": {},
     "output_type": "execute_result"
    }
   ],
   "source": [
    "n_train_df = train_df.select_dtypes(include=np.number).iloc[:,[0,3,4,5,6]]\n",
    "n_train_df.head()"
   ]
  },
  {
   "cell_type": "markdown",
   "id": "531e33f2",
   "metadata": {
    "papermill": {
     "duration": 0.021544,
     "end_time": "2023-12-15T07:23:09.596309",
     "exception": false,
     "start_time": "2023-12-15T07:23:09.574765",
     "status": "completed"
    },
    "tags": []
   },
   "source": [
    "- 이산형: PassengerId, Age,SibSp,Parch\n",
    "- 연속형: Fare  \n",
    "- PassengerId &rarr; 이후의 정보라 생존-사망과는 관련 없어보임 &rarr; 변수 제외  \n",
    "\\*참고, 모두 독립변수 \n",
    "1. Survived가 사망(0)인 경우와 생존(1)인 경우의 각각의 변수 형태 확인\n",
    "2. 이상치 데이터 확인\n",
    "3. 이산형 변수 시각화는 히스토그램, boxplot 등으로...\n",
    "4. 연속형 변수 시각화는 히스토그램(도수표작성), 분포 등으로..."
   ]
  },
  {
   "cell_type": "code",
   "execution_count": 17,
   "id": "59b1034f",
   "metadata": {
    "execution": {
     "iopub.execute_input": "2023-12-15T07:23:09.644365Z",
     "iopub.status.busy": "2023-12-15T07:23:09.643896Z",
     "iopub.status.idle": "2023-12-15T07:23:10.570358Z",
     "shell.execute_reply": "2023-12-15T07:23:10.568759Z"
    },
    "papermill": {
     "duration": 0.955343,
     "end_time": "2023-12-15T07:23:10.574067",
     "exception": false,
     "start_time": "2023-12-15T07:23:09.618724",
     "status": "completed"
    },
    "tags": []
   },
   "outputs": [
    {
     "data": {
      "text/plain": [
       "<Axes: ylabel='Parch'>"
      ]
     },
     "execution_count": 17,
     "metadata": {},
     "output_type": "execute_result"
    },
    {
     "data": {
      "image/png": "[encoded data removed]",
      "text/plain": [
       "<Figure size 640x480 with 2 Axes>"
      ]
     },
     "metadata": {},
     "output_type": "display_data"
    },
    {
     "data": {
      "image/png": "[encoded data removed]",
      "text/plain": [
       "<Figure size 640x480 with 2 Axes>"
      ]
     },
     "metadata": {},
     "output_type": "display_data"
    }
   ],
   "source": [
    "fig1, axes1 = plt.subplots(1,2)\n",
    "\n",
    "sns.boxplot(y=n_train_df['Age'],color=colors[0],ax=axes1[0])\n",
    "sns.boxplot(y=n_train_df['Fare'],color=colors[1],ax=axes1[1])\n",
    "\n",
    "fig2, axes2 = plt.subplots(1,2)\n",
    "\n",
    "sns.boxplot(y = n_train_df['SibSp'],color=colors[2],ax=axes2[0])\n",
    "sns.boxplot(y = n_train_df['Parch'],color=colors[3],ax=axes2[1])\n"
   ]
  },
  {
   "cell_type": "markdown",
   "id": "87c496c9",
   "metadata": {
    "papermill": {
     "duration": 0.02379,
     "end_time": "2023-12-15T07:23:10.624149",
     "exception": false,
     "start_time": "2023-12-15T07:23:10.600359",
     "status": "completed"
    },
    "tags": []
   },
   "source": [
    "- 네 독립변수 모두 이상치 존재  \n",
    "- SibSp와 Parch는 동승자에 대한 정보라는 점에서 공통점 존재, 동승자라는 새로운 변수 생성\n",
    "- Fare는 Pclass과 함께 비용이라는 공통점이 존재(Pclass의 등급이 높을 수록 비용이 높을 것이라는 생각),   \n",
    "  Fare를 Pclass와 마찬가지로 3개의 category로 범주화하여 이상치 해결\n",
    "- Age는 이산형 데이터지만, 1살 미만의 아이와 정확한 나이를 모르는 사람은 소수점 이하 자리가 있는 실수형,  \n",
    "  고령자의 인원이 별로 없어 이상치가 되는 점을 고려해 연령대 범주화로 해결"
   ]
  },
  {
   "cell_type": "markdown",
   "id": "576063bd",
   "metadata": {
    "papermill": {
     "duration": 0.024049,
     "end_time": "2023-12-15T07:23:10.672002",
     "exception": false,
     "start_time": "2023-12-15T07:23:10.647953",
     "status": "completed"
    },
    "tags": []
   },
   "source": [
    "## Object(문자형) 변수들\n",
    "- 데이터 타입이 object였던 변수 중, categorical이 아니어서 시각화하지 못한 변수들  \n",
    "    : Name, Ticket, Cabin"
   ]
  },
  {
   "cell_type": "code",
   "execution_count": 18,
   "id": "6c701595",
   "metadata": {
    "execution": {
     "iopub.execute_input": "2023-12-15T07:23:10.723244Z",
     "iopub.status.busy": "2023-12-15T07:23:10.721362Z",
     "iopub.status.idle": "2023-12-15T07:23:10.734394Z",
     "shell.execute_reply": "2023-12-15T07:23:10.733128Z"
    },
    "papermill": {
     "duration": 0.0423,
     "end_time": "2023-12-15T07:23:10.738082",
     "exception": false,
     "start_time": "2023-12-15T07:23:10.695782",
     "status": "completed"
    },
    "tags": []
   },
   "outputs": [
    {
     "data": {
      "text/plain": [
       "(0                               Braund, Mr. Owen Harris\n",
       " 1     Cumings, Mrs. John Bradley (Florence Briggs Th...\n",
       " 2                                Heikkinen, Miss. Laina\n",
       " 3          Futrelle, Mrs. Jacques Heath (Lily May Peel)\n",
       " 4                              Allen, Mr. William Henry\n",
       " 5                                      Moran, Mr. James\n",
       " 6                               McCarthy, Mr. Timothy J\n",
       " 7                        Palsson, Master. Gosta Leonard\n",
       " 8     Johnson, Mrs. Oscar W (Elisabeth Vilhelmina Berg)\n",
       " 9                   Nasser, Mrs. Nicholas (Adele Achem)\n",
       " 10                      Sandstrom, Miss. Marguerite Rut\n",
       " Name: Name, dtype: object,\n",
       " 0)"
      ]
     },
     "execution_count": 18,
     "metadata": {},
     "output_type": "execute_result"
    }
   ],
   "source": [
    "train_df['Name'].iloc[:11], train_df['Name'].isnull().sum()"
   ]
  },
  {
   "cell_type": "code",
   "execution_count": 19,
   "id": "bee6ded6",
   "metadata": {
    "execution": {
     "iopub.execute_input": "2023-12-15T07:23:10.792346Z",
     "iopub.status.busy": "2023-12-15T07:23:10.791851Z",
     "iopub.status.idle": "2023-12-15T07:23:10.802783Z",
     "shell.execute_reply": "2023-12-15T07:23:10.801444Z"
    },
    "papermill": {
     "duration": 0.038908,
     "end_time": "2023-12-15T07:23:10.805357",
     "exception": false,
     "start_time": "2023-12-15T07:23:10.766449",
     "status": "completed"
    },
    "tags": []
   },
   "outputs": [
    {
     "data": {
      "text/plain": [
       "(50       3101295\n",
       " 51    A/4. 39886\n",
       " 52      PC 17572\n",
       " 53          2926\n",
       " 54        113509\n",
       " 55         19947\n",
       " 56    C.A. 31026\n",
       " 57          2697\n",
       " 58    C.A. 34651\n",
       " 59       CA 2144\n",
       " Name: Ticket, dtype: object,\n",
       " 0)"
      ]
     },
     "execution_count": 19,
     "metadata": {},
     "output_type": "execute_result"
    }
   ],
   "source": [
    "train_df['Ticket'].iloc[50:60], train_df['Ticket'].isnull().sum()"
   ]
  },
  {
   "cell_type": "code",
   "execution_count": 20,
   "id": "4ddcb0fd",
   "metadata": {
    "execution": {
     "iopub.execute_input": "2023-12-15T07:23:10.857654Z",
     "iopub.status.busy": "2023-12-15T07:23:10.854169Z",
     "iopub.status.idle": "2023-12-15T07:23:10.869164Z",
     "shell.execute_reply": "2023-12-15T07:23:10.867929Z"
    },
    "papermill": {
     "duration": 0.042966,
     "end_time": "2023-12-15T07:23:10.871731",
     "exception": false,
     "start_time": "2023-12-15T07:23:10.828765",
     "status": "completed"
    },
    "tags": []
   },
   "outputs": [
    {
     "data": {
      "text/plain": [
       "(1              C85\n",
       " 3             C123\n",
       " 6              E46\n",
       " 10              G6\n",
       " 11            C103\n",
       "           ...     \n",
       " 871            D35\n",
       " 872    B51 B53 B55\n",
       " 879            C50\n",
       " 887            B42\n",
       " 889           C148\n",
       " Name: Cabin, Length: 204, dtype: object,\n",
       " 687)"
      ]
     },
     "execution_count": 20,
     "metadata": {},
     "output_type": "execute_result"
    }
   ],
   "source": [
    "train_df[train_df['Cabin'].notnull()]['Cabin'], train_df['Cabin'].isnull().sum()"
   ]
  },
  {
   "cell_type": "markdown",
   "id": "58d2a2a8",
   "metadata": {
    "papermill": {
     "duration": 0.024199,
     "end_time": "2023-12-15T07:23:10.919818",
     "exception": false,
     "start_time": "2023-12-15T07:23:10.895619",
     "status": "completed"
    },
    "tags": []
   },
   "source": [
    "- Name: 대부분 '이름, 혼인여부. 성'의 형식, 혼인여부로 성별 판단 가능, 성으로 가족관계 유추 가능, 괄호 안의 정보는 무엇인지 불명확  \n",
    "    &rarr; 성별에 대한 데이터(Sex)와 가족 관계(동승자)(SibSp,Parch)에 대한 데이터가 모두 존재하므로 이번 분석에서는 Name 변수 제외\n",
    "- Ticket: 형식이 일관되지 않음(알파벳+숫자와 숫자 형식이 혼재), 탑승권은 탑승 등급(Pclass)와 여객 요금(Fare)의 정보를 담고 있을 것이라 생각, 이번 분석에서는 변수 제외\n",
    "- Cabin: 형식은 '알파벳+숫자'로 일관되나 값이 1개가 아닌 데이터(index 872)가 존재, 또한 결측치가 과반수로 결측치 처리가 어려워 보임, 변수 제외"
   ]
  },
  {
   "cell_type": "markdown",
   "id": "62d1e4c6",
   "metadata": {
    "papermill": {
     "duration": 0.024989,
     "end_time": "2023-12-15T07:23:10.972452",
     "exception": false,
     "start_time": "2023-12-15T07:23:10.947463",
     "status": "completed"
    },
    "tags": []
   },
   "source": [
    "# 전처리(Preprocessing)"
   ]
  },
  {
   "cell_type": "markdown",
   "id": "3157d8a8",
   "metadata": {
    "papermill": {
     "duration": 0.024345,
     "end_time": "2023-12-15T07:23:11.022279",
     "exception": false,
     "start_time": "2023-12-15T07:23:10.997934",
     "status": "completed"
    },
    "tags": []
   },
   "source": [
    "## 필요한 전처리 내용\n",
    "- 결측치 처리\n",
    "    - Age, Embarked, Fare(test에만 있음->모델 제출 시에는 결측치 제거 함수 필요할 듯)\n",
    "<br/><br/>\n",
    "- 라벨링\n",
    "    - Sex, Embarked\n",
    "<br/><br/>\n",
    "- 이상치 처리\n",
    "    - Age, Fare, SibSp, Parch"
   ]
  },
  {
   "cell_type": "markdown",
   "id": "903c6c50",
   "metadata": {
    "papermill": {
     "duration": 0.023581,
     "end_time": "2023-12-15T07:23:11.070600",
     "exception": false,
     "start_time": "2023-12-15T07:23:11.047019",
     "status": "completed"
    },
    "tags": []
   },
   "source": [
    "#### 범주형 변수 Embarked의 결측치 처리: 최빈값"
   ]
  },
  {
   "cell_type": "code",
   "execution_count": 21,
   "id": "ea149bc8",
   "metadata": {
    "execution": {
     "iopub.execute_input": "2023-12-15T07:23:11.122438Z",
     "iopub.status.busy": "2023-12-15T07:23:11.121425Z",
     "iopub.status.idle": "2023-12-15T07:23:11.133605Z",
     "shell.execute_reply": "2023-12-15T07:23:11.132377Z"
    },
    "papermill": {
     "duration": 0.041991,
     "end_time": "2023-12-15T07:23:11.136922",
     "exception": false,
     "start_time": "2023-12-15T07:23:11.094931",
     "status": "completed"
    },
    "tags": []
   },
   "outputs": [
    {
     "data": {
      "text/plain": [
       "(Embarked\n",
       " S    644\n",
       " C    168\n",
       " Q     77\n",
       " Name: count, dtype: int64,\n",
       " 2)"
      ]
     },
     "execution_count": 21,
     "metadata": {},
     "output_type": "execute_result"
    }
   ],
   "source": [
    "train_df['Embarked'].value_counts(), train_df['Embarked'].isnull().sum()"
   ]
  },
  {
   "cell_type": "code",
   "execution_count": 22,
   "id": "2445fe7e",
   "metadata": {
    "execution": {
     "iopub.execute_input": "2023-12-15T07:23:11.194837Z",
     "iopub.status.busy": "2023-12-15T07:23:11.194073Z",
     "iopub.status.idle": "2023-12-15T07:23:11.440163Z",
     "shell.execute_reply": "2023-12-15T07:23:11.438775Z"
    },
    "papermill": {
     "duration": 0.279618,
     "end_time": "2023-12-15T07:23:11.443379",
     "exception": false,
     "start_time": "2023-12-15T07:23:11.163761",
     "status": "completed"
    },
    "tags": []
   },
   "outputs": [
    {
     "data": {
      "text/plain": [
       "<Axes: xlabel='Embarked', ylabel='count'>"
      ]
     },
     "execution_count": 22,
     "metadata": {},
     "output_type": "execute_result"
    },
    {
     "data": {
      "image/png": "[encoded data removed]",
      "text/plain": [
       "<Figure size 600x300 with 1 Axes>"
      ]
     },
     "metadata": {},
     "output_type": "display_data"
    }
   ],
   "source": [
    "fig = plt.figure(figsize=(6,3))\n",
    "sns.countplot(x = train_df['Embarked'],palette=colors)"
   ]
  },
  {
   "cell_type": "code",
   "execution_count": 23,
   "id": "b74a2618",
   "metadata": {
    "execution": {
     "iopub.execute_input": "2023-12-15T07:23:11.496486Z",
     "iopub.status.busy": "2023-12-15T07:23:11.496018Z",
     "iopub.status.idle": "2023-12-15T07:23:11.506588Z",
     "shell.execute_reply": "2023-12-15T07:23:11.505451Z"
    },
    "papermill": {
     "duration": 0.039019,
     "end_time": "2023-12-15T07:23:11.509127",
     "exception": false,
     "start_time": "2023-12-15T07:23:11.470108",
     "status": "completed"
    },
    "tags": []
   },
   "outputs": [
    {
     "data": {
      "text/plain": [
       "0"
      ]
     },
     "execution_count": 23,
     "metadata": {},
     "output_type": "execute_result"
    }
   ],
   "source": [
    "# 결측치를 갖는 데이터 2개는 최빈값인 S에 할당\n",
    "train_df['Embarked'] = train_df['Embarked'].fillna('S')\n",
    "train_df['Embarked'].isnull().sum()"
   ]
  },
  {
   "cell_type": "markdown",
   "id": "ef94e154",
   "metadata": {
    "papermill": {
     "duration": 0.023938,
     "end_time": "2023-12-15T07:23:11.557464",
     "exception": false,
     "start_time": "2023-12-15T07:23:11.533526",
     "status": "completed"
    },
    "tags": []
   },
   "source": [
    "#### 라벨링"
   ]
  },
  {
   "cell_type": "code",
   "execution_count": 24,
   "id": "f35140d0",
   "metadata": {
    "execution": {
     "iopub.execute_input": "2023-12-15T07:23:11.609826Z",
     "iopub.status.busy": "2023-12-15T07:23:11.609209Z",
     "iopub.status.idle": "2023-12-15T07:23:11.617886Z",
     "shell.execute_reply": "2023-12-15T07:23:11.616499Z"
    },
    "papermill": {
     "duration": 0.03895,
     "end_time": "2023-12-15T07:23:11.620973",
     "exception": false,
     "start_time": "2023-12-15T07:23:11.582023",
     "status": "completed"
    },
    "tags": []
   },
   "outputs": [],
   "source": [
    "# {'male':0, 'female':1}\n",
    "train_df['Sex'] = train_df['Sex'].apply(lambda x: 0 if x == 'male' else 1)"
   ]
  },
  {
   "cell_type": "code",
   "execution_count": 25,
   "id": "74bbf3c5",
   "metadata": {
    "execution": {
     "iopub.execute_input": "2023-12-15T07:23:11.673992Z",
     "iopub.status.busy": "2023-12-15T07:23:11.673456Z",
     "iopub.status.idle": "2023-12-15T07:23:11.680854Z",
     "shell.execute_reply": "2023-12-15T07:23:11.679782Z"
    },
    "papermill": {
     "duration": 0.037531,
     "end_time": "2023-12-15T07:23:11.683177",
     "exception": false,
     "start_time": "2023-12-15T07:23:11.645646",
     "status": "completed"
    },
    "tags": []
   },
   "outputs": [],
   "source": [
    "# {'C':0, 'S':1, 'Q':2}\n",
    "train_df['Embarked'] = train_df['Embarked'].apply(lambda x: 0 if x == 'C' else (1 if x == 'S' else 2))"
   ]
  },
  {
   "cell_type": "markdown",
   "id": "ef6d42e9",
   "metadata": {
    "papermill": {
     "duration": 0.024283,
     "end_time": "2023-12-15T07:23:11.732301",
     "exception": false,
     "start_time": "2023-12-15T07:23:11.708018",
     "status": "completed"
    },
    "tags": []
   },
   "source": [
    "#### 수치형 변수 Age의 결측치 처리\n",
    "- 결측치의 분류\n",
    "    - MCAR, MAR, MNAR\n",
    "    - Age 변수와 다른 변수들의 상관관계 확인\n"
   ]
  },
  {
   "cell_type": "code",
   "execution_count": 26,
   "id": "9e5af921",
   "metadata": {
    "execution": {
     "iopub.execute_input": "2023-12-15T07:23:11.784507Z",
     "iopub.status.busy": "2023-12-15T07:23:11.784027Z",
     "iopub.status.idle": "2023-12-15T07:23:13.367084Z",
     "shell.execute_reply": "2023-12-15T07:23:13.365825Z"
    },
    "papermill": {
     "duration": 1.613563,
     "end_time": "2023-12-15T07:23:13.371462",
     "exception": false,
     "start_time": "2023-12-15T07:23:11.757899",
     "status": "completed"
    },
    "tags": []
   },
   "outputs": [
    {
     "data": {
      "text/plain": [
       "<Axes: >"
      ]
     },
     "execution_count": 26,
     "metadata": {},
     "output_type": "execute_result"
    },
    {
     "data": {
      "image/png": "[encoded data removed]",
      "text/plain": [
       "<Figure size 1500x600 with 3 Axes>"
      ]
     },
     "metadata": {},
     "output_type": "display_data"
    }
   ],
   "source": [
    "fig, axes = plt.subplots(1,2)\n",
    "fig.set_size_inches(15,6)\n",
    "sns.heatmap(train_df.isnull(), cbar=False, cmap='YlGnBu_r',ax=axes[0])\n",
    "sns.heatmap(train_df.drop(['Survived','Cabin','Name','Ticket'],axis = 1).corr(), annot=True, cmap='YlGnBu', ax= axes[1])"
   ]
  },
  {
   "cell_type": "markdown",
   "id": "8bc2bb06",
   "metadata": {
    "papermill": {
     "duration": 0.027054,
     "end_time": "2023-12-15T07:23:13.425831",
     "exception": false,
     "start_time": "2023-12-15T07:23:13.398777",
     "status": "completed"
    },
    "tags": []
   },
   "source": [
    "- 왼쪽 히트맵: 결측치들의 분포 위치 시각화\n",
    "- 오른쪽 히트맵: 변수들 간의 상관관계 시각화\n",
    "<br/><br/>\n",
    "- Age 변수의 결측값의 분포를 보면 특정한 패턴 없이 무작위로 발생했음을 알 수 있음 -> MCAR, MAR\n",
    "- Age 변수와 다른 변수들 간의 상관관계를 보면 대부분 0에 가까움.\n",
    "- Pclass와 SibSp는 다른 변수들에 비해 상대적으로 -1에 가까움"
   ]
  },
  {
   "cell_type": "markdown",
   "id": "db3864e8",
   "metadata": {
    "papermill": {
     "duration": 0.027408,
     "end_time": "2023-12-15T07:23:13.480187",
     "exception": false,
     "start_time": "2023-12-15T07:23:13.452779",
     "status": "completed"
    },
    "tags": []
   },
   "source": [
    "#### 이상치 처리"
   ]
  },
  {
   "cell_type": "code",
   "execution_count": 27,
   "id": "ddac4068",
   "metadata": {
    "execution": {
     "iopub.execute_input": "2023-12-15T07:23:13.537238Z",
     "iopub.status.busy": "2023-12-15T07:23:13.536389Z",
     "iopub.status.idle": "2023-12-15T07:23:13.545990Z",
     "shell.execute_reply": "2023-12-15T07:23:13.544727Z"
    },
    "papermill": {
     "duration": 0.041091,
     "end_time": "2023-12-15T07:23:13.548921",
     "exception": false,
     "start_time": "2023-12-15T07:23:13.507830",
     "status": "completed"
    },
    "tags": []
   },
   "outputs": [
    {
     "data": {
      "text/plain": [
       "80.0"
      ]
     },
     "execution_count": 27,
     "metadata": {},
     "output_type": "execute_result"
    }
   ],
   "source": [
    "max(train_df[train_df['Age'].notnull()]['Age'].values)"
   ]
  },
  {
   "cell_type": "code",
   "execution_count": 28,
   "id": "fb68041b",
   "metadata": {
    "execution": {
     "iopub.execute_input": "2023-12-15T07:23:13.605547Z",
     "iopub.status.busy": "2023-12-15T07:23:13.604959Z",
     "iopub.status.idle": "2023-12-15T07:23:14.280667Z",
     "shell.execute_reply": "2023-12-15T07:23:14.279673Z"
    },
    "papermill": {
     "duration": 0.707299,
     "end_time": "2023-12-15T07:23:14.283669",
     "exception": false,
     "start_time": "2023-12-15T07:23:13.576370",
     "status": "completed"
    },
    "tags": []
   },
   "outputs": [
    {
     "data": {
      "text/plain": [
       "<Axes: xlabel='Age', ylabel='Count'>"
      ]
     },
     "execution_count": 28,
     "metadata": {},
     "output_type": "execute_result"
    },
    {
     "data": {
      "image/png": "[encoded data removed]",
      "text/plain": [
       "<Figure size 640x480 with 1 Axes>"
      ]
     },
     "metadata": {},
     "output_type": "display_data"
    }
   ],
   "source": [
    "# Age histogram 보기\n",
    "sns.histplot(train_df['Age'], bins = 80)"
   ]
  },
  {
   "cell_type": "code",
   "execution_count": 29,
   "id": "5cfc8b3e",
   "metadata": {
    "execution": {
     "iopub.execute_input": "2023-12-15T07:23:14.341660Z",
     "iopub.status.busy": "2023-12-15T07:23:14.340824Z",
     "iopub.status.idle": "2023-12-15T07:23:14.349867Z",
     "shell.execute_reply": "2023-12-15T07:23:14.348632Z"
    },
    "papermill": {
     "duration": 0.04197,
     "end_time": "2023-12-15T07:23:14.352723",
     "exception": false,
     "start_time": "2023-12-15T07:23:14.310753",
     "status": "completed"
    },
    "tags": []
   },
   "outputs": [
    {
     "data": {
      "text/plain": [
       "177"
      ]
     },
     "execution_count": 29,
     "metadata": {},
     "output_type": "execute_result"
    }
   ],
   "source": [
    "train_df['Age'].isnull().sum()"
   ]
  },
  {
   "cell_type": "code",
   "execution_count": 30,
   "id": "8e8fc5fd",
   "metadata": {
    "execution": {
     "iopub.execute_input": "2023-12-15T07:23:14.411390Z",
     "iopub.status.busy": "2023-12-15T07:23:14.410634Z",
     "iopub.status.idle": "2023-12-15T07:23:14.417528Z",
     "shell.execute_reply": "2023-12-15T07:23:14.416549Z"
    },
    "papermill": {
     "duration": 0.038812,
     "end_time": "2023-12-15T07:23:14.420267",
     "exception": false,
     "start_time": "2023-12-15T07:23:14.381455",
     "status": "completed"
    },
    "tags": []
   },
   "outputs": [],
   "source": [
    "# Age 변수의 결측치를 평균 나이로 처리\n",
    "train_df['Age'] = train_df['Age'].fillna(train_df['Age'].mean())"
   ]
  },
  {
   "cell_type": "code",
   "execution_count": 31,
   "id": "bff2779c",
   "metadata": {
    "execution": {
     "iopub.execute_input": "2023-12-15T07:23:14.479332Z",
     "iopub.status.busy": "2023-12-15T07:23:14.477536Z",
     "iopub.status.idle": "2023-12-15T07:23:14.485991Z",
     "shell.execute_reply": "2023-12-15T07:23:14.484963Z"
    },
    "papermill": {
     "duration": 0.041607,
     "end_time": "2023-12-15T07:23:14.489069",
     "exception": false,
     "start_time": "2023-12-15T07:23:14.447462",
     "status": "completed"
    },
    "tags": []
   },
   "outputs": [],
   "source": [
    "# 연령대 나누기: {0-10:0, 10-20:1, 20-30:2, 30-40:3, 40-50:4, 50-:5}\n",
    "train_df['Age'] = train_df['Age'].apply(lambda x: x//10 if x < 50 else 5)"
   ]
  },
  {
   "cell_type": "code",
   "execution_count": 32,
   "id": "9cd2aa54",
   "metadata": {
    "execution": {
     "iopub.execute_input": "2023-12-15T07:23:14.547029Z",
     "iopub.status.busy": "2023-12-15T07:23:14.546468Z",
     "iopub.status.idle": "2023-12-15T07:23:14.807320Z",
     "shell.execute_reply": "2023-12-15T07:23:14.805762Z"
    },
    "papermill": {
     "duration": 0.292887,
     "end_time": "2023-12-15T07:23:14.810369",
     "exception": false,
     "start_time": "2023-12-15T07:23:14.517482",
     "status": "completed"
    },
    "tags": []
   },
   "outputs": [
    {
     "data": {
      "text/plain": [
       "<Axes: ylabel='Fare'>"
      ]
     },
     "execution_count": 32,
     "metadata": {},
     "output_type": "execute_result"
    },
    {
     "data": {
      "image/png": "[encoded data removed]",
      "text/plain": [
       "<Figure size 640x480 with 1 Axes>"
      ]
     },
     "metadata": {},
     "output_type": "display_data"
    }
   ],
   "source": [
    "# Fare 이상치 확인\n",
    "sns.boxplot(y=n_train_df['Fare'],color=colors[1])"
   ]
  },
  {
   "cell_type": "code",
   "execution_count": 33,
   "id": "69752ce3",
   "metadata": {
    "execution": {
     "iopub.execute_input": "2023-12-15T07:23:14.870959Z",
     "iopub.status.busy": "2023-12-15T07:23:14.870232Z",
     "iopub.status.idle": "2023-12-15T07:23:15.146804Z",
     "shell.execute_reply": "2023-12-15T07:23:15.145385Z"
    },
    "papermill": {
     "duration": 0.310662,
     "end_time": "2023-12-15T07:23:15.149710",
     "exception": false,
     "start_time": "2023-12-15T07:23:14.839048",
     "status": "completed"
    },
    "tags": []
   },
   "outputs": [
    {
     "data": {
      "text/plain": [
       "<Axes: ylabel='Fare'>"
      ]
     },
     "execution_count": 33,
     "metadata": {},
     "output_type": "execute_result"
    },
    {
     "data": {
      "image/png": "[encoded data removed]",
      "text/plain": [
       "<Figure size 640x480 with 1 Axes>"
      ]
     },
     "metadata": {},
     "output_type": "display_data"
    }
   ],
   "source": [
    "# 유독 눈에 띄는 데이터 제외 후 다시 이상치 확인\n",
    "a = train_df[train_df['Fare'] != max(train_df['Fare'].values)]\n",
    "sns.boxplot(y=a['Fare'],color=colors[1])\n",
    "# 결과: 여전히 이상치 많음 -> 범주화 시도"
   ]
  },
  {
   "cell_type": "code",
   "execution_count": 34,
   "id": "8608550f",
   "metadata": {
    "execution": {
     "iopub.execute_input": "2023-12-15T07:23:15.209937Z",
     "iopub.status.busy": "2023-12-15T07:23:15.209427Z",
     "iopub.status.idle": "2023-12-15T07:23:15.889193Z",
     "shell.execute_reply": "2023-12-15T07:23:15.887357Z"
    },
    "papermill": {
     "duration": 0.715505,
     "end_time": "2023-12-15T07:23:15.893805",
     "exception": false,
     "start_time": "2023-12-15T07:23:15.178300",
     "status": "completed"
    },
    "tags": []
   },
   "outputs": [
    {
     "data": {
      "text/plain": [
       "<Axes: xlabel='Fare', ylabel='Density'>"
      ]
     },
     "execution_count": 34,
     "metadata": {},
     "output_type": "execute_result"
    },
    {
     "data": {
      "image/png": "[encoded data removed]",
      "text/plain": [
       "<Figure size 640x480 with 1 Axes>"
      ]
     },
     "metadata": {},
     "output_type": "display_data"
    }
   ],
   "source": [
    "sns.kdeplot(a['Fare'],fill=True)"
   ]
  },
  {
   "cell_type": "code",
   "execution_count": 35,
   "id": "990e5c63",
   "metadata": {
    "execution": {
     "iopub.execute_input": "2023-12-15T07:23:15.958917Z",
     "iopub.status.busy": "2023-12-15T07:23:15.957771Z",
     "iopub.status.idle": "2023-12-15T07:23:15.969157Z",
     "shell.execute_reply": "2023-12-15T07:23:15.967487Z"
    },
    "papermill": {
     "duration": 0.047345,
     "end_time": "2023-12-15T07:23:15.972306",
     "exception": false,
     "start_time": "2023-12-15T07:23:15.924961",
     "status": "completed"
    },
    "tags": []
   },
   "outputs": [],
   "source": [
    "# 분포가 몰린 관계로 일정 비율로 Fare 범주화 (요금과 관계있어 보이는 Pclass가 등급이 3개이므로 3분할) {'low':0, 'mid':1, 'high':2}\n",
    "train_df['Fare'] = pd.qcut(train_df['Fare'],3,labels=[0,1,2])"
   ]
  },
  {
   "cell_type": "code",
   "execution_count": 36,
   "id": "c9c50dfb",
   "metadata": {
    "execution": {
     "iopub.execute_input": "2023-12-15T07:23:16.043686Z",
     "iopub.status.busy": "2023-12-15T07:23:16.043001Z",
     "iopub.status.idle": "2023-12-15T07:23:16.854390Z",
     "shell.execute_reply": "2023-12-15T07:23:16.853025Z"
    },
    "papermill": {
     "duration": 0.85649,
     "end_time": "2023-12-15T07:23:16.857785",
     "exception": false,
     "start_time": "2023-12-15T07:23:16.001295",
     "status": "completed"
    },
    "tags": []
   },
   "outputs": [
    {
     "data": {
      "text/plain": [
       "<Axes: xlabel='Parch', ylabel='Count'>"
      ]
     },
     "execution_count": 36,
     "metadata": {},
     "output_type": "execute_result"
    },
    {
     "data": {
      "image/png": "[encoded data removed]",
      "text/plain": [
       "<Figure size 640x480 with 2 Axes>"
      ]
     },
     "metadata": {},
     "output_type": "display_data"
    }
   ],
   "source": [
    "# SibSp와 Parch histogram 보기\n",
    "fig, axes = plt.subplots(1,2)\n",
    "\n",
    "sns.histplot(train_df['SibSp'], bins = 8,ax = axes[0])\n",
    "\n",
    "sns.histplot(train_df['Parch'], bins = 6, ax = axes[1])"
   ]
  },
  {
   "cell_type": "code",
   "execution_count": 37,
   "id": "ec028d28",
   "metadata": {
    "execution": {
     "iopub.execute_input": "2023-12-15T07:23:16.920408Z",
     "iopub.status.busy": "2023-12-15T07:23:16.919950Z",
     "iopub.status.idle": "2023-12-15T07:23:17.174168Z",
     "shell.execute_reply": "2023-12-15T07:23:17.172882Z"
    },
    "papermill": {
     "duration": 0.288689,
     "end_time": "2023-12-15T07:23:17.176897",
     "exception": false,
     "start_time": "2023-12-15T07:23:16.888208",
     "status": "completed"
    },
    "tags": []
   },
   "outputs": [
    {
     "data": {
      "text/plain": [
       "<Axes: >"
      ]
     },
     "execution_count": 37,
     "metadata": {},
     "output_type": "execute_result"
    },
    {
     "data": {
      "image/png": "[encoded data removed]",
      "text/plain": [
       "<Figure size 640x480 with 1 Axes>"
      ]
     },
     "metadata": {},
     "output_type": "display_data"
    }
   ],
   "source": [
    "# 동승자 수 구하고 시각화\n",
    "total = train_df['SibSp']+train_df['Parch']\n",
    "sns.boxplot(y=total,color=colors[1])\n",
    "# 결과: 이상치 여전함 -> 카테고리컬..?"
   ]
  },
  {
   "cell_type": "code",
   "execution_count": null,
   "id": "5d3c4d1a",
   "metadata": {
    "papermill": {
     "duration": 0.029712,
     "end_time": "2023-12-15T07:23:17.236971",
     "exception": false,
     "start_time": "2023-12-15T07:23:17.207259",
     "status": "completed"
    },
    "tags": []
   },
   "outputs": [],
   "source": []
  }
 ],
 "metadata": {
  "kaggle": {
   "accelerator": "none",
   "dataSources": [
    {
     "databundleVersionId": 26502,
     "sourceId": 3136,
     "sourceType": "competition"
    }
   ],
   "dockerImageVersionId": 30615,
   "isGpuEnabled": false,
   "isInternetEnabled": false,
   "language": "python",
   "sourceType": "notebook"
  },
  "kernelspec": {
   "display_name": "Python 3",
   "language": "python",
   "name": "python3"
  },
  "language_info": {
   "codemirror_mode": {
    "name": "ipython",
    "version": 3
   },
   "file_extension": ".py",
   "mimetype": "text/x-python",
   "name": "python",
   "nbconvert_exporter": "python",
   "pygments_lexer": "ipython3",
   "version": "3.10.12"
  },
  "papermill": {
   "default_parameters": {},
   "duration": 19.530557,
   "end_time": "2023-12-15T07:23:18.291332",
   "environment_variables": {},
   "exception": null,
   "input_path": "__notebook__.ipynb",
   "output_path": "__notebook__.ipynb",
   "parameters": {},
   "start_time": "2023-12-15T07:22:58.760775",
   "version": "2.4.0"
  }
 },
 "nbformat": 4,
 "nbformat_minor": 5
}
